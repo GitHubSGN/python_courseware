{
 "cells": [
  {
   "cell_type": "markdown",
   "metadata": {},
   "source": [
    "装饰器"
   ]
  },
  {
   "cell_type": "markdown",
   "metadata": {},
   "source": [
    "# 例子引入\n",
    "## 汉堡"
   ]
  },
  {
   "cell_type": "code",
   "execution_count": 1,
   "metadata": {
    "ExecuteTime": {
     "end_time": "2020-05-18T06:56:48.900648Z",
     "start_time": "2020-05-18T06:56:48.890677Z"
    }
   },
   "outputs": [
    {
     "name": "stdout",
     "output_type": "stream",
     "text": [
      "--鸡肉饼--\n"
     ]
    }
   ],
   "source": [
    "def meat(food = '--鸡肉饼--'):\n",
    "    print(food)\n",
    "    \n",
    "burger = meat\n",
    "burger()"
   ]
  },
  {
   "cell_type": "code",
   "execution_count": 5,
   "metadata": {
    "ExecuteTime": {
     "end_time": "2020-05-18T06:59:11.325515Z",
     "start_time": "2020-05-18T06:59:11.320494Z"
    }
   },
   "outputs": [
    {
     "name": "stdout",
     "output_type": "stream",
     "text": [
      " #西红柿#\n",
      "--鸡肉饼--\n",
      " ~沙拉菜~\n"
     ]
    }
   ],
   "source": [
    "def vegetable(func):\n",
    "    def wrapper():\n",
    "        print(' #西红柿#')\n",
    "        func()\n",
    "        print(' ~沙拉菜~')\n",
    "    return wrapper\n",
    "\n",
    "burger = vegetable(meat)\n",
    "burger()"
   ]
  },
  {
   "cell_type": "code",
   "execution_count": 6,
   "metadata": {
    "ExecuteTime": {
     "end_time": "2020-05-18T07:00:56.291054Z",
     "start_time": "2020-05-18T07:00:56.285070Z"
    }
   },
   "outputs": [
    {
     "name": "stdout",
     "output_type": "stream",
     "text": [
      "</------\\>\n",
      " #西红柿#\n",
      "--鸡肉饼--\n",
      " ~沙拉菜~\n",
      "<\\------/>\n"
     ]
    }
   ],
   "source": [
    "def bread(func):\n",
    "    def wrapper():\n",
    "        print('</------\\>')\n",
    "        func()\n",
    "        print('<\\------/>')\n",
    "    return wrapper\n",
    "\n",
    "burger = bread(vegetable(meat))\n",
    "burger()"
   ]
  },
  {
   "cell_type": "markdown",
   "metadata": {},
   "source": [
    "**要点**：面包和蔬菜「装饰」着鸡肉饼，bread() 和 vegatable() 这两个函数起着「装饰器」的作用，它们没有改变 meat() 函数，只在它的基础上添砖加瓦，最后把鸡肉饼装饰成汉堡。"
   ]
  },
  {
   "cell_type": "markdown",
   "metadata": {},
   "source": [
    "## 装饰器用法"
   ]
  },
  {
   "cell_type": "markdown",
   "metadata": {},
   "source": [
    "下面是装饰器的正规语法，用 @func 语法 (注意@符)，将@bread 和 @vegatable 放在要装饰的函数上面。"
   ]
  },
  {
   "cell_type": "code",
   "execution_count": 8,
   "metadata": {
    "ExecuteTime": {
     "end_time": "2020-05-18T07:05:07.458129Z",
     "start_time": "2020-05-18T07:05:07.454140Z"
    }
   },
   "outputs": [
    {
     "name": "stdout",
     "output_type": "stream",
     "text": [
      "</------\\>\n",
      " #西红柿#\n",
      "--鸡肉饼--\n",
      " ~沙拉菜~\n",
      "<\\------/>\n"
     ]
    }
   ],
   "source": [
    "@bread\n",
    "@vegetable\n",
    "def meat(food='--鸡肉饼--'):\n",
    "    print(food)\n",
    "    \n",
    "burger = meat\n",
    "burger()"
   ]
  },
  {
   "cell_type": "markdown",
   "metadata": {},
   "source": [
    "装饰器是有序的，如下例所示，如果互换 bread() 和 vegatable() 这两函数的位置，那么这汉堡最外层是蔬菜，中间是面包，里面是鸡肉饼，不像汉堡了。"
   ]
  },
  {
   "cell_type": "code",
   "execution_count": 9,
   "metadata": {
    "ExecuteTime": {
     "end_time": "2020-05-18T07:05:54.598684Z",
     "start_time": "2020-05-18T07:05:54.593717Z"
    }
   },
   "outputs": [
    {
     "name": "stdout",
     "output_type": "stream",
     "text": [
      " #西红柿#\n",
      "</------\\>\n",
      "--鸡肉饼--\n",
      "<\\------/>\n",
      " ~沙拉菜~\n"
     ]
    }
   ],
   "source": [
    "@vegetable\n",
    "@bread\n",
    "def meat(food='--鸡肉饼--'):\n",
    "    print(food)\n",
    "    \n",
    "burger = meat\n",
    "burger()"
   ]
  },
  {
   "cell_type": "markdown",
   "metadata": {},
   "source": [
    "**要点**：一个函数可以被多个装饰器装饰，装饰器的顺序很重要。"
   ]
  },
  {
   "cell_type": "markdown",
   "metadata": {},
   "source": [
    "# 函数"
   ]
  },
  {
   "cell_type": "markdown",
   "metadata": {},
   "source": [
    "在 Python 里函数是「一等公民」，我们可以\n",
    "1. 把函数赋值给变量\n",
    "2. 在函数里定义函数\n",
    "3. 在函数里返回函数\n",
    "4. 把函数传递给函数"
   ]
  },
  {
   "cell_type": "markdown",
   "metadata": {},
   "source": [
    "# 装饰器"
   ]
  },
  {
   "cell_type": "markdown",
   "metadata": {},
   "source": [
    "## 闭包到装饰器"
   ]
  },
  {
   "cell_type": "code",
   "execution_count": 1,
   "metadata": {
    "ExecuteTime": {
     "end_time": "2020-05-18T07:09:58.487775Z",
     "start_time": "2020-05-18T07:09:58.483782Z"
    }
   },
   "outputs": [],
   "source": [
    "def outer_func(msg):\n",
    "    def inner_func():\n",
    "        print(msg)\n",
    "    return inner_func"
   ]
  },
  {
   "cell_type": "markdown",
   "metadata": {},
   "source": [
    "内部函数 inner_func() 可以使用外部函数 outer_func() 的参数 msg (注意 msg 不在自己定义范围内)，最后返回内部函数的对象 inner_func。"
   ]
  },
  {
   "cell_type": "code",
   "execution_count": 12,
   "metadata": {
    "ExecuteTime": {
     "end_time": "2020-05-18T07:10:39.428040Z",
     "start_time": "2020-05-18T07:10:39.424049Z"
    }
   },
   "outputs": [],
   "source": [
    "hi_func = outer_func('Hi')\n",
    "bye_func = outer_func('Bye')"
   ]
  },
  {
   "cell_type": "markdown",
   "metadata": {},
   "source": [
    "接下来，我们\n",
    "1. 将 outer_func() 改成 decorator_func()\n",
    "2. 将 inner_func() 改成 wrapper_func()"
   ]
  },
  {
   "cell_type": "code",
   "execution_count": 13,
   "metadata": {
    "ExecuteTime": {
     "end_time": "2020-05-18T07:11:29.386118Z",
     "start_time": "2020-05-18T07:11:29.382129Z"
    }
   },
   "outputs": [],
   "source": [
    "def decorator_func(msg):\n",
    "    def wrapper_func():\n",
    "        print(msg)\n",
    "    return wrapper_func"
   ]
  },
  {
   "cell_type": "markdown",
   "metadata": {},
   "source": [
    "这就是装饰器，它返回 wrapper_func 对象，随时等着被调用，一旦被调用就运行 print(msg) 而打印出 msg。\n",
    "\n",
    "等等，严格来说，对于装饰器，参数是函数而不是变量 (1.4 节讲了函数可以当成参数传递给另一个函数)。"
   ]
  },
  {
   "cell_type": "code",
   "execution_count": 2,
   "metadata": {
    "ExecuteTime": {
     "end_time": "2020-05-18T07:12:23.047536Z",
     "start_time": "2020-05-18T07:12:23.041560Z"
    }
   },
   "outputs": [],
   "source": [
    "def decorator_func(func):\n",
    "    def wrapper_func():\n",
    "        return func()\n",
    "    return wrapper_func"
   ]
  },
  {
   "cell_type": "markdown",
   "metadata": {},
   "source": [
    "## 装饰器初体验"
   ]
  },
  {
   "cell_type": "code",
   "execution_count": 3,
   "metadata": {
    "ExecuteTime": {
     "end_time": "2020-05-18T07:13:31.153064Z",
     "start_time": "2020-05-18T07:13:31.148078Z"
    }
   },
   "outputs": [
    {
     "name": "stdout",
     "output_type": "stream",
     "text": [
      "Run display function\n"
     ]
    }
   ],
   "source": [
    "def display():\n",
    "    print('Run display function')    \n",
    "\n",
    "decorated_display = decorator_func(display)\n",
    "decorated_display()"
   ]
  },
  {
   "cell_type": "markdown",
   "metadata": {},
   "source": [
    "但装饰器的特性是给原函数做装饰，但不改变原函数里的内容，比如下面代码第 3 行，我们希望在运行原函数 func() 之前，输出原函数的名字 (用 __name__属性)。"
   ]
  },
  {
   "cell_type": "code",
   "execution_count": 17,
   "metadata": {
    "ExecuteTime": {
     "end_time": "2020-05-18T07:15:02.654839Z",
     "start_time": "2020-05-18T07:15:02.649882Z"
    }
   },
   "outputs": [
    {
     "name": "stdout",
     "output_type": "stream",
     "text": [
      "Executed before display\n",
      "Run display function\n"
     ]
    }
   ],
   "source": [
    "def decorator_func(func):\n",
    "    def wrapper_func():\n",
    "        print('Executed before {}'.format(func.__name__))\n",
    "        return func()\n",
    "    return wrapper_func\n",
    "\n",
    "decorated_display = decorator_func(display)\n",
    "decorated_display()"
   ]
  },
  {
   "cell_type": "markdown",
   "metadata": {},
   "source": [
    "但是，每次这样调用装饰器太过繁琐。Python 里有一种等价语法。把 @decorator_func 写在被装饰的函数上面即可，代码如下。"
   ]
  },
  {
   "cell_type": "code",
   "execution_count": 18,
   "metadata": {
    "ExecuteTime": {
     "end_time": "2020-05-18T07:15:52.986279Z",
     "start_time": "2020-05-18T07:15:52.981320Z"
    }
   },
   "outputs": [],
   "source": [
    "@decorator_func\n",
    "def display():\n",
    "    print('Run display function')"
   ]
  },
  {
   "cell_type": "markdown",
   "metadata": {},
   "source": [
    "等价于：（语法糖）"
   ]
  },
  {
   "cell_type": "code",
   "execution_count": null,
   "metadata": {},
   "outputs": [],
   "source": [
    "display = decorator_func(display)"
   ]
  },
  {
   "cell_type": "code",
   "execution_count": 19,
   "metadata": {
    "ExecuteTime": {
     "end_time": "2020-05-18T07:16:35.344925Z",
     "start_time": "2020-05-18T07:16:35.340937Z"
    }
   },
   "outputs": [
    {
     "name": "stdout",
     "output_type": "stream",
     "text": [
      "Executed before display\n",
      "Run display function\n"
     ]
    }
   ],
   "source": [
    "display()"
   ]
  },
  {
   "cell_type": "markdown",
   "metadata": {},
   "source": [
    "## 装饰器知识点"
   ]
  },
  {
   "cell_type": "markdown",
   "metadata": {},
   "source": [
    "在本节我们了解几个装饰器的知识点：\n",
    "1. 多个装饰器来装饰一个函数\n",
    "2. 传递参数给装饰函数 (wrapper function)\n",
    "3. functools.wraps 的用法\n",
    "4. 传递参数装饰器 (decorator) "
   ]
  },
  {
   "cell_type": "markdown",
   "metadata": {},
   "source": [
    "### 多个装饰器"
   ]
  },
  {
   "cell_type": "code",
   "execution_count": 20,
   "metadata": {
    "ExecuteTime": {
     "end_time": "2020-05-18T07:51:00.992103Z",
     "start_time": "2020-05-18T07:51:00.988114Z"
    }
   },
   "outputs": [],
   "source": [
    "def slogan():\n",
    "    return 'I love Python'"
   ]
  },
  {
   "cell_type": "code",
   "execution_count": 21,
   "metadata": {
    "ExecuteTime": {
     "end_time": "2020-05-18T07:51:38.406329Z",
     "start_time": "2020-05-18T07:51:38.402340Z"
    }
   },
   "outputs": [],
   "source": [
    "def uppercase_decorator(func):\n",
    "    def wrapper():\n",
    "        return func().upper()\n",
    "    return wrapper"
   ]
  },
  {
   "cell_type": "code",
   "execution_count": 22,
   "metadata": {
    "ExecuteTime": {
     "end_time": "2020-05-18T07:51:55.825762Z",
     "start_time": "2020-05-18T07:51:55.821739Z"
    }
   },
   "outputs": [],
   "source": [
    "def split_decorator(func):\n",
    "    def wrapper():\n",
    "        return func().split()\n",
    "    return wrapper"
   ]
  },
  {
   "cell_type": "code",
   "execution_count": 23,
   "metadata": {
    "ExecuteTime": {
     "end_time": "2020-05-18T07:52:12.452221Z",
     "start_time": "2020-05-18T07:52:12.449228Z"
    }
   },
   "outputs": [],
   "source": [
    "@split_decorator\n",
    "@uppercase_decorator\n",
    "def slogan():\n",
    "    return 'I love Python'"
   ]
  },
  {
   "cell_type": "code",
   "execution_count": 24,
   "metadata": {
    "ExecuteTime": {
     "end_time": "2020-05-18T07:52:17.866917Z",
     "start_time": "2020-05-18T07:52:17.850981Z"
    }
   },
   "outputs": [
    {
     "data": {
      "text/plain": [
       "['I', 'LOVE', 'PYTHON']"
      ]
     },
     "execution_count": 24,
     "metadata": {},
     "output_type": "execute_result"
    }
   ],
   "source": [
    "slogan()"
   ]
  },
  {
   "cell_type": "markdown",
   "metadata": {},
   "source": [
    "等价于"
   ]
  },
  {
   "cell_type": "code",
   "execution_count": 25,
   "metadata": {
    "ExecuteTime": {
     "end_time": "2020-05-18T07:52:52.756202Z",
     "start_time": "2020-05-18T07:52:52.753179Z"
    }
   },
   "outputs": [],
   "source": [
    "slogan = split_decorator(uppercase_decorator(slogan))"
   ]
  },
  {
   "cell_type": "markdown",
   "metadata": {},
   "source": [
    "### 传递参数给装饰函数 (wrapper function)"
   ]
  },
  {
   "cell_type": "markdown",
   "metadata": {},
   "source": [
    "首先看一个没有参数的 wrapper() 的例子。 "
   ]
  },
  {
   "cell_type": "code",
   "execution_count": 26,
   "metadata": {
    "ExecuteTime": {
     "end_time": "2020-05-18T07:55:57.975591Z",
     "start_time": "2020-05-18T07:55:57.965585Z"
    }
   },
   "outputs": [
    {
     "name": "stdout",
     "output_type": "stream",
     "text": [
      "Before calling func\n",
      "calling func\n",
      "After calling func\n"
     ]
    }
   ],
   "source": [
    "def my_logger(func):\n",
    "    def wrapper():\n",
    "        name = func.__name__\n",
    "        print('Before calling {}'.format(name))\n",
    "        func()\n",
    "        print('After calling {}'.format(name))\n",
    "    return wrapper\n",
    "\n",
    "@my_logger\n",
    "def func():\n",
    "    print('calling func')\n",
    "    \n",
    "func()"
   ]
  },
  {
   "cell_type": "code",
   "execution_count": 27,
   "metadata": {
    "ExecuteTime": {
     "end_time": "2020-05-18T07:58:31.494607Z",
     "start_time": "2020-05-18T07:58:31.487626Z"
    }
   },
   "outputs": [
    {
     "name": "stdout",
     "output_type": "stream",
     "text": [
      "Before calling add\n",
      "After calling add\n"
     ]
    },
    {
     "data": {
      "text/plain": [
       "3"
      ]
     },
     "execution_count": 27,
     "metadata": {},
     "output_type": "execute_result"
    }
   ],
   "source": [
    "def my_logger(func):\n",
    "    def wrapper( arg1, arg2 ):\n",
    "        name = func.__name__\n",
    "        print('Before calling {}'.format(name))\n",
    "        result = func( arg1, arg2 )\n",
    "        print('After calling {}'.format(name))\n",
    "        return result\n",
    "    return wrapper\n",
    "\n",
    "@my_logger\n",
    "def add(a,b):\n",
    "    return a+b\n",
    "\n",
    "add(1,2)"
   ]
  },
  {
   "cell_type": "code",
   "execution_count": 28,
   "metadata": {
    "ExecuteTime": {
     "end_time": "2020-05-18T07:59:19.458927Z",
     "start_time": "2020-05-18T07:59:19.453964Z"
    }
   },
   "outputs": [],
   "source": [
    "def my_logger(func):\n",
    "    def wrapper( *args ):\n",
    "        name = func.__name__\n",
    "        print('Before calling {}'.format(name))\n",
    "        result = func( *args )\n",
    "        print('After calling {}'.format(name))\n",
    "        return result\n",
    "    return wrapper"
   ]
  },
  {
   "cell_type": "code",
   "execution_count": 29,
   "metadata": {
    "ExecuteTime": {
     "end_time": "2020-05-18T07:59:38.216687Z",
     "start_time": "2020-05-18T07:59:38.210703Z"
    }
   },
   "outputs": [
    {
     "name": "stdout",
     "output_type": "stream",
     "text": [
      "Before calling add\n",
      "After calling add\n"
     ]
    },
    {
     "data": {
      "text/plain": [
       "6"
      ]
     },
     "execution_count": 29,
     "metadata": {},
     "output_type": "execute_result"
    }
   ],
   "source": [
    "@my_logger\n",
    "def add(a,b,c):\n",
    "    return a+b+c\n",
    "\n",
    "add(1,2,3)"
   ]
  },
  {
   "cell_type": "code",
   "execution_count": 31,
   "metadata": {
    "ExecuteTime": {
     "end_time": "2020-05-18T08:00:24.475886Z",
     "start_time": "2020-05-18T08:00:24.469902Z"
    }
   },
   "outputs": [
    {
     "name": "stdout",
     "output_type": "stream",
     "text": [
      "Before calling add\n",
      "After calling add\n"
     ]
    },
    {
     "data": {
      "text/plain": [
       "15"
      ]
     },
     "execution_count": 31,
     "metadata": {},
     "output_type": "execute_result"
    }
   ],
   "source": [
    "@my_logger\n",
    "def add(a,b,c,d,e):\n",
    "    return a+b+c+d+e\n",
    "\n",
    "add(1,2,3,4,5)"
   ]
  },
  {
   "cell_type": "code",
   "execution_count": 32,
   "metadata": {
    "ExecuteTime": {
     "end_time": "2020-05-18T08:00:29.467237Z",
     "start_time": "2020-05-18T08:00:29.462251Z"
    }
   },
   "outputs": [],
   "source": [
    "def my_logger(func):\n",
    "    def wrapper( *args, **kwargs ):\n",
    "        name = func.__name__\n",
    "        print('Before calling {}'.format(name))\n",
    "        result = func( *args, **kwargs )\n",
    "        print('After calling {}'.format(name))\n",
    "        return result\n",
    "    return wrapper"
   ]
  },
  {
   "cell_type": "markdown",
   "metadata": {},
   "source": [
    "### functools.wraps 的用法"
   ]
  },
  {
   "cell_type": "markdown",
   "metadata": {},
   "source": [
    "在装饰器里，装饰之后的函数的名称会弄乱。比如一个简单的函数 f()，它的名称就是 f (用 __name__)。"
   ]
  },
  {
   "cell_type": "code",
   "execution_count": 33,
   "metadata": {
    "ExecuteTime": {
     "end_time": "2020-05-18T08:10:43.561007Z",
     "start_time": "2020-05-18T08:10:43.557051Z"
    }
   },
   "outputs": [
    {
     "name": "stdout",
     "output_type": "stream",
     "text": [
      "f\n"
     ]
    }
   ],
   "source": [
    "def f():\n",
    "    pass\n",
    "\n",
    "print(f.__name__)"
   ]
  },
  {
   "cell_type": "code",
   "execution_count": 34,
   "metadata": {
    "ExecuteTime": {
     "end_time": "2020-05-18T08:11:47.517284Z",
     "start_time": "2020-05-18T08:11:47.510381Z"
    }
   },
   "outputs": [
    {
     "name": "stdout",
     "output_type": "stream",
     "text": [
      "wrapper\n"
     ]
    }
   ],
   "source": [
    "def decorator(func):\n",
    "    def wrapper():\n",
    "        func()\n",
    "    return wrapper\n",
    "\n",
    "@decorator\n",
    "def f():\n",
    "    pass\n",
    "\n",
    "print(f.__name__)"
   ]
  },
  {
   "cell_type": "code",
   "execution_count": 35,
   "metadata": {
    "ExecuteTime": {
     "end_time": "2020-05-18T08:12:28.567750Z",
     "start_time": "2020-05-18T08:12:28.562731Z"
    }
   },
   "outputs": [
    {
     "name": "stdout",
     "output_type": "stream",
     "text": [
      "f\n"
     ]
    }
   ],
   "source": [
    "from functools import wraps\n",
    "\n",
    "def decorator(func):\n",
    "    @wraps(func)\n",
    "    def wrapper():\n",
    "        return func()\n",
    "    return wrapper\n",
    "\n",
    "@decorator\n",
    "def f():\n",
    "    pass\n",
    "\n",
    "print(f.__name__)"
   ]
  },
  {
   "cell_type": "markdown",
   "metadata": {},
   "source": [
    "### 传递参数装饰器 (decorator) "
   ]
  },
  {
   "cell_type": "code",
   "execution_count": 36,
   "metadata": {
    "ExecuteTime": {
     "end_time": "2020-05-18T08:13:15.788930Z",
     "start_time": "2020-05-18T08:13:15.784941Z"
    }
   },
   "outputs": [],
   "source": [
    "def money_format(func):\n",
    "    def wrapper(*args, **kwargs):\n",
    "        r = func(*args, **kwargs)\n",
    "        formatted = '{:.2f}'.format(r)\n",
    "        return formatted\n",
    "    return wrapper"
   ]
  },
  {
   "cell_type": "code",
   "execution_count": 38,
   "metadata": {
    "ExecuteTime": {
     "end_time": "2020-05-18T08:14:34.729680Z",
     "start_time": "2020-05-18T08:14:34.723695Z"
    }
   },
   "outputs": [
    {
     "data": {
      "text/plain": [
       "'200.45'"
      ]
     },
     "execution_count": 38,
     "metadata": {},
     "output_type": "execute_result"
    }
   ],
   "source": [
    "@money_format\n",
    "def add( PV1, PV2 ):\n",
    "    return PV1 + PV2\n",
    "\n",
    "add(100, 100.4545)"
   ]
  },
  {
   "cell_type": "code",
   "execution_count": 39,
   "metadata": {
    "ExecuteTime": {
     "end_time": "2020-05-18T08:16:30.114862Z",
     "start_time": "2020-05-18T08:16:30.107883Z"
    }
   },
   "outputs": [
    {
     "data": {
      "text/plain": [
       "'200.45 USD'"
      ]
     },
     "execution_count": 39,
     "metadata": {},
     "output_type": "execute_result"
    }
   ],
   "source": [
    "def currency_unit(curr):\n",
    "    def money_format(func):\n",
    "        def wrapper(*args, **kwargs):\n",
    "            r = func(*args, **kwargs)\n",
    "            formatted = '{:.2f}'.format(r) + ' ' + curr\n",
    "            return formatted\n",
    "        return wrapper\n",
    "    return money_format\n",
    "\n",
    "\n",
    "@currency_unit('USD')\n",
    "def add( PV1, PV2 ):\n",
    "    return PV1 + PV2\n",
    "\n",
    "add(100, 100.4545)"
   ]
  },
  {
   "cell_type": "code",
   "execution_count": 41,
   "metadata": {
    "ExecuteTime": {
     "end_time": "2020-05-18T08:16:53.928175Z",
     "start_time": "2020-05-18T08:16:53.923155Z"
    }
   },
   "outputs": [
    {
     "data": {
      "text/plain": [
       "'300.45 CNY'"
      ]
     },
     "execution_count": 41,
     "metadata": {},
     "output_type": "execute_result"
    }
   ],
   "source": [
    "@currency_unit('CNY')\n",
    "def add( PV1, PV2, PV3 ):\n",
    "    return PV1 + PV2 + PV3\n",
    "\n",
    "add(100, 100, 100.4545)"
   ]
  },
  {
   "cell_type": "markdown",
   "metadata": {},
   "source": [
    "# 总结"
   ]
  },
  {
   "cell_type": "markdown",
   "metadata": {},
   "source": [
    "装饰器就是「接受函数为参数」并「返回函数为输出」的函数。\n",
    "\n",
    "1. 装饰器不会更改参数函数里的内容。\n",
    "2. 装饰器返回的其实是函数对象。\n",
    "3. 装饰器本质就是个函数。\n",
    "\n",
    "就装饰器定义里面有这么多函数出现，要想理解装饰器，一定要理解好函数 (本贴第 1 节的内容)。"
   ]
  }
 ],
 "metadata": {
  "kernelspec": {
   "display_name": "Python 3",
   "language": "python",
   "name": "python3"
  },
  "language_info": {
   "codemirror_mode": {
    "name": "ipython",
    "version": 3
   },
   "file_extension": ".py",
   "mimetype": "text/x-python",
   "name": "python",
   "nbconvert_exporter": "python",
   "pygments_lexer": "ipython3",
   "version": "3.7.6"
  },
  "toc": {
   "base_numbering": 1,
   "nav_menu": {},
   "number_sections": true,
   "sideBar": true,
   "skip_h1_title": false,
   "title_cell": "Table of Contents",
   "title_sidebar": "Contents",
   "toc_cell": false,
   "toc_position": {
    "height": "calc(100% - 180px)",
    "left": "10px",
    "top": "150px",
    "width": "307.2px"
   },
   "toc_section_display": true,
   "toc_window_display": true
  }
 },
 "nbformat": 4,
 "nbformat_minor": 2
}
