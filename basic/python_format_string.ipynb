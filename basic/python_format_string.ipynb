{
 "cells": [
  {
   "cell_type": "code",
   "execution_count": 5,
   "metadata": {
    "ExecuteTime": {
     "end_time": "2020-05-19T01:10:47.661060Z",
     "start_time": "2020-05-19T01:10:47.655912Z"
    }
   },
   "outputs": [],
   "source": [
    "from IPython.core.interactiveshell import InteractiveShell\n",
    "InteractiveShell.ast_node_interactivity = \"all\""
   ]
  },
  {
   "cell_type": "markdown",
   "metadata": {},
   "source": [
    "格式化字符串（string formatting）是以指定输出参数格式和相对位置来“美化”字符串。输出参数格式包括数字的小数点位数、字符串大小写等，相对位置标注出被格式化的词是在句中的位置。比如"
   ]
  },
  {
   "cell_type": "code",
   "execution_count": 1,
   "metadata": {
    "ExecuteTime": {
     "end_time": "2020-05-19T00:45:16.686499Z",
     "start_time": "2020-05-19T00:45:16.676526Z"
    }
   },
   "outputs": [
    {
     "name": "stdout",
     "output_type": "stream",
     "text": [
      "It costs 123.46.\n"
     ]
    }
   ],
   "source": [
    "print('It costs %.2f.' % (123.456))"
   ]
  },
  {
   "cell_type": "markdown",
   "metadata": {},
   "source": [
    "格式化字符串有四种方法：\n",
    "1. 用 % 字符 (上面用的)\n",
    "2. 用 $ 字符\n",
    "3. 用 format() 函数\n",
    "4. 用 f-string"
   ]
  },
  {
   "cell_type": "markdown",
   "metadata": {},
   "source": [
    "# 四种用法"
   ]
  },
  {
   "cell_type": "code",
   "execution_count": 2,
   "metadata": {
    "ExecuteTime": {
     "end_time": "2020-05-19T00:47:01.898345Z",
     "start_time": "2020-05-19T00:47:01.881421Z"
    }
   },
   "outputs": [
    {
     "data": {
      "text/plain": [
       "'On 04 Mar 2020, the market cap of Alibaba is 553789 mio USD.'"
      ]
     },
     "execution_count": 2,
     "metadata": {},
     "output_type": "execute_result"
    }
   ],
   "source": [
    "s = 'On 04 Mar 2020, the market cap of Alibaba is 553789 mio USD.'\n",
    "s"
   ]
  },
  {
   "cell_type": "code",
   "execution_count": 3,
   "metadata": {
    "ExecuteTime": {
     "end_time": "2020-05-19T01:01:35.571577Z",
     "start_time": "2020-05-19T01:01:35.566590Z"
    }
   },
   "outputs": [],
   "source": [
    "Mcap = 553789\n",
    "curr = 'USD'"
   ]
  },
  {
   "cell_type": "code",
   "execution_count": 7,
   "metadata": {
    "ExecuteTime": {
     "end_time": "2020-05-19T01:14:19.762763Z",
     "start_time": "2020-05-19T01:14:19.742848Z"
    }
   },
   "outputs": [
    {
     "data": {
      "text/plain": [
       "'The market cap of Alibaba is 553789 mio USD.'"
      ]
     },
     "execution_count": 7,
     "metadata": {},
     "output_type": "execute_result"
    },
    {
     "data": {
      "text/plain": [
       "'The market cap of Alibaba is 553789 mio USD.'"
      ]
     },
     "execution_count": 7,
     "metadata": {},
     "output_type": "execute_result"
    },
    {
     "data": {
      "text/plain": [
       "'The market cap of Alibaba is 553789 mio USD.'"
      ]
     },
     "execution_count": 7,
     "metadata": {},
     "output_type": "execute_result"
    },
    {
     "data": {
      "text/plain": [
       "'The market cap of Alibaba is 553789 mio USD.'"
      ]
     },
     "execution_count": 7,
     "metadata": {},
     "output_type": "execute_result"
    }
   ],
   "source": [
    "# %\n",
    "'The market cap of Alibaba is %d mio %s.' % (Mcap, curr)\n",
    "\n",
    "# $\n",
    "from string import Template\n",
    "info = dict(Mcap=Mcap, curr=curr)\n",
    "Template('The market cap of Alibaba is $Mcap mio $curr.').substitute(info)\n",
    "\n",
    "# format\n",
    "'The market cap of Alibaba is {} mio {}.'.format(Mcap, curr)\n",
    "\n",
    "# fstring\n",
    "f'The market cap of Alibaba is {Mcap} mio {curr}.'"
   ]
  },
  {
   "cell_type": "markdown",
   "metadata": {},
   "source": [
    "# format v.s. fstring"
   ]
  },
  {
   "cell_type": "markdown",
   "metadata": {},
   "source": [
    "本节是两强相争，format() 函数和 f-string，它们两个能做的事几乎一样，比如都能接收字典型数据、列表型数据、类数据；都能给数字型变量保留小数点，加分隔符；都能个性化日期型变量，等等。"
   ]
  },
  {
   "cell_type": "markdown",
   "metadata": {},
   "source": [
    "## 字典数据"
   ]
  },
  {
   "cell_type": "code",
   "execution_count": 14,
   "metadata": {
    "ExecuteTime": {
     "end_time": "2020-05-19T01:37:21.403887Z",
     "start_time": "2020-05-19T01:37:21.382977Z"
    }
   },
   "outputs": [
    {
     "data": {
      "text/plain": [
       "{'Mcap': 553789, 'curr': 'USD'}"
      ]
     },
     "execution_count": 14,
     "metadata": {},
     "output_type": "execute_result"
    },
    {
     "data": {
      "text/plain": [
       "'The market cap of Alibaba is 553789 mio USD.'"
      ]
     },
     "execution_count": 14,
     "metadata": {},
     "output_type": "execute_result"
    },
    {
     "data": {
      "text/plain": [
       "'The market cap of Alibaba is 553789 mio USD.'"
      ]
     },
     "execution_count": 14,
     "metadata": {},
     "output_type": "execute_result"
    },
    {
     "data": {
      "text/plain": [
       "'The market cap of Alibaba is 553789 mio USD.'"
      ]
     },
     "execution_count": 14,
     "metadata": {},
     "output_type": "execute_result"
    },
    {
     "data": {
      "text/plain": [
       "'The market cap of Alibaba is 553789 mio USD.'"
      ]
     },
     "execution_count": 14,
     "metadata": {},
     "output_type": "execute_result"
    }
   ],
   "source": [
    "# dict\n",
    "info = dict(Mcap=Mcap, curr=curr)\n",
    "info\n",
    "'The market cap of Alibaba is {} mio {}.'.format(info['Mcap'], info['curr'])\n",
    "'The market cap of Alibaba is {0} mio {1}.'.format(info['Mcap'], info['curr'])\n",
    "'The market cap of Alibaba is {0[Mcap]} mio {0[curr]}.'.format(info)\n",
    "f\"The market cap of Alibaba is {info['Mcap']} mio {info['curr']}.\""
   ]
  },
  {
   "cell_type": "markdown",
   "metadata": {},
   "source": [
    "## 关键字"
   ]
  },
  {
   "cell_type": "code",
   "execution_count": 15,
   "metadata": {
    "ExecuteTime": {
     "end_time": "2020-05-19T01:37:24.127604Z",
     "start_time": "2020-05-19T01:37:24.120855Z"
    }
   },
   "outputs": [
    {
     "data": {
      "text/plain": [
       "'The market cap of Alibaba is 553789 mio USD.'"
      ]
     },
     "execution_count": 15,
     "metadata": {},
     "output_type": "execute_result"
    }
   ],
   "source": [
    "# keyword\n",
    "'The market cap of Alibaba is {Mcap} mio {curr}.'.format(**info)"
   ]
  },
  {
   "cell_type": "markdown",
   "metadata": {},
   "source": [
    "## 列表"
   ]
  },
  {
   "cell_type": "code",
   "execution_count": 16,
   "metadata": {
    "ExecuteTime": {
     "end_time": "2020-05-19T01:37:48.729133Z",
     "start_time": "2020-05-19T01:37:48.715173Z"
    }
   },
   "outputs": [
    {
     "data": {
      "text/plain": [
       "[553789, 'USD']"
      ]
     },
     "execution_count": 16,
     "metadata": {},
     "output_type": "execute_result"
    },
    {
     "data": {
      "text/plain": [
       "'The market cap of Alibaba is 553789 mio USD.'"
      ]
     },
     "execution_count": 16,
     "metadata": {},
     "output_type": "execute_result"
    },
    {
     "data": {
      "text/plain": [
       "'The market cap of Alibaba is 553789 mio USD.'"
      ]
     },
     "execution_count": 16,
     "metadata": {},
     "output_type": "execute_result"
    }
   ],
   "source": [
    "# list\n",
    "info = [Mcap, curr]\n",
    "info\n",
    "'The market cap of Alibaba is {0[0]} mio {0[1]}.'.format(info)\n",
    "f\"The market cap of Alibaba is {info[0]} mio {info[1]}.\""
   ]
  },
  {
   "cell_type": "markdown",
   "metadata": {},
   "source": [
    "## 类数据"
   ]
  },
  {
   "cell_type": "code",
   "execution_count": 17,
   "metadata": {
    "ExecuteTime": {
     "end_time": "2020-05-19T01:38:09.534411Z",
     "start_time": "2020-05-19T01:38:09.517459Z"
    }
   },
   "outputs": [
    {
     "data": {
      "text/plain": [
       "<__main__.Info at 0x2706ed50388>"
      ]
     },
     "execution_count": 17,
     "metadata": {},
     "output_type": "execute_result"
    },
    {
     "data": {
      "text/plain": [
       "'The market cap of Alibaba is 553789 mio USD.'"
      ]
     },
     "execution_count": 17,
     "metadata": {},
     "output_type": "execute_result"
    },
    {
     "data": {
      "text/plain": [
       "'The market cap of Alibaba is 553789 mio USD.'"
      ]
     },
     "execution_count": 17,
     "metadata": {},
     "output_type": "execute_result"
    }
   ],
   "source": [
    "# class\n",
    "class Info():\n",
    "    def __init__(self, Mcap, curr):\n",
    "        self.Mcap = Mcap\n",
    "        self.curr = curr\n",
    "info = Info(Mcap, curr)\n",
    "info\n",
    "'The market cap of Alibaba is {0.Mcap} mio {0.curr}.'.format(info)\n",
    "f\"The market cap of Alibaba is {info.Mcap} mio {info.curr}.\""
   ]
  },
  {
   "cell_type": "markdown",
   "metadata": {},
   "source": [
    "## 每三位数加逗号"
   ]
  },
  {
   "cell_type": "code",
   "execution_count": 19,
   "metadata": {
    "ExecuteTime": {
     "end_time": "2020-05-19T01:38:59.441820Z",
     "start_time": "2020-05-19T01:38:59.427142Z"
    }
   },
   "outputs": [
    {
     "data": {
      "text/plain": [
       "{'Mcap': 553789, 'curr': 'USD'}"
      ]
     },
     "execution_count": 19,
     "metadata": {},
     "output_type": "execute_result"
    },
    {
     "data": {
      "text/plain": [
       "'The market cap of Alibaba is 553,789 mio USD.'"
      ]
     },
     "execution_count": 19,
     "metadata": {},
     "output_type": "execute_result"
    },
    {
     "data": {
      "text/plain": [
       "'The market cap of Alibaba is 553,789 mio USD.'"
      ]
     },
     "execution_count": 19,
     "metadata": {},
     "output_type": "execute_result"
    }
   ],
   "source": [
    "info = dict(Mcap=Mcap, curr=curr)\n",
    "info\n",
    "'The market cap of Alibaba is {0:,} mio {1}.'.format(info['Mcap'], info['curr'])\n",
    "f\"The market cap of Alibaba is {info['Mcap']:,} mio {info['curr']}.\""
   ]
  },
  {
   "cell_type": "markdown",
   "metadata": {},
   "source": [
    "## 换算单位"
   ]
  },
  {
   "cell_type": "markdown",
   "metadata": {},
   "source": [
    "现在加入我们想把百万（mio）单位换算成十亿（bio），需要在市值 553789 上除以 1000。"
   ]
  },
  {
   "cell_type": "code",
   "execution_count": 20,
   "metadata": {
    "ExecuteTime": {
     "end_time": "2020-05-19T01:39:28.344082Z",
     "start_time": "2020-05-19T01:39:28.327682Z"
    }
   },
   "outputs": [
    {
     "data": {
      "text/plain": [
       "{'Mcap': 553789, 'curr': 'USD', 'unit': 'bio'}"
      ]
     },
     "execution_count": 20,
     "metadata": {},
     "output_type": "execute_result"
    },
    {
     "data": {
      "text/plain": [
       "'The market cap of Alibaba is 553.789 bio USD.'"
      ]
     },
     "execution_count": 20,
     "metadata": {},
     "output_type": "execute_result"
    },
    {
     "data": {
      "text/plain": [
       "'The market cap of Alibaba is 553.789 bio USD.'"
      ]
     },
     "execution_count": 20,
     "metadata": {},
     "output_type": "execute_result"
    }
   ],
   "source": [
    "info = dict(Mcap=Mcap, curr=curr, unit='bio')\n",
    "info\n",
    "'The market cap of Alibaba is {0:,} {1} {2}.'.format(info['Mcap']/1000, info['unit'], info['curr'])\n",
    "f\"The market cap of Alibaba is {info['Mcap']/1000:,} {info['unit']} {info['curr']}.\""
   ]
  },
  {
   "cell_type": "markdown",
   "metadata": {},
   "source": [
    "## 保留小数点数"
   ]
  },
  {
   "cell_type": "code",
   "execution_count": 22,
   "metadata": {
    "ExecuteTime": {
     "end_time": "2020-05-19T01:43:05.292528Z",
     "start_time": "2020-05-19T01:43:05.280939Z"
    }
   },
   "outputs": [
    {
     "data": {
      "text/plain": [
       "'The market cap of Alibaba is 553.79 bio USD.'"
      ]
     },
     "execution_count": 22,
     "metadata": {},
     "output_type": "execute_result"
    },
    {
     "data": {
      "text/plain": [
       "'The market cap of Alibaba is 553.79 bio USD.'"
      ]
     },
     "execution_count": 22,
     "metadata": {},
     "output_type": "execute_result"
    }
   ],
   "source": [
    "'The market cap of Alibaba is {0:,.2f} {1} {2}.'.format(info['Mcap']/1000, info['unit'], info['curr'])\n",
    "f\"The market cap of Alibaba is {info['Mcap']/1000:,.2f} {info['unit']} {info['curr']}.\""
   ]
  },
  {
   "cell_type": "markdown",
   "metadata": {},
   "source": [
    "## 加入日期"
   ]
  },
  {
   "cell_type": "code",
   "execution_count": 23,
   "metadata": {
    "ExecuteTime": {
     "end_time": "2020-05-19T01:44:20.259300Z",
     "start_time": "2020-05-19T01:44:20.235504Z"
    }
   },
   "outputs": [
    {
     "data": {
      "text/plain": [
       "{'date': datetime.datetime(2020, 3, 4, 0, 0),\n",
       " 'Mcap': 553789,\n",
       " 'curr': 'USD',\n",
       " 'unit': 'bio'}"
      ]
     },
     "execution_count": 23,
     "metadata": {},
     "output_type": "execute_result"
    },
    {
     "data": {
      "text/plain": [
       "'On 2020-03-04 00:00:00, the market cap of Alibaba is 554 bio USD.'"
      ]
     },
     "execution_count": 23,
     "metadata": {},
     "output_type": "execute_result"
    },
    {
     "data": {
      "text/plain": [
       "'On 2020-03-04 00:00:00, the market cap of Alibaba is 554 bio USD.'"
      ]
     },
     "execution_count": 23,
     "metadata": {},
     "output_type": "execute_result"
    },
    {
     "data": {
      "text/plain": [
       "'On Mar 04, 2020 (Wed), the market cap of Alibaba is 554 bio USD.'"
      ]
     },
     "execution_count": 23,
     "metadata": {},
     "output_type": "execute_result"
    },
    {
     "data": {
      "text/plain": [
       "'On Mar 04, 2020 (Wed), the market cap of Alibaba is 554 bio USD.'"
      ]
     },
     "execution_count": 23,
     "metadata": {},
     "output_type": "execute_result"
    }
   ],
   "source": [
    "from datetime import datetime\n",
    "date = datetime(2020, 3, 4)\n",
    "\n",
    "info = dict(date=date, Mcap=Mcap, curr=curr, unit='bio')\n",
    "info\n",
    "\n",
    "'On {3}, the market cap of Alibaba is {0:,.0f} {1} {2}.'.format(info['Mcap']/1000, info['unit'], info['curr'], info['date'])\n",
    "\n",
    "f\"On {info['date']}, the market cap of Alibaba is {info['Mcap']/1000:,.0f} {info['unit']} {info['curr']}.\""
   ]
  },
  {
   "cell_type": "markdown",
   "metadata": {},
   "source": [
    "但日期格式太难看了，调整日期格式可参考 https://strftime.org/。\n",
    "\n",
    "\n",
    "\n",
    "%Y - 年的全称 (如 2020)\n",
    "\n",
    "%b - 月份的简称 (如 Mar)\n",
    "\n",
    "%d - 天数 (如果是个位数用零填充，如 03)\n",
    "\n",
    "%a - 日期的简称 (Wed)"
   ]
  },
  {
   "cell_type": "code",
   "execution_count": 24,
   "metadata": {
    "ExecuteTime": {
     "end_time": "2020-05-19T01:44:53.009830Z",
     "start_time": "2020-05-19T01:44:52.998375Z"
    }
   },
   "outputs": [
    {
     "data": {
      "text/plain": [
       "'On Mar 04, 2020 (Wed), the market cap of Alibaba is 554 bio USD.'"
      ]
     },
     "execution_count": 24,
     "metadata": {},
     "output_type": "execute_result"
    },
    {
     "data": {
      "text/plain": [
       "'On Mar 04, 2020 (Wed), the market cap of Alibaba is 554 bio USD.'"
      ]
     },
     "execution_count": 24,
     "metadata": {},
     "output_type": "execute_result"
    }
   ],
   "source": [
    "'On {3:%b %d, %Y (%a)}, the market cap of Alibaba is {0:,.0f} {1} {2}.'.format(info['Mcap']/1000, info['unit'], info['curr'], info['date'])\n",
    "\n",
    "\n",
    "f\"On {info['date']:%b %d, %Y (%a)}, the market cap of Alibaba is {info['Mcap']/1000:,.0f} {info['unit']} {info['curr']}.\""
   ]
  },
  {
   "cell_type": "markdown",
   "metadata": {},
   "source": [
    "# 总结"
   ]
  },
  {
   "cell_type": "markdown",
   "metadata": {},
   "source": [
    "![jupyter](./format_string.webp)"
   ]
  }
 ],
 "metadata": {
  "kernelspec": {
   "display_name": "Python 3",
   "language": "python",
   "name": "python3"
  },
  "language_info": {
   "codemirror_mode": {
    "name": "ipython",
    "version": 3
   },
   "file_extension": ".py",
   "mimetype": "text/x-python",
   "name": "python",
   "nbconvert_exporter": "python",
   "pygments_lexer": "ipython3",
   "version": "3.7.4"
  },
  "toc": {
   "base_numbering": 1,
   "nav_menu": {},
   "number_sections": true,
   "sideBar": true,
   "skip_h1_title": false,
   "title_cell": "Table of Contents",
   "title_sidebar": "Contents",
   "toc_cell": false,
   "toc_position": {},
   "toc_section_display": true,
   "toc_window_display": true
  }
 },
 "nbformat": 4,
 "nbformat_minor": 2
}
