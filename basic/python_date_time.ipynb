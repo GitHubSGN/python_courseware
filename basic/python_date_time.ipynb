{
 "cells": [
  {
   "cell_type": "code",
   "execution_count": 10,
   "metadata": {
    "ExecuteTime": {
     "end_time": "2020-05-19T09:42:05.028522Z",
     "start_time": "2020-05-19T09:42:05.024533Z"
    }
   },
   "outputs": [],
   "source": [
    "from IPython.core.interactiveshell import InteractiveShell\n",
    "InteractiveShell.ast_node_interactivity = \"all\""
   ]
  },
  {
   "cell_type": "markdown",
   "metadata": {},
   "source": [
    "# 基本概念"
   ]
  },
  {
   "cell_type": "markdown",
   "metadata": {},
   "source": [
    "为了学习time模块，我们需要先知道几个与时间相关的概念："
   ]
  },
  {
   "cell_type": "markdown",
   "metadata": {},
   "source": [
    "## epoch\n",
    "\n",
    "假设我们要将时间表示成毫秒数，比方说1000000毫秒，那有一个问题必须解决，这个1000000毫秒的起点是什么时间，也就是我们的时间基准点是什么时间？\n",
    "\n",
    "好比我说你身高1.8米，那这个身高是指相对于你站立的地面说的。这个时间基准点就是epoch，在Unix系统中，这个基准点就是1970年1月1日0点整那个时间点。"
   ]
  },
  {
   "cell_type": "markdown",
   "metadata": {},
   "source": [
    "##  GMT, UTC\n",
    "\n",
    "上面我们说epoch表示1970年的起始点，那这个1970年又是相对于哪个基准时间呢？\n",
    "\n",
    "一般来说，就是相对于格林尼治天文时间，即GMT(Greenwich Mean Time)时间，也叫做世界标准时间，还叫做世界协调时UTC(Universal Time Coordinated)，为啥一个时间基准有两个名字？\n",
    "\n",
    "历史上，先有的GMT,后有的UTC。GMT是老的时间计量标准，UTC是我们现在用的时间标准。UTC是根据原子钟来计算时间，而GMT是根据地球的自转和公转来计算时间。所以，可以认为UTC是真正的基准时间，GMT相对UTC的偏差为0。\n",
    "\n",
    "在实际中，我们的计算机中有一个硬件模块RCT，里面会实时记录UTC 时间，该模块有单独的电池供电，即使关机也不影响。\n",
    "\n",
    "有了epoch这个时间基准，又有了UTC这个基准的基准，我们就可以精确地表示一个时间了。"
   ]
  },
  {
   "cell_type": "markdown",
   "metadata": {},
   "source": [
    "### DST, tzone\n",
    "\n",
    "尽管我们已经可以精确地表示一个时间，很多情况下，我们还是要根据地区实际情况对时间进行一个调整，最常见的就是时区，tzone，相信大家都比较熟悉。\n",
    "\n",
    "此时，当我们说5点5分这个时间时，还需加上是哪个时区的5点5分才能精确说明一个时间。\n",
    "\n",
    "另外一个对时间做出调整的就是DST.\n",
    "\n",
    "DST 全称是Daylight Saving Time，是说，为了充分利用日光，减少用电，人为地对时间做出一个调整，这取决于不同国家和地区的政策法规。比如说，假设你冬天7点天亮起床，但夏天6点天亮，那么在夏天到来时人为将时间加1个小时，这样就可以让你还是觉得7点起床，但实际上是提前一个小时了。\n",
    "\n",
    "那么，好奇的我们，一定要问一问，python是如何知道tzone和DST这两个的值呢？答案是通过环境变量。\n",
    "\n",
    "这里我们只以linux为例来说明一下。\n",
    "\n",
    "在linux中有TZ环境变量，其值类似这样:\n",
    "\n",
    "CST+08EDT,M4.1.0,M10.5.0，这个字符串可以做如下解读，用空格分开他们，分成三部分\n",
    "\n",
    "CST+08 EDT, M4.1.0,M10.5.0\n",
    "\n",
    "第一部分中的CST表示时区的名字，即China Standard Time，也就是我们说的北京时间，+8表示北京时间减去8小时就是UTC时间\n",
    "\n",
    "第二部分EDT表示DST的名字，我们说DST是因各个国家地区的政策法规不同而不同的，EDT后面也可以像CST后面一样加一个时间调整值，但由于我们国内只在86年到92年实行过一段时间DST，现在已经废止，所以后面不用加调整时间。\n",
    "\n",
    "第三部分表示的是实行DST的开始和结束时间，我们就不细解读了。"
   ]
  },
  {
   "cell_type": "markdown",
   "metadata": {},
   "source": [
    "## timestamp（时间戳） \n",
    "\n",
    "也称为Unix时间 或 POSIX时间；它是一种时间表示方式，表示从格林尼治时间1970年1月1日0时0分0秒开始到现在所经过的毫秒数，其值为float类型。 但是有些编程语言的相关方法返回的是秒数，例如我们的天下第一编程语言-Python大法就是这样（请不要反驳我）。所谓的时间戳timestamp就是当前时间与格林尼治时间1970年1月1日0时0分0秒之间过了多少秒。"
   ]
  },
  {
   "cell_type": "markdown",
   "metadata": {},
   "source": [
    "相应的，日期时间就有三种表示方法：\n",
    "\n",
    "　　1）stamptime时间戳，时间戳表示的是从1970年1月1日00:00:00开始按秒计算的偏移量。stamptime表现为一个float类型数据。\n",
    "\n",
    "　　2）struct_time时间元组，共有九个元素组。stamptime时间戳和格式化时间字符串之间的转化必须通过struct_time才行，所以struct_time时间元组时3中时间表示的中心。\n",
    "\n",
    "　　3）format time 格式化时间，已格式化的结构字符串使时间更具可读性。包括自定义格式和固定格式。\n",
    "\n",
    "　　那么，下面要说的就是怎么获取这三个时间，并进行这三个时间之间的转化。先总结一下time模块。"
   ]
  },
  {
   "cell_type": "markdown",
   "metadata": {},
   "source": [
    "# Time模块"
   ]
  },
  {
   "cell_type": "markdown",
   "metadata": {},
   "source": [
    "![jupyter](./pic_date_time/python_time_00.png)"
   ]
  },
  {
   "cell_type": "markdown",
   "metadata": {},
   "source": [
    "## 函数1：当前时间的获取\n",
    "\n",
    "获取当前时间的方法只有一个,即time模块中获取时间的基本方法是\n",
    "\n",
    "t = time.time()\n",
    "\n",
    "它返回的是从epoch到现在的秒数(用浮点数表示)，用的是UTC时间。\n",
    "\n",
    "想直接获取当前时间的时间元组格式或格式化字符串？没门，只能老老实实转化。"
   ]
  },
  {
   "cell_type": "code",
   "execution_count": 3,
   "metadata": {
    "ExecuteTime": {
     "end_time": "2020-05-19T09:33:26.213952Z",
     "start_time": "2020-05-19T09:33:26.208996Z"
    }
   },
   "outputs": [],
   "source": [
    "import time"
   ]
  },
  {
   "cell_type": "code",
   "execution_count": 4,
   "metadata": {
    "ExecuteTime": {
     "end_time": "2020-05-19T09:33:26.996888Z",
     "start_time": "2020-05-19T09:33:26.987888Z"
    }
   },
   "outputs": [
    {
     "name": "stdout",
     "output_type": "stream",
     "text": [
      "1589880806.9888847\n"
     ]
    }
   ],
   "source": [
    "t = time.time()\n",
    "print(t)"
   ]
  },
  {
   "cell_type": "markdown",
   "metadata": {},
   "source": [
    "## 函数2&.3：时间戳 -> struct_time"
   ]
  },
  {
   "cell_type": "markdown",
   "metadata": {},
   "source": [
    "我们自然而然地想把这个秒数转为年月日时分秒的形式，而这种转换又分两种，对应着time模块提供的两个方法：\n",
    "\n",
    "函数3：time. gmtime(t)：还是用UTC时间\n",
    "\n",
    "函数2：time.localtime(t)：用我们所在时区进行调整后的时间\n",
    "\n",
    "二者都返回一个类struct_time的实例，该实例具有如下属性:"
   ]
  },
  {
   "cell_type": "code",
   "execution_count": 8,
   "metadata": {
    "ExecuteTime": {
     "end_time": "2020-05-19T09:41:15.031776Z",
     "start_time": "2020-05-19T09:41:15.027787Z"
    }
   },
   "outputs": [
    {
     "name": "stdout",
     "output_type": "stream",
     "text": [
      "1589880806.9888847\n",
      "time.struct_time(tm_year=2020, tm_mon=5, tm_mday=19, tm_hour=9, tm_min=33, tm_sec=26, tm_wday=1, tm_yday=140, tm_isdst=0)\n",
      "time.struct_time(tm_year=2020, tm_mon=5, tm_mday=19, tm_hour=17, tm_min=33, tm_sec=26, tm_wday=1, tm_yday=140, tm_isdst=0)\n"
     ]
    }
   ],
   "source": [
    "t1 = time.gmtime(t)\n",
    "t2 = time.localtime(t)\n",
    "print(t)\n",
    "print(t1)\n",
    "print(t2)"
   ]
  },
  {
   "cell_type": "markdown",
   "metadata": {},
   "source": [
    "这两个函数如果调用时不传参数，它们内部会调用time.time()，并用返回的秒数做转换。"
   ]
  },
  {
   "cell_type": "code",
   "execution_count": 11,
   "metadata": {
    "ExecuteTime": {
     "end_time": "2020-05-19T09:42:10.103959Z",
     "start_time": "2020-05-19T09:42:10.094016Z"
    }
   },
   "outputs": [
    {
     "data": {
      "text/plain": [
       "time.struct_time(tm_year=2020, tm_mon=5, tm_mday=19, tm_hour=9, tm_min=42, tm_sec=10, tm_wday=1, tm_yday=140, tm_isdst=0)"
      ]
     },
     "execution_count": 11,
     "metadata": {},
     "output_type": "execute_result"
    },
    {
     "data": {
      "text/plain": [
       "time.struct_time(tm_year=2020, tm_mon=5, tm_mday=19, tm_hour=17, tm_min=42, tm_sec=10, tm_wday=1, tm_yday=140, tm_isdst=0)"
      ]
     },
     "execution_count": 11,
     "metadata": {},
     "output_type": "execute_result"
    }
   ],
   "source": [
    "time.gmtime()\n",
    "time.localtime()"
   ]
  },
  {
   "cell_type": "markdown",
   "metadata": {},
   "source": [
    "struct_time元组元素结构："
   ]
  },
  {
   "cell_type": "code",
   "execution_count": 12,
   "metadata": {
    "ExecuteTime": {
     "end_time": "2020-05-19T10:04:28.946609Z",
     "start_time": "2020-05-19T10:04:28.940626Z"
    }
   },
   "outputs": [
    {
     "data": {
      "text/plain": [
       "['__add__',\n",
       " '__class__',\n",
       " '__contains__',\n",
       " '__delattr__',\n",
       " '__dir__',\n",
       " '__doc__',\n",
       " '__eq__',\n",
       " '__format__',\n",
       " '__ge__',\n",
       " '__getattribute__',\n",
       " '__getitem__',\n",
       " '__getnewargs__',\n",
       " '__gt__',\n",
       " '__hash__',\n",
       " '__init__',\n",
       " '__init_subclass__',\n",
       " '__iter__',\n",
       " '__le__',\n",
       " '__len__',\n",
       " '__lt__',\n",
       " '__mul__',\n",
       " '__ne__',\n",
       " '__new__',\n",
       " '__reduce__',\n",
       " '__reduce_ex__',\n",
       " '__repr__',\n",
       " '__rmul__',\n",
       " '__setattr__',\n",
       " '__sizeof__',\n",
       " '__str__',\n",
       " '__subclasshook__',\n",
       " 'count',\n",
       " 'index',\n",
       " 'n_fields',\n",
       " 'n_sequence_fields',\n",
       " 'n_unnamed_fields',\n",
       " 'tm_gmtoff',\n",
       " 'tm_hour',\n",
       " 'tm_isdst',\n",
       " 'tm_mday',\n",
       " 'tm_min',\n",
       " 'tm_mon',\n",
       " 'tm_sec',\n",
       " 'tm_wday',\n",
       " 'tm_yday',\n",
       " 'tm_year',\n",
       " 'tm_zone']"
      ]
     },
     "execution_count": 12,
     "metadata": {},
     "output_type": "execute_result"
    }
   ],
   "source": [
    "dir(t1)"
   ]
  },
  {
   "cell_type": "markdown",
   "metadata": {},
   "source": [
    "| 下标/索引 | 属性名称 | 描述 |\n",
    "| :----: | :---- | :---- |\n",
    "| 0 | tm_year | 年份，如 2018 |\n",
    "| 1  | tm_mon | 月份，取值范围为[1, 12] |\n",
    "| 2 | tm_mday | 一个月中的第几天，取值范围为[1-31] |\n",
    "| 3 | tm_hour | 小时， 取值范围为[0-23] |\n",
    "| 4 | tm_min | 分钟，取值范围为[0, 59] |\n",
    "| 5 | tm_sec | 秒，取值范围为[0, 61] |\n",
    "| 6 | tm_wday | 一个星期中的第几天，取值范围为[0-6]，0表示星期一 |\n",
    "| 7 | tm_yday | 一年中的第几天，取值范围为[1, 366] |\n",
    "| 8 | tm_isdst | 是否为夏令时，可取值为：0 , 1 或 -1，默认值为-1 |"
   ]
  },
  {
   "cell_type": "code",
   "execution_count": 14,
   "metadata": {
    "ExecuteTime": {
     "end_time": "2020-05-19T10:05:11.871564Z",
     "start_time": "2020-05-19T10:05:11.866545Z"
    }
   },
   "outputs": [
    {
     "data": {
      "text/plain": [
       "2020"
      ]
     },
     "execution_count": 14,
     "metadata": {},
     "output_type": "execute_result"
    },
    {
     "data": {
      "text/plain": [
       "2020"
      ]
     },
     "execution_count": 14,
     "metadata": {},
     "output_type": "execute_result"
    }
   ],
   "source": [
    "t1[0]\n",
    "t1.tm_year"
   ]
  },
  {
   "cell_type": "markdown",
   "metadata": {},
   "source": [
    "## 函数4：时间戳 <- struct_time"
   ]
  },
  {
   "cell_type": "markdown",
   "metadata": {
    "ExecuteTime": {
     "end_time": "2020-05-19T09:40:04.159207Z",
     "start_time": "2020-05-19T09:40:04.155215Z"
    }
   },
   "source": [
    "相反地，python同样提供了将这两种struct_time转为秒数的方法。\n",
    "\n",
    "calendar.timegm()方法用来把UTC的struct_time(gmtime的返回对象)转为从epoch开始的秒数\n",
    "\n",
    "time.mktime()用来把用时区调整过的struct_time(即localtime的返回对象)对象转为从epoch开始的秒数\n",
    "\n",
    "也就是说mktime方法会先找到系统中的时区和DST信息，并利用这个信息对struct_time进行调整后再换算成秒数。"
   ]
  },
  {
   "cell_type": "code",
   "execution_count": 10,
   "metadata": {},
   "outputs": [],
   "source": [
    "import calendar"
   ]
  },
  {
   "cell_type": "code",
   "execution_count": 11,
   "metadata": {},
   "outputs": [
    {
     "name": "stdout",
     "output_type": "stream",
     "text": [
      "1588041836\n",
      "1588041836.0\n"
     ]
    }
   ],
   "source": [
    "t_x = calendar.timegm(t1)\n",
    "t_y = time.mktime(t2)\n",
    "print(t_x)\n",
    "print(t_y)"
   ]
  },
  {
   "cell_type": "markdown",
   "metadata": {},
   "source": [
    "## 函数5 &. 6：struct_time <-> format string"
   ]
  },
  {
   "cell_type": "markdown",
   "metadata": {},
   "source": [
    "另一种常见的需求是在时间和表示时间的字符串之间进行转换。\n",
    "\n",
    "time模块中的strftime和strptime就是做这个用的。\n",
    "\n",
    "看名字大家就应该知道它们的含义，\n",
    "\n",
    "strftime 即 string format time，用来将时间格式化成字符串\n",
    "\n",
    "strptime 即string parse time，用来将字符串解析成时间。\n",
    "\n",
    "需要注意的是，这里的时间都是struct_time对象。\n",
    "\n",
    "关于怎么格式化时间，是很简单的知识，这里就借用官网文档的内容了。"
   ]
  },
  {
   "cell_type": "code",
   "execution_count": 13,
   "metadata": {},
   "outputs": [
    {
     "data": {
      "text/plain": [
       "'Tue, 28 Apr 2020 10:49:52'"
      ]
     },
     "execution_count": 13,
     "metadata": {},
     "output_type": "execute_result"
    }
   ],
   "source": [
    "time.strftime(\"%a, %d %b %Y %H:%M:%S\", time.gmtime())\n",
    "# time.strftime(\"%a, %d %b %Y %H:%M:%S\", time.localtime())"
   ]
  },
  {
   "cell_type": "markdown",
   "metadata": {},
   "source": [
    "| 格式 | 含义 |\n",
    "| :----: | :---- |\n",
    "| %a | 本地（locale）简化星期名称 |\n",
    "| %A | 本地完整星期名称 |\n",
    "| %b | 本地简化月份名称 |\n",
    "| %B | 本地完整月份名称 |\n",
    "| %c | 本地相应的日期和时间表示 |\n",
    "| %d | 一个月中的第几天（01 - 31） |\n",
    "| %H | 一天中的第几个小时（24小时制，00 - 23） |\n",
    "| %I | 第几个小时（12小时制，01 - 12） |\n",
    "| %j | 一年中的第几天（001 - 366） |\n",
    "| %m | 月份（01 - 12） |\n",
    "| %M | 分钟数（00 - 59） |\n",
    "| %p | 本地am或者pm的相应符 |\n",
    "| %S | 秒（01 - 61） |\n",
    "| %U | 一年中的星期数。（00 - 53星期天是一个星期的开始。）第一个星期天之前的所有天数都放在第0周。 |\n",
    "| %w | 一个星期中的第几天（0 - 6，0是星期天） |\n",
    "| %W | 和%U基本相同，不同的是%W以星期一为一个星期的开始。 |\n",
    "| %x | 本地相应日期 |\n",
    "| %X | 本地相应时间 |\n",
    "| %y | 去掉世纪的年份（00 - 99） |\n",
    "| %Y | 完整的年份 |\n",
    "| %Z | 时区的名字（如果不存在为空字符） |\n",
    "| %% | ‘%’字符 |"
   ]
  },
  {
   "cell_type": "markdown",
   "metadata": {},
   "source": [
    "## 函数7 &. 8: struct_time/timestamp -> 标准24字符串"
   ]
  },
  {
   "cell_type": "markdown",
   "metadata": {},
   "source": [
    "除了这两个函数，time模块中还提供了两个简便方法，来帮助将时间转为字符串\n",
    "\n",
    "asctime用来将一个struct_time对象转为标准24字符的字符串，如下所示:\n",
    "\n",
    "ctime方法与asctime作用相同，只不过它接收的是秒数，在内部，会先把秒数通过localtime转为struct_time，再往后就与asctime一样了。"
   ]
  },
  {
   "cell_type": "code",
   "execution_count": 15,
   "metadata": {
    "ExecuteTime": {
     "end_time": "2020-05-20T01:33:38.283667Z",
     "start_time": "2020-05-20T01:33:38.267694Z"
    }
   },
   "outputs": [
    {
     "data": {
      "text/plain": [
       "'Tue May 19 17:33:26 2020'"
      ]
     },
     "execution_count": 15,
     "metadata": {},
     "output_type": "execute_result"
    }
   ],
   "source": [
    "time.asctime(t2)"
   ]
  },
  {
   "cell_type": "code",
   "execution_count": 16,
   "metadata": {
    "ExecuteTime": {
     "end_time": "2020-05-20T01:33:47.428781Z",
     "start_time": "2020-05-20T01:33:47.422824Z"
    }
   },
   "outputs": [
    {
     "data": {
      "text/plain": [
       "'Tue May 19 17:33:26 2020'"
      ]
     },
     "execution_count": 16,
     "metadata": {},
     "output_type": "execute_result"
    }
   ],
   "source": [
    "time.ctime(t)"
   ]
  },
  {
   "cell_type": "markdown",
   "metadata": {},
   "source": [
    "以上就是time模块的核心内容，我尝试用一个口诀帮助记忆这些API\n",
    "\n",
    "time点time得秒数\n",
    "\n",
    "传入gm, local time得struct_time\n",
    "\n",
    "要想变回原秒数\n",
    "\n",
    "你得传回calendar.timegm和time. mktime\n",
    "\n",
    "string f和string p\n",
    "\n",
    "格式化时间靠哥俩\n",
    "\n",
    "你要还是嫌费事\n",
    "\n",
    "asctime ,ctime来助力\n",
    "\n",
    "专门帮你转字符串\n",
    "\n",
    "前者接收struct_time\n",
    "\n",
    "后者专门处理秒数\n",
    "\n",
    "分工合作不费力\n",
    "\n",
    "学好time模块基本功\n",
    "\n",
    "做个时间的明白人！"
   ]
  },
  {
   "cell_type": "markdown",
   "metadata": {},
   "source": [
    "# datetime模块\n",
    "\n",
    "## 概览\n",
    "\n",
    "\n",
    "time模块解决了时间的获取和表示，datetime模块则进一步解决了快速获取并操作时间中的年月日时分秒信息的能力。\n",
    "\n",
    "datetime模块是time模块的进一步封装，对用户更加友好，在时间各属性的获取上回更加方便一些，当然，在效率上会略微低一些。\n",
    "\n",
    "datetime类就是date和time的组合。\n",
    "\n",
    "有一点需要提前说明一下，time类和datetime类都有一个属性，它的值是一个tzinfo对象，里面包含了该time或者datetime的时区信息，一般称这个time或者datetime对象是aware的，它能够准确换算成自epoch开始的秒数。\n",
    "\n",
    "如果该属性设置为None，那么，这时的time对象或者datetime对象就没有时区信息，具体它表示的是local time还是utc time，需要我们自己在程序中去决定。\n",
    "\n",
    "这里我们所说的local time是指我们所在时区的时间， utc time指的就是国际标准时间，也就是格林尼治时间。\n",
    "\n",
    "请记住一点，date中是没有时区信息的。\n",
    "\n",
    "datetime模块的功能主要都几种在datetime、date、time、timedelta、tzinfo五个类中。这五个类功能如下表所示："
   ]
  },
  {
   "cell_type": "markdown",
   "metadata": {},
   "source": [
    "| 类名 | 功能 |\n",
    "| :---- | :---- |\n",
    "| date | 提供日期（年、月、日）的处理 |\n",
    "| time | 提供时间（时、分、秒）的处理 |\n",
    "| datetime | 同时提供对日期和时间的处理 |\n",
    "| timedelta | 两个date、time、datetime实例之间的时间间隔（时间加减运算）|\n",
    "| tzinfo | 时区信息 |"
   ]
  },
  {
   "cell_type": "markdown",
   "metadata": {},
   "source": [
    "## datetime类\n",
    "\n",
    "class datetime.datetime(year, month, day, hour=0, minute=0, second=0, microsecond=0, tzinfo=None)\n",
    "\n",
    "创建datetime对象，我最常用的办法如下"
   ]
  },
  {
   "cell_type": "code",
   "execution_count": 18,
   "metadata": {
    "ExecuteTime": {
     "end_time": "2020-05-20T01:54:02.453288Z",
     "start_time": "2020-05-20T01:54:02.448342Z"
    }
   },
   "outputs": [],
   "source": [
    "import datetime\n",
    "\n",
    "dt = datetime.datetime.fromtimestamp(time.time())"
   ]
  },
  {
   "cell_type": "code",
   "execution_count": 19,
   "metadata": {
    "ExecuteTime": {
     "end_time": "2020-05-20T01:54:03.976291Z",
     "start_time": "2020-05-20T01:54:03.967315Z"
    }
   },
   "outputs": [
    {
     "data": {
      "text/plain": [
       "['__add__',\n",
       " '__class__',\n",
       " '__delattr__',\n",
       " '__dir__',\n",
       " '__doc__',\n",
       " '__eq__',\n",
       " '__format__',\n",
       " '__ge__',\n",
       " '__getattribute__',\n",
       " '__gt__',\n",
       " '__hash__',\n",
       " '__init__',\n",
       " '__init_subclass__',\n",
       " '__le__',\n",
       " '__lt__',\n",
       " '__ne__',\n",
       " '__new__',\n",
       " '__radd__',\n",
       " '__reduce__',\n",
       " '__reduce_ex__',\n",
       " '__repr__',\n",
       " '__rsub__',\n",
       " '__setattr__',\n",
       " '__sizeof__',\n",
       " '__str__',\n",
       " '__sub__',\n",
       " '__subclasshook__',\n",
       " 'astimezone',\n",
       " 'combine',\n",
       " 'ctime',\n",
       " 'date',\n",
       " 'day',\n",
       " 'dst',\n",
       " 'fold',\n",
       " 'fromisoformat',\n",
       " 'fromordinal',\n",
       " 'fromtimestamp',\n",
       " 'hour',\n",
       " 'isocalendar',\n",
       " 'isoformat',\n",
       " 'isoweekday',\n",
       " 'max',\n",
       " 'microsecond',\n",
       " 'min',\n",
       " 'minute',\n",
       " 'month',\n",
       " 'now',\n",
       " 'replace',\n",
       " 'resolution',\n",
       " 'second',\n",
       " 'strftime',\n",
       " 'strptime',\n",
       " 'time',\n",
       " 'timestamp',\n",
       " 'timetuple',\n",
       " 'timetz',\n",
       " 'today',\n",
       " 'toordinal',\n",
       " 'tzinfo',\n",
       " 'tzname',\n",
       " 'utcfromtimestamp',\n",
       " 'utcnow',\n",
       " 'utcoffset',\n",
       " 'utctimetuple',\n",
       " 'weekday',\n",
       " 'year']"
      ]
     },
     "execution_count": 19,
     "metadata": {},
     "output_type": "execute_result"
    }
   ],
   "source": [
    "dir(dt)"
   ]
  },
  {
   "cell_type": "markdown",
   "metadata": {},
   "source": [
    "各参数的取值范围为：\n",
    "\n",
    "| 参数名称 | 取值范围 |\n",
    "| :---- | :---- |\n",
    "| year | [MINYEAR, MAXYEAR] |\n",
    "| month | [1, 12] |\n",
    "| day | [1, 指定年份的月份中的天数] |\n",
    "| hour | [0, 23] |\n",
    "| minute | [0, 59] |\n",
    "| second | [0, 59] |\n",
    "| microsecond | [0, 1000000] |\n",
    "| tzinfo | tzinfo的子类对象，如timezone类的实例 |\n",
    "\n",
    "如果一个参数超出了这些范围，会引起ValueError异常。\n",
    "\n",
    "类方法和属性:\n",
    "\n",
    "| 类方法/属性名称 | 描述 |\n",
    "| :---- | :---- |\n",
    "| datetime.today() | 返回一个表示当前本期日期时间的datetime对象 |\n",
    "| datetime.now([tz]) | 返回指定时区日期时间的datetime对象，如果不指定tz参数则结果同上 |\n",
    "| datetime.utcnow() | 返回当前utc日期时间的datetime对象 |\n",
    "| datetime.fromtimestamp(timestamp[, tz]) | 根据指定的时间戳创建一个datetime对象 |\n",
    "| datetime.utcfromtimestamp(timestamp) | 根据指定的时间戳创建一个datetime对象 |\n",
    "| datetime.combine(date, time) | 把指定的date和time对象整合成一个datetime对象 |\n",
    "| datetime.strptime(date_str, format) | 将时间字符串转换为datetime对象 |\n",
    "\n",
    "对象方法和属性:\n",
    "\n",
    "| 对象方法/属性名称 | 描述 |\n",
    "| :---- | :---- |\n",
    "| dt.year, dt.month, dt.day | 年、月、日 |\n",
    "| dt.hour, dt.minute, dt.second | 时、分、秒 |\n",
    "| dt.microsecond, dt.tzinfo | 微秒、时区信息 |\n",
    "| dt.date() | 获取datetime对象对应的date对象 |\n",
    "| dt.time() | 获取datetime对象对应的time对象， tzinfo 为None |\n",
    "| dt.timetz() | 获取datetime对象对应的time对象，tzinfo与datetime对象的tzinfo相同 |\n",
    "| dt.replace([year[, month[, day[, hour[, minute[, second[, microsecond[, tzinfo]]]]]]]]) | 生成并返回一个新的datetime对象，如果所有参数都没有指定，则返回一个与原datetime对象相同的对象 |\n",
    "| dt.timetuple() | 返回datetime对象对应的tuple（不包括tzinfo） |\n",
    "| dt.utctimetuple() | 返回datetime对象对应的utc时间的tuple（不包括tzinfo） |\n",
    "| dt.toordinal() | 返回日期是自 0001-01-01 开始的第多少天 |\n",
    "| dt.weekday() | 返回日期是星期几，[0, 6]，0表示星期一 |\n",
    "| dt.isoweekday() | 返回日期是星期几，[1, 7]，1表示星期一 |\n",
    "| dt.isocalendar() | 返回一个元组，格式为：(year, weekday, isoweekday)|\n",
    "| dt.isoformat([sep]) | 返回‘YYYY-MM-DD’格式的日期字符串 |\n",
    "| dt.ctime() | 等价于time模块的time.ctime(time.mktime(d.timetuple())) |\n",
    "| dt.strftime(format) | 返回指定格式的时间字符串，与time模块的strftime(format, struct_time)功能相同 |"
   ]
  },
  {
   "cell_type": "code",
   "execution_count": 30,
   "metadata": {
    "ExecuteTime": {
     "end_time": "2020-05-20T02:13:01.158676Z",
     "start_time": "2020-05-20T02:13:01.148677Z"
    }
   },
   "outputs": [
    {
     "data": {
      "text/plain": [
       "(2020, 21, 3)"
      ]
     },
     "execution_count": 30,
     "metadata": {},
     "output_type": "execute_result"
    },
    {
     "data": {
      "text/plain": [
       "2"
      ]
     },
     "execution_count": 30,
     "metadata": {},
     "output_type": "execute_result"
    },
    {
     "data": {
      "text/plain": [
       "3"
      ]
     },
     "execution_count": 30,
     "metadata": {},
     "output_type": "execute_result"
    }
   ],
   "source": [
    "dt.isocalendar()\n",
    "dt.weekday()\n",
    "dt.isoweekday()"
   ]
  },
  {
   "cell_type": "markdown",
   "metadata": {},
   "source": [
    "以上，time.time()获得自epoch开始的秒数，fromtimestamp方法会将这个秒数转变成一个datetime对象。\n",
    "\n",
    "这里有一个问题，这个datetime对象究竟是utc的还是local的？\n",
    "\n",
    "答案是__local__的，这是该方法的默认行为。如果你在fromtimestamp方法中传入一个表示时区的参数，即tzinfo对象，就会按传入的时区信息进行转换。\n",
    "\n",
    "获得表示当前local时间的datetime对象，还有两个简便方法："
   ]
  },
  {
   "cell_type": "code",
   "execution_count": 32,
   "metadata": {
    "ExecuteTime": {
     "end_time": "2020-05-20T02:14:29.247896Z",
     "start_time": "2020-05-20T02:14:29.240909Z"
    }
   },
   "outputs": [
    {
     "data": {
      "text/plain": [
       "datetime.datetime(2020, 5, 20, 10, 14, 29, 241913)"
      ]
     },
     "execution_count": 32,
     "metadata": {},
     "output_type": "execute_result"
    },
    {
     "data": {
      "text/plain": [
       "datetime.datetime(2020, 5, 20, 10, 14, 29, 243878)"
      ]
     },
     "execution_count": 32,
     "metadata": {},
     "output_type": "execute_result"
    }
   ],
   "source": [
    "datetime.datetime.now()\n",
    "datetime.datetime.today()"
   ]
  },
  {
   "cell_type": "markdown",
   "metadata": {},
   "source": [
    "以上我们得到的都是local的datetime对象，如何获得utc的datetime对象呢？有两个办法"
   ]
  },
  {
   "cell_type": "code",
   "execution_count": 25,
   "metadata": {},
   "outputs": [
    {
     "data": {
      "text/plain": [
       "datetime.datetime(2020, 4, 28, 3, 11, 31, 778158)"
      ]
     },
     "execution_count": 25,
     "metadata": {},
     "output_type": "execute_result"
    }
   ],
   "source": [
    "datetime.datetime.utcfromtimestamp(time.time())"
   ]
  },
  {
   "cell_type": "code",
   "execution_count": 26,
   "metadata": {},
   "outputs": [
    {
     "data": {
      "text/plain": [
       "datetime.datetime(2020, 4, 28, 3, 14, 29, 713921)"
      ]
     },
     "execution_count": 26,
     "metadata": {},
     "output_type": "execute_result"
    }
   ],
   "source": [
    "datetime. datetime. utcnow()"
   ]
  },
  {
   "cell_type": "markdown",
   "metadata": {},
   "source": [
    "我们还可以从字符串中创建datetime对象，方法为datetime.strptime(date_string, format)\n",
    "\n",
    "其内部还是先调用的time模块中的strptime方法，获取struct_time对象，再利用struct_time对象中的年月日时分秒信息构建datetime对象。\n",
    "\n",
    "同样的，datetime类也提供了strftime()，asctime()，ctime()方法，相信不说你也知道是做什么的了。"
   ]
  },
  {
   "cell_type": "code",
   "execution_count": 32,
   "metadata": {},
   "outputs": [
    {
     "data": {
      "text/plain": [
       "datetime.datetime(2020, 4, 28, 10, 43, 56)"
      ]
     },
     "execution_count": 32,
     "metadata": {},
     "output_type": "execute_result"
    }
   ],
   "source": [
    "dtime = datetime.datetime.strptime('04 28 10:43:56 2020', '%m %d %H:%M:%S %Y')\n",
    "dtime"
   ]
  },
  {
   "cell_type": "code",
   "execution_count": 35,
   "metadata": {},
   "outputs": [
    {
     "data": {
      "text/plain": [
       "'20200428104356'"
      ]
     },
     "execution_count": 35,
     "metadata": {},
     "output_type": "execute_result"
    }
   ],
   "source": [
    "datetime.datetime.strftime(dtime, \"%Y%m%d%H%M%S\")"
   ]
  },
  {
   "cell_type": "markdown",
   "metadata": {},
   "source": [
    "datetime类还提供了一个combine方法，用来将一个date对象和一个time对象组合成一个datetime对象。\n",
    "\n",
    "需要注意的是，datetime模块中出现timestamp时，一般可将其理解成time.time()返回的秒数"
   ]
  },
  {
   "cell_type": "markdown",
   "metadata": {},
   "source": [
    "## date类、time类\n",
    "\n",
    "class datetime.date(year, month, day)\n",
    "\n",
    "class datetime.time(hour, [minute[, second, [microsecond[, tzinfo]]]])"
   ]
  },
  {
   "cell_type": "markdown",
   "metadata": {},
   "source": [
    "date对象的创建和datetime非常相似，\n",
    "\n",
    "datetime. date. today()\n",
    "\n",
    "datetime.date.fromtimestamp()都可以创建一个date对象。\n",
    "\n",
    "当然，你也可以通过构造方法传入年月日来创建date对象。\n",
    "\n",
    "相比之下，time对象的创建就很有限，只能通过\n",
    "\n",
    "datetime.time([hour[, minute[, second[, microsecond[, tzinfo]]]]])\n",
    "\n",
    "这个方法创建。"
   ]
  },
  {
   "cell_type": "markdown",
   "metadata": {},
   "source": [
    "##  timedelta类\n",
    "\n",
    "在实际使用中，我们有一大块需求就是对日期进行比较和加减运算。得益于python的操作符重载能力，python中可以方便地对date对象之间，或者datetime对象之间进行小于(<)比较和减法(-)操作。注意，这里仅限于同类对象之间，而且，不包括time对象之间。\n",
    "\n",
    "两个date对象作减，或者两个datetime对象之间作减，差值用一个timedelta对象表示。同理，一个date 对象或者datetime对象也可以加或者减一个timedelta对象。timedelta可以方便实现日期（date实例、time实例、datetime实例）之间的加减运算。datetime.timedelta类的定义：\n",
    "\n",
    "class datetime.timedelta(days=0, seconds=0, microseconds=0, milliseconds=0, hours=0, weeks=0)\n",
    "\n",
    "\n",
    "\n",
    "一个timedelta对象含有三个属性:days,seconds, microseconds,其中，days属性可以取负值，另外两个属性都只能是正值。\n",
    "\n",
    "你可以用total_seconds()方法获得一个timedelta对象的秒数表示。\n",
    "\n",
    "两个timedelta对象之间可加，可减，但不能做大小比较，因为这样没什么意义。\n",
    "\n",
    "一个timedelta对象还可以与整数相乘，或通过//操作与一个整数相除。\n",
    "\n",
    "还可以取反，或者用abs函数获得绝对值"
   ]
  },
  {
   "cell_type": "code",
   "execution_count": 33,
   "metadata": {
    "ExecuteTime": {
     "end_time": "2020-05-20T02:21:52.374006Z",
     "start_time": "2020-05-20T02:21:52.364035Z"
    }
   },
   "outputs": [
    {
     "name": "stdout",
     "output_type": "stream",
     "text": [
      "11\n",
      "38072\n",
      "0\n",
      "988472.0\n",
      "11 days, 10:34:32\n"
     ]
    }
   ],
   "source": [
    "delta = datetime.timedelta(days = 11,hours=10,minutes=34,seconds=32)\n",
    "print(delta.days)\n",
    "print(delta.seconds)\n",
    "print(delta.microseconds)\n",
    "print(delta.total_seconds())\n",
    "print(str(delta))"
   ]
  },
  {
   "cell_type": "code",
   "execution_count": 45,
   "metadata": {
    "ExecuteTime": {
     "end_time": "2020-05-20T02:26:50.253431Z",
     "start_time": "2020-05-20T02:26:50.247447Z"
    }
   },
   "outputs": [
    {
     "data": {
      "text/plain": [
       "['__class__',\n",
       " '__delattr__',\n",
       " '__dir__',\n",
       " '__doc__',\n",
       " '__eq__',\n",
       " '__format__',\n",
       " '__ge__',\n",
       " '__getattribute__',\n",
       " '__gt__',\n",
       " '__hash__',\n",
       " '__init__',\n",
       " '__init_subclass__',\n",
       " '__le__',\n",
       " '__lt__',\n",
       " '__ne__',\n",
       " '__new__',\n",
       " '__reduce__',\n",
       " '__reduce_ex__',\n",
       " '__repr__',\n",
       " '__setattr__',\n",
       " '__sizeof__',\n",
       " '__str__',\n",
       " '__subclasshook__',\n",
       " 'dst',\n",
       " 'fromutc',\n",
       " 'tzname',\n",
       " 'utcoffset']"
      ]
     },
     "execution_count": 45,
     "metadata": {},
     "output_type": "execute_result"
    }
   ],
   "source": [
    "tz = datetime.tzinfo(utcoffset=-1)\n",
    "dir(tz)"
   ]
  },
  {
   "cell_type": "markdown",
   "metadata": {},
   "source": [
    "# 无总结，不进步\n",
    "本文的目的不在于详细说明python处理时间日期的api如何使用，而是想通过一个概览的形式，让大家抓住time和datetime模块的设计结构，从而能够清楚这些模块提供了哪些能力，在需要的时候能够想起来去用，至于查详细的api，应该是可以轻松解决的。"
   ]
  },
  {
   "cell_type": "code",
   "execution_count": 52,
   "metadata": {},
   "outputs": [],
   "source": [
    "from dateutil.relativedelta import relativedelta"
   ]
  },
  {
   "cell_type": "code",
   "execution_count": 62,
   "metadata": {},
   "outputs": [
    {
     "name": "stdout",
     "output_type": "stream",
     "text": [
      "2011-12-04 00:00:00\n",
      "2011-12-01 00:00:00\n",
      "201112\n",
      "201112\n",
      "2012-01-04 00:00:00\n",
      "2012-01-01 00:00:00\n",
      "201201\n",
      "201201\n",
      "2012-02-02 00:00:00\n",
      "2012-02-01 00:00:00\n",
      "201202\n",
      "201202\n",
      "2012-03-04 00:00:00\n",
      "2012-03-01 00:00:00\n",
      "201203\n",
      "201203\n",
      "2012-04-03 00:00:00\n",
      "2012-04-01 00:00:00\n",
      "201204\n",
      "201204\n",
      "2012-05-04 00:00:00\n",
      "2012-05-01 00:00:00\n",
      "201205\n",
      "201205\n",
      "2012-06-03 00:00:00\n",
      "2012-06-01 00:00:00\n",
      "201206\n",
      "201206\n",
      "2012-07-04 00:00:00\n",
      "2012-07-01 00:00:00\n",
      "201207\n",
      "201207\n",
      "2012-08-04 00:00:00\n",
      "2012-08-01 00:00:00\n",
      "201208\n",
      "201208\n",
      "2012-09-03 00:00:00\n",
      "2012-09-01 00:00:00\n",
      "201209\n",
      "201209\n",
      "2012-10-04 00:00:00\n",
      "2012-10-01 00:00:00\n",
      "201210\n",
      "201210\n",
      "2012-11-03 00:00:00\n",
      "2012-11-01 00:00:00\n",
      "201211\n",
      "201211\n"
     ]
    }
   ],
   "source": [
    "year = '2012'\n",
    "for i in range(12):\n",
    "    mstr = str(i+1).zfill(2)\n",
    "    a = datetime.datetime.strptime(year+mstr,'%Y%m')\n",
    "    b = a - datetime.timedelta(days = 28)\n",
    "    print(b)\n",
    "    c = a - relativedelta(months=1)\n",
    "    print(c)\n",
    "    print(datetime.datetime.strftime(b,'%Y%m'))\n",
    "    print(datetime.datetime.strftime(c,'%Y%m'))\n"
   ]
  }
 ],
 "metadata": {
  "kernelspec": {
   "display_name": "Python 3",
   "language": "python",
   "name": "python3"
  },
  "language_info": {
   "codemirror_mode": {
    "name": "ipython",
    "version": 3
   },
   "file_extension": ".py",
   "mimetype": "text/x-python",
   "name": "python",
   "nbconvert_exporter": "python",
   "pygments_lexer": "ipython3",
   "version": "3.7.6"
  },
  "toc": {
   "base_numbering": 1,
   "nav_menu": {},
   "number_sections": true,
   "sideBar": true,
   "skip_h1_title": false,
   "title_cell": "Table of Contents",
   "title_sidebar": "Contents",
   "toc_cell": false,
   "toc_position": {
    "height": "calc(100% - 180px)",
    "left": "10px",
    "top": "150px",
    "width": "248.234px"
   },
   "toc_section_display": true,
   "toc_window_display": true
  }
 },
 "nbformat": 4,
 "nbformat_minor": 2
}
