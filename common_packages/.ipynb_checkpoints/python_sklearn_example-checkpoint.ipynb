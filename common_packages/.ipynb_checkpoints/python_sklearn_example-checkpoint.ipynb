{
 "cells": [
  {
   "cell_type": "markdown",
   "metadata": {},
   "source": [
    "# Sklearn Introduction\n",
    "\n",
    "Classification, Regression, Clustering, Dimensionality reduction, Model selection, Preprocessing\n",
    "\n",
    "![jupyter](./sklearn.jpg)"
   ]
  },
  {
   "cell_type": "code",
   "execution_count": 7,
   "metadata": {},
   "outputs": [
    {
     "name": "stdout",
     "output_type": "stream",
     "text": [
      "0.22.2.post1\n"
     ]
    }
   ],
   "source": [
    "import sklearn\n",
    "print( sklearn.__version__ )"
   ]
  },
  {
   "cell_type": "markdown",
   "metadata": {},
   "source": [
    "# SKlearn Data"
   ]
  },
  {
   "cell_type": "markdown",
   "metadata": {},
   "source": [
    "## Data Form\n",
    "\n",
    "在 Sklean 里，模型能即用的数据有两种形式：\n",
    "1. Numpy 二维数组 (ndarray) 的稠密数据 (dense data)，通常都是这种格式。\n",
    "2. SciPy 矩阵 (scipy.sparse.matrix) 的稀疏数据 (sparse data)，比如文本分析每个单词 (字典有 100000 个\n",
    "词) 做独热编码得到矩阵有很多 0，这时用 ndarray 就不合适了，太耗内存。\n",
    "\n",
    "上述数据在机器学习中通常用符号 X 表示，是模型自变量。它的大小 = [样本数, 特征数]。"
   ]
  },
  {
   "cell_type": "markdown",
   "metadata": {},
   "source": [
    "## Self Data"
   ]
  },
  {
   "cell_type": "code",
   "execution_count": 1,
   "metadata": {},
   "outputs": [],
   "source": [
    "# load data\n",
    "from sklearn.datasets import load_iris\n",
    "iris = load_iris()"
   ]
  },
  {
   "cell_type": "code",
   "execution_count": 2,
   "metadata": {},
   "outputs": [
    {
     "data": {
      "text/plain": [
       "dict_keys(['data', 'target', 'target_names', 'DESCR', 'feature_names', 'filename'])"
      ]
     },
     "execution_count": 2,
     "metadata": {},
     "output_type": "execute_result"
    }
   ],
   "source": [
    "iris.keys()"
   ]
  },
  {
   "cell_type": "code",
   "execution_count": 3,
   "metadata": {},
   "outputs": [
    {
     "name": "stdout",
     "output_type": "stream",
     "text": [
      "(150, 4)\n",
      "['sepal length (cm)', 'sepal width (cm)', 'petal length (cm)', 'petal width (cm)']\n"
     ]
    },
    {
     "data": {
      "text/plain": [
       "array([[5.1, 3.5, 1.4, 0.2],\n",
       "       [4.9, 3. , 1.4, 0.2],\n",
       "       [4.7, 3.2, 1.3, 0.2],\n",
       "       [4.6, 3.1, 1.5, 0.2],\n",
       "       [5. , 3.6, 1.4, 0.2]])"
      ]
     },
     "execution_count": 3,
     "metadata": {},
     "output_type": "execute_result"
    }
   ],
   "source": [
    "n_samples, n_features = iris['data'].shape\n",
    "print((n_samples, n_features))\n",
    "print(iris.feature_names)\n",
    "iris.data[0:5]"
   ]
  },
  {
   "cell_type": "code",
   "execution_count": 4,
   "metadata": {},
   "outputs": [
    {
     "name": "stdout",
     "output_type": "stream",
     "text": [
      "(150,)\n",
      "['setosa' 'versicolor' 'virginica']\n"
     ]
    },
    {
     "data": {
      "text/plain": [
       "array([0, 0, 0, 0, 0, 0, 0, 0, 0, 0, 0, 0, 0, 0, 0, 0, 0, 0, 0, 0, 0, 0,\n",
       "       0, 0, 0, 0, 0, 0, 0, 0, 0, 0, 0, 0, 0, 0, 0, 0, 0, 0, 0, 0, 0, 0,\n",
       "       0, 0, 0, 0, 0, 0, 1, 1, 1, 1, 1, 1, 1, 1, 1, 1, 1, 1, 1, 1, 1, 1,\n",
       "       1, 1, 1, 1, 1, 1, 1, 1, 1, 1, 1, 1, 1, 1, 1, 1, 1, 1, 1, 1, 1, 1,\n",
       "       1, 1, 1, 1, 1, 1, 1, 1, 1, 1, 1, 1, 2, 2, 2, 2, 2, 2, 2, 2, 2, 2,\n",
       "       2, 2, 2, 2, 2, 2, 2, 2, 2, 2, 2, 2, 2, 2, 2, 2, 2, 2, 2, 2, 2, 2,\n",
       "       2, 2, 2, 2, 2, 2, 2, 2, 2, 2, 2, 2, 2, 2, 2, 2, 2, 2])"
      ]
     },
     "execution_count": 4,
     "metadata": {},
     "output_type": "execute_result"
    }
   ],
   "source": [
    "print(iris.target.shape)\n",
    "print(iris.target_names)\n",
    "iris.target"
   ]
  },
  {
   "cell_type": "code",
   "execution_count": 5,
   "metadata": {},
   "outputs": [
    {
     "data": {
      "text/html": [
       "<div>\n",
       "<style scoped>\n",
       "    .dataframe tbody tr th:only-of-type {\n",
       "        vertical-align: middle;\n",
       "    }\n",
       "\n",
       "    .dataframe tbody tr th {\n",
       "        vertical-align: top;\n",
       "    }\n",
       "\n",
       "    .dataframe thead th {\n",
       "        text-align: right;\n",
       "    }\n",
       "</style>\n",
       "<table border=\"1\" class=\"dataframe\">\n",
       "  <thead>\n",
       "    <tr style=\"text-align: right;\">\n",
       "      <th></th>\n",
       "      <th>sepal length (cm)</th>\n",
       "      <th>sepal width (cm)</th>\n",
       "      <th>petal length (cm)</th>\n",
       "      <th>petal width (cm)</th>\n",
       "      <th>species</th>\n",
       "    </tr>\n",
       "  </thead>\n",
       "  <tbody>\n",
       "    <tr>\n",
       "      <td>0</td>\n",
       "      <td>5.1</td>\n",
       "      <td>3.5</td>\n",
       "      <td>1.4</td>\n",
       "      <td>0.2</td>\n",
       "      <td>setosa</td>\n",
       "    </tr>\n",
       "    <tr>\n",
       "      <td>1</td>\n",
       "      <td>4.9</td>\n",
       "      <td>3.0</td>\n",
       "      <td>1.4</td>\n",
       "      <td>0.2</td>\n",
       "      <td>setosa</td>\n",
       "    </tr>\n",
       "    <tr>\n",
       "      <td>2</td>\n",
       "      <td>4.7</td>\n",
       "      <td>3.2</td>\n",
       "      <td>1.3</td>\n",
       "      <td>0.2</td>\n",
       "      <td>setosa</td>\n",
       "    </tr>\n",
       "    <tr>\n",
       "      <td>147</td>\n",
       "      <td>6.5</td>\n",
       "      <td>3.0</td>\n",
       "      <td>5.2</td>\n",
       "      <td>2.0</td>\n",
       "      <td>virginica</td>\n",
       "    </tr>\n",
       "    <tr>\n",
       "      <td>148</td>\n",
       "      <td>6.2</td>\n",
       "      <td>3.4</td>\n",
       "      <td>5.4</td>\n",
       "      <td>2.3</td>\n",
       "      <td>virginica</td>\n",
       "    </tr>\n",
       "    <tr>\n",
       "      <td>149</td>\n",
       "      <td>5.9</td>\n",
       "      <td>3.0</td>\n",
       "      <td>5.1</td>\n",
       "      <td>1.8</td>\n",
       "      <td>virginica</td>\n",
       "    </tr>\n",
       "  </tbody>\n",
       "</table>\n",
       "</div>"
      ],
      "text/plain": [
       "     sepal length (cm)  sepal width (cm)  petal length (cm)  petal width (cm)  \\\n",
       "0                  5.1               3.5                1.4               0.2   \n",
       "1                  4.9               3.0                1.4               0.2   \n",
       "2                  4.7               3.2                1.3               0.2   \n",
       "147                6.5               3.0                5.2               2.0   \n",
       "148                6.2               3.4                5.4               2.3   \n",
       "149                5.9               3.0                5.1               1.8   \n",
       "\n",
       "       species  \n",
       "0       setosa  \n",
       "1       setosa  \n",
       "2       setosa  \n",
       "147  virginica  \n",
       "148  virginica  \n",
       "149  virginica  "
      ]
     },
     "execution_count": 5,
     "metadata": {},
     "output_type": "execute_result"
    }
   ],
   "source": [
    "import pandas as pd\n",
    "\n",
    "iris_data = pd.DataFrame( iris.data, \n",
    "                          columns=iris.feature_names )\n",
    "iris_data['species'] = iris.target_names[iris.target]\n",
    "iris_data.head(3).append(iris_data.tail(3))"
   ]
  },
  {
   "cell_type": "code",
   "execution_count": 7,
   "metadata": {},
   "outputs": [
    {
     "data": {
      "image/png": "[encoded data removed]",
      "text/plain": [
       "<Figure size 804.75x720 with 20 Axes>"
      ]
     },
     "metadata": {
      "needs_background": "light"
     },
     "output_type": "display_data"
    }
   ],
   "source": [
    "import seaborn as sns\n",
    "sns.pairplot( iris_data, hue='species', palette='husl' );"
   ]
  },
  {
   "cell_type": "markdown",
   "metadata": {},
   "source": [
    "1. 打包好的数据：对于小数据集，用 sklearn.datasets.load_*\n",
    "2. 分流下载数据：对于大数据集，用 sklearn.datasets.fetch_*\n",
    "3. 随机创建数据：为了快速展示，用 sklearn.datasets.make_*"
   ]
  },
  {
   "cell_type": "code",
   "execution_count": 11,
   "metadata": {},
   "outputs": [
    {
     "name": "stderr",
     "output_type": "stream",
     "text": [
      "Downloading Cal. housing from https://ndownloader.figshare.com/files/5976036 to C:\\Users\\Administrator\\scikit_learn_data\n"
     ]
    },
    {
     "data": {
      "text/plain": [
       "(tuple, 2)"
      ]
     },
     "execution_count": 11,
     "metadata": {},
     "output_type": "execute_result"
    }
   ],
   "source": [
    "from sklearn import datasets\n",
    "#model = sklearn.linear_model.LinearRegression()\n",
    "\n",
    "digits = datasets.load_digits()\n",
    "digits.keys()\n",
    "\n",
    "california_housing = datasets.fetch_california_housing()\n",
    "california_housing.keys()\n",
    "\n",
    "gaussian_quantiles = datasets.make_gaussian_quantiles() # 高斯分位数\n",
    "type(gaussian_quantiles), len(gaussian_quantiles)"
   ]
  },
  {
   "cell_type": "markdown",
   "metadata": {},
   "source": [
    "# Sklearn API\n",
    "\n",
    "Sklearn 里万物皆估计器。估计器是个非常抽象的叫法，可把它不严谨的当成一个模型 (用来回归、分类、聚\n",
    "类、降维)，或当成一套流程 (预处理、网格最终)。\n",
    "本节三大 API 其实都是估计器：\n",
    "1. 估计器 (estimator) 当然是估计器\n",
    "2. 预测器 (predictor) 是具有预测功能的估计器\n",
    "3. 转换器 (transformer) 是具有转换功能的估计器"
   ]
  },
  {
   "cell_type": "markdown",
   "metadata": {},
   "source": [
    "## Estimator \n",
    "\n",
    "fitter\n",
    "\n",
    "任何可以基于数据集对一些参数进行估计的对象都被称为估计器。\n",
    "\n",
    "两个核心点：1. 需要输入数据，2. 可以估计参数。估计器首先被创建，然后被拟合。"
   ]
  },
  {
   "cell_type": "markdown",
   "metadata": {},
   "source": [
    "### Esitimator-Linear Regression"
   ]
  },
  {
   "cell_type": "code",
   "execution_count": 27,
   "metadata": {},
   "outputs": [
    {
     "name": "stdout",
     "output_type": "stream",
     "text": [
      "[2.]\n",
      "1.0\n"
     ]
    },
    {
     "data": {
      "image/png": "[encoded data removed]",
      "text/plain": [
       "<Figure size 432x288 with 1 Axes>"
      ]
     },
     "metadata": {
      "needs_background": "light"
     },
     "output_type": "display_data"
    }
   ],
   "source": [
    "# Estimator--有监督（线性回归）\n",
    "from sklearn.linear_model import LinearRegression\n",
    "import numpy as np\n",
    "import matplotlib.pyplot as plt\n",
    "\n",
    "model = LinearRegression(normalize=True)\n",
    "model\n",
    "\n",
    "x = np.arange(10)\n",
    "y = 2 * x + 1\n",
    "plt.plot( x, y, 'o' );\n",
    "\n",
    "X = x[:, np.newaxis]\n",
    "model.fit( X, y )\n",
    "\n",
    "print( model.coef_ )\n",
    "print( model.intercept_ )"
   ]
  },
  {
   "cell_type": "markdown",
   "metadata": {},
   "source": [
    "### Estimator-K-means"
   ]
  },
  {
   "cell_type": "code",
   "execution_count": 64,
   "metadata": {},
   "outputs": [
    {
     "name": "stdout",
     "output_type": "stream",
     "text": [
      "[[5.77358491 2.69245283]\n",
      " [5.006      3.428     ]\n",
      " [6.81276596 3.07446809]] \n",
      "\n",
      "[1 1 1 1 1 1 1 1 1 1 1 1 1 1 1 1 1 1 1 1 1 1 1 1 1 1 1 1 1 1 1 1 1 1 1 1 1\n",
      " 1 1 1 1 1 1 1 1 1 1 1 1 1 2 2 2 0 2 0 2 0 2 0 0 0 0 0 0 2 0 0 0 0 0 0 0 0\n",
      " 2 2 2 2 0 0 0 0 0 0 0 0 2 0 0 0 0 0 0 0 0 0 0 0 0 0 2 0 2 2 2 2 0 2 2 2 2\n",
      " 2 2 0 0 2 2 2 2 0 2 0 2 0 2 2 0 0 2 2 2 2 2 0 0 2 2 2 0 2 2 2 0 2 2 2 0 2\n",
      " 2 0] \n",
      "\n",
      "37.05070212765958 \n",
      "\n",
      "[0 0 0 0 0 0 0 0 0 0 0 0 0 0 0 0 0 0 0 0 0 0 0 0 0 0 0 0 0 0 0 0 0 0 0 0 0\n",
      " 0 0 0 0 0 0 0 0 0 0 0 0 0 1 1 1 1 1 1 1 1 1 1 1 1 1 1 1 1 1 1 1 1 1 1 1 1\n",
      " 1 1 1 1 1 1 1 1 1 1 1 1 1 1 1 1 1 1 1 1 1 1 1 1 1 1 2 2 2 2 2 2 2 2 2 2 2\n",
      " 2 2 2 2 2 2 2 2 2 2 2 2 2 2 2 2 2 2 2 2 2 2 2 2 2 2 2 2 2 2 2 2 2 2 2 2 2\n",
      " 2 2]\n"
     ]
    }
   ],
   "source": [
    "# Estimator--无监督（k-means）\n",
    "from sklearn.cluster import KMeans\n",
    "\n",
    "model = KMeans( n_clusters=3 )\n",
    "model\n",
    "\n",
    "X = iris.data[:,0:2]\n",
    "model.fit(X)\n",
    "\n",
    "print( model.cluster_centers_, '\\n')\n",
    "print( model.labels_, '\\n' )\n",
    "print( model.inertia_, '\\n')\n",
    "print( iris.target )"
   ]
  },
  {
   "cell_type": "markdown",
   "metadata": {},
   "source": [
    "### colormap"
   ]
  },
  {
   "cell_type": "code",
   "execution_count": 19,
   "metadata": {},
   "outputs": [],
   "source": [
    "# color\n",
    "r_hex = '#dc2624'     # red,       RGB = 220,38,36\n",
    "dt_hex = '#2b4750'    # dark teal, RGB = 43,71,80\n",
    "tl_hex = '#45a0a2'    # teal,      RGB = 69,160,162\n",
    "r1_hex = '#e87a59'    # red,       RGB = 232,122,89\n",
    "tl1_hex = '#7dcaa9'   # teal,      RGB = 125,202,169\n",
    "g_hex = '#649E7D'     # green,     RGB = 100,158,125\n",
    "o_hex = '#dc8018'     # orange,    RGB = 220,128,24\n",
    "tn_hex = '#C89F91'    # tan,       RGB = 200,159,145\n",
    "g50_hex = '#6c6d6c'   # grey-50,   RGB = 108,109,108\n",
    "bg_hex = '#4f6268'    # blue grey, RGB = 79,98,104\n",
    "g25_hex = '#c7cccf'   # grey-25,   RGB = 199,204,207"
   ]
  },
  {
   "cell_type": "code",
   "execution_count": 65,
   "metadata": {},
   "outputs": [
    {
     "data": {
      "image/png": "[encoded data removed]",
      "text/plain": [
       "<Figure size 864x432 with 2 Axes>"
      ]
     },
     "metadata": {
      "needs_background": "light"
     },
     "output_type": "display_data"
    }
   ],
   "source": [
    "from matplotlib.colors import ListedColormap\n",
    "\n",
    "cmap_light = ListedColormap( ['#FFAAAA', '#AAFFAA', '#AAAAFF'])\n",
    "cmap_bold1 = ListedColormap( [r_hex, g_hex, dt_hex])\n",
    "cmap_bold2 = ListedColormap( [r_hex, dt_hex, g_hex])\n",
    "\n",
    "centroid = model.cluster_centers_\n",
    "label = iris.target\n",
    "true_centroid = np.vstack((X[label == 0, :].mean(axis=0),\n",
    "                          X[label == 1, :].mean(axis=0),\n",
    "                          X[label == 2, :].mean(axis=0)))\n",
    "\n",
    "plt.figure( figsize=(12,6) )\n",
    "\n",
    "plt.subplot(1,2,1)\n",
    "plt.scatter( X[:,0], X[:,1], c=model.labels_, cmap=cmap_bold1)\n",
    "plt.scatter( centroid[:,0], centroid[:,1], marker='o', s=200, edgecolors='k', c=[0,1,2], cmap=cmap_light )\n",
    "plt.xlabel('sepal length (cm)')\n",
    "plt.ylabel('sepal width (cm)')\n",
    "plt.title('Cluster Class')\n",
    "\n",
    "plt.subplot(1,2,2)\n",
    "plt.scatter( X[:,0], X[:,1], c=iris.target, cmap=cmap_bold2)\n",
    "plt.scatter( true_centroid[:,0], true_centroid[:,1], marker='o', s=200, edgecolors='k', c=[0,2,1], cmap=cmap_light )\n",
    "plt.xlabel('sepal length (cm)')\n",
    "plt.ylabel('sepal width (cm)')\n",
    "plt.title('True Class')\n",
    "\n",
    "plt.show()"
   ]
  },
  {
   "cell_type": "markdown",
   "metadata": {},
   "source": [
    "## Predictor"
   ]
  },
  {
   "cell_type": "markdown",
   "metadata": {},
   "source": [
    "定义：预测器在估计器上做了一个延展，延展出预测的功能。\n",
    "\n",
    "两个核心点：1. 基于学到的参数预测，2. 预测有很多指标。最常见的就是 predict() 函数，此外还有predict_prob()、score()、decision_function()。"
   ]
  },
  {
   "cell_type": "markdown",
   "metadata": {},
   "source": [
    "1. predict()：对于分类问题，预测的类别；\n",
    "2. predict_proba()：对于分类问题，预测该类别的信心如何；\n",
    "3. score() 返回的是分类准确率\n",
    "4. decision_function() 返回的是每个样例在每个类下的分数值"
   ]
  },
  {
   "cell_type": "code",
   "execution_count": 3,
   "metadata": {},
   "outputs": [],
   "source": [
    "# 所有变量都输出\n",
    "from IPython.core.interactiveshell import InteractiveShell\n",
    "InteractiveShell.ast_node_interactivity = \"all\""
   ]
  },
  {
   "cell_type": "code",
   "execution_count": 2,
   "metadata": {},
   "outputs": [
    {
     "data": {
      "text/plain": [
       "1"
      ]
     },
     "execution_count": 2,
     "metadata": {},
     "output_type": "execute_result"
    },
    {
     "data": {
      "text/plain": [
       "2"
      ]
     },
     "execution_count": 2,
     "metadata": {},
     "output_type": "execute_result"
    }
   ],
   "source": [
    "a = 2\n",
    "b = 1\n",
    "b\n",
    "a"
   ]
  },
  {
   "cell_type": "markdown",
   "metadata": {},
   "source": [
    "### Train &. Test Split"
   ]
  },
  {
   "cell_type": "code",
   "execution_count": 8,
   "metadata": {},
   "outputs": [
    {
     "name": "stdout",
     "output_type": "stream",
     "text": [
      "The size of X_train is  (120, 4)\n",
      "The size of y_train is  (120,)\n",
      "The size of X_test is  (30, 4)\n",
      "The size of y_test is  (30,)\n"
     ]
    }
   ],
   "source": [
    "# precitor\n",
    "\n",
    "from sklearn.model_selection import train_test_split\n",
    "\n",
    "X_train, X_test, y_train, y_test = train_test_split( iris['data'],\n",
    "                                                   iris['target'],\n",
    "                                                   test_size=0.2 )\n",
    "\n",
    "print( 'The size of X_train is ', X_train.shape )\n",
    "print( 'The size of y_train is ', y_train.shape )\n",
    "print( 'The size of X_test is ', X_test.shape )\n",
    "print( 'The size of y_test is ', y_test.shape ) \n",
    "\n"
   ]
  },
  {
   "cell_type": "markdown",
   "metadata": {},
   "source": [
    "### Predictor-LogisticRegression"
   ]
  },
  {
   "cell_type": "code",
   "execution_count": 4,
   "metadata": {},
   "outputs": [
    {
     "ename": "NameError",
     "evalue": "name 'X_train' is not defined",
     "output_type": "error",
     "traceback": [
      "\u001b[1;31m---------------------------------------------------------------------------\u001b[0m",
      "\u001b[1;31mNameError\u001b[0m                                 Traceback (most recent call last)",
      "\u001b[1;32m<ipython-input-4-cacd55dd7880>\u001b[0m in \u001b[0;36m<module>\u001b[1;34m\u001b[0m\n\u001b[0;32m      2\u001b[0m \u001b[1;33m\u001b[0m\u001b[0m\n\u001b[0;32m      3\u001b[0m \u001b[0mmodel\u001b[0m \u001b[1;33m=\u001b[0m \u001b[0mLogisticRegression\u001b[0m\u001b[1;33m(\u001b[0m \u001b[0msolver\u001b[0m\u001b[1;33m=\u001b[0m\u001b[1;34m'lbfgs'\u001b[0m\u001b[1;33m,\u001b[0m \u001b[0mmulti_class\u001b[0m\u001b[1;33m=\u001b[0m\u001b[1;34m'multinomial'\u001b[0m \u001b[1;33m)\u001b[0m\u001b[1;33m\u001b[0m\u001b[1;33m\u001b[0m\u001b[0m\n\u001b[1;32m----> 4\u001b[1;33m \u001b[0mmodel\u001b[0m\u001b[1;33m.\u001b[0m\u001b[0mfit\u001b[0m\u001b[1;33m(\u001b[0m\u001b[0mX_train\u001b[0m\u001b[1;33m,\u001b[0m \u001b[0my_train\u001b[0m\u001b[1;33m)\u001b[0m\u001b[1;33m\u001b[0m\u001b[1;33m\u001b[0m\u001b[0m\n\u001b[0m\u001b[0;32m      5\u001b[0m \u001b[1;33m\u001b[0m\u001b[0m\n\u001b[0;32m      6\u001b[0m \u001b[0my_pred\u001b[0m \u001b[1;33m=\u001b[0m \u001b[0mmodel\u001b[0m\u001b[1;33m.\u001b[0m\u001b[0mpredict\u001b[0m\u001b[1;33m(\u001b[0m \u001b[0mX_test\u001b[0m \u001b[1;33m)\u001b[0m\u001b[1;33m\u001b[0m\u001b[1;33m\u001b[0m\u001b[0m\n",
      "\u001b[1;31mNameError\u001b[0m: name 'X_train' is not defined"
     ]
    }
   ],
   "source": [
    "from sklearn.linear_model import LogisticRegression\n",
    "\n",
    "model = LogisticRegression( solver='lbfgs', multi_class='multinomial' )\n",
    "model.fit(X_train, y_train)\n",
    "\n",
    "y_pred = model.predict( X_test )\n",
    "p_pred = model.predict_proba( X_test )\n",
    "print( y_test, '\\n' )\n",
    "print( y_pred, '\\n' )\n",
    "print( p_pred )"
   ]
  },
  {
   "cell_type": "code",
   "execution_count": 12,
   "metadata": {},
   "outputs": [
    {
     "data": {
      "text/html": [
       "<div>\n",
       "<style scoped>\n",
       "    .dataframe tbody tr th:only-of-type {\n",
       "        vertical-align: middle;\n",
       "    }\n",
       "\n",
       "    .dataframe tbody tr th {\n",
       "        vertical-align: top;\n",
       "    }\n",
       "\n",
       "    .dataframe thead th {\n",
       "        text-align: right;\n",
       "    }\n",
       "</style>\n",
       "<table border=\"1\" class=\"dataframe\">\n",
       "  <thead>\n",
       "    <tr style=\"text-align: right;\">\n",
       "      <th></th>\n",
       "      <th>Class 1 Prob</th>\n",
       "      <th>Class 2 Prob</th>\n",
       "      <th>Class 3 Prob</th>\n",
       "      <th>Predicted Class</th>\n",
       "      <th>True Class</th>\n",
       "    </tr>\n",
       "  </thead>\n",
       "  <tbody>\n",
       "    <tr>\n",
       "      <td>7</td>\n",
       "      <td>0.000967</td>\n",
       "      <td>0.433379</td>\n",
       "      <td>5.656536e-01</td>\n",
       "      <td>2</td>\n",
       "      <td>1</td>\n",
       "    </tr>\n",
       "    <tr>\n",
       "      <td>8</td>\n",
       "      <td>0.983000</td>\n",
       "      <td>0.017000</td>\n",
       "      <td>2.954322e-08</td>\n",
       "      <td>0</td>\n",
       "      <td>0</td>\n",
       "    </tr>\n",
       "  </tbody>\n",
       "</table>\n",
       "</div>"
      ],
      "text/plain": [
       "   Class 1 Prob  Class 2 Prob  Class 3 Prob  Predicted Class  True Class\n",
       "7      0.000967      0.433379  5.656536e-01                2           1\n",
       "8      0.983000      0.017000  2.954322e-08                0           0"
      ]
     },
     "execution_count": 12,
     "metadata": {},
     "output_type": "execute_result"
    }
   ],
   "source": [
    "s = ['Class 1 Prob', 'Class 2 Prob', 'Class 3 Prob']\n",
    "prob_DF = pd.DataFrame( p_pred, columns=s )\n",
    "prob_DF['Predicted Class'] = y_pred\n",
    "prob_DF['True Class'] = y_test\n",
    "prob_DF.iloc[7:9,:]"
   ]
  },
  {
   "cell_type": "code",
   "execution_count": 14,
   "metadata": {},
   "outputs": [
    {
     "name": "stdout",
     "output_type": "stream",
     "text": [
      "0.9333333333333333\n",
      "0.9333333333333333\n"
     ]
    },
    {
     "data": {
      "text/html": [
       "<div>\n",
       "<style scoped>\n",
       "    .dataframe tbody tr th:only-of-type {\n",
       "        vertical-align: middle;\n",
       "    }\n",
       "\n",
       "    .dataframe tbody tr th {\n",
       "        vertical-align: top;\n",
       "    }\n",
       "\n",
       "    .dataframe thead th {\n",
       "        text-align: right;\n",
       "    }\n",
       "</style>\n",
       "<table border=\"1\" class=\"dataframe\">\n",
       "  <thead>\n",
       "    <tr style=\"text-align: right;\">\n",
       "      <th></th>\n",
       "      <th>Class 1 Score</th>\n",
       "      <th>Class 2 Score</th>\n",
       "      <th>Class 3 Score</th>\n",
       "      <th>Predicted Class</th>\n",
       "    </tr>\n",
       "  </thead>\n",
       "  <tbody>\n",
       "    <tr>\n",
       "      <td>25</td>\n",
       "      <td>-1.140748</td>\n",
       "      <td>1.968452</td>\n",
       "      <td>-0.827704</td>\n",
       "      <td>1</td>\n",
       "    </tr>\n",
       "    <tr>\n",
       "      <td>26</td>\n",
       "      <td>-3.735532</td>\n",
       "      <td>2.216585</td>\n",
       "      <td>1.518947</td>\n",
       "      <td>1</td>\n",
       "    </tr>\n",
       "    <tr>\n",
       "      <td>27</td>\n",
       "      <td>6.673319</td>\n",
       "      <td>3.166066</td>\n",
       "      <td>-9.839385</td>\n",
       "      <td>0</td>\n",
       "    </tr>\n",
       "    <tr>\n",
       "      <td>28</td>\n",
       "      <td>1.478084</td>\n",
       "      <td>2.321713</td>\n",
       "      <td>-3.799797</td>\n",
       "      <td>1</td>\n",
       "    </tr>\n",
       "    <tr>\n",
       "      <td>29</td>\n",
       "      <td>-0.832309</td>\n",
       "      <td>1.827106</td>\n",
       "      <td>-0.994797</td>\n",
       "      <td>1</td>\n",
       "    </tr>\n",
       "  </tbody>\n",
       "</table>\n",
       "</div>"
      ],
      "text/plain": [
       "    Class 1 Score  Class 2 Score  Class 3 Score  Predicted Class\n",
       "25      -1.140748       1.968452      -0.827704                1\n",
       "26      -3.735532       2.216585       1.518947                1\n",
       "27       6.673319       3.166066      -9.839385                0\n",
       "28       1.478084       2.321713      -3.799797                1\n",
       "29      -0.832309       1.827106      -0.994797                1"
      ]
     },
     "execution_count": 14,
     "metadata": {},
     "output_type": "execute_result"
    }
   ],
   "source": [
    "import numpy as np\n",
    "\n",
    "print( model.score( X_test, y_test ) )    # accuracy\n",
    "print( np.sum(y_pred==y_test)/len(y_test) )\n",
    "\n",
    "decision_score = model.decision_function( X_test )\n",
    "# print( decision_score )\n",
    "s = ['Class 1 Score', 'Class 2 Score', 'Class 3 Score']\n",
    "decision_DF = pd.DataFrame( decision_score, columns=s )\n",
    "decision_DF['Predicted Class'] = y_pred\n",
    "decision_DF.tail()"
   ]
  },
  {
   "cell_type": "markdown",
   "metadata": {},
   "source": [
    "### Predictor-K-means"
   ]
  },
  {
   "cell_type": "code",
   "execution_count": 26,
   "metadata": {},
   "outputs": [
    {
     "name": "stdout",
     "output_type": "stream",
     "text": [
      "[1 0 2 2 1 2 1 0 1 1 2 2 0 0 2 0 1 2 1 1 2 1 0 2 2 2 0 1 2 2]\n",
      "[0 2 1 2 0 1 0 1 0 0 1 1 2 2 1 2 0 1 0 0 1 0 2 2 2 1 1 0 1 1]\n"
     ]
    }
   ],
   "source": [
    "# Predicator-无监督（k-means）\n",
    "from sklearn.cluster import KMeans\n",
    "\n",
    "model = KMeans( n_clusters=3 )\n",
    "model.fit(X_train[:,0:4])\n",
    "\n",
    "# print( model.cluster_centers_, '\\n')\n",
    "# print( model.labels_, '\\n' )\n",
    "# print( model.inertia_, '\\n')\n",
    "# print( iris.target )\n",
    "\n",
    "idx_pred = model.predict( X_test[:,0:4] )\n",
    "print( idx_pred )\n",
    "print( y_test )"
   ]
  },
  {
   "cell_type": "code",
   "execution_count": 25,
   "metadata": {},
   "outputs": [
    {
     "data": {
      "text/plain": [
       "array([[5.9, 3. , 4.2, 1.5],\n",
       "       [5.5, 2.5, 4. , 1.3],\n",
       "       [4.9, 2.4, 3.3, 1. ]])"
      ]
     },
     "execution_count": 25,
     "metadata": {},
     "output_type": "execute_result"
    }
   ],
   "source": [
    "X_train[0:3,:]"
   ]
  },
  {
   "cell_type": "code",
   "execution_count": 15,
   "metadata": {},
   "outputs": [
    {
     "data": {
      "text/plain": [
       "array([[5.9, 3. , 4.2, 1.5],\n",
       "       [5.5, 2.5, 4. , 1.3],\n",
       "       [4.9, 2.4, 3.3, 1. ],\n",
       "       [7.2, 3.6, 6.1, 2.5],\n",
       "       [6. , 2.9, 4.5, 1.5],\n",
       "       [5.8, 2.7, 3.9, 1.2],\n",
       "       [7.1, 3. , 5.9, 2.1],\n",
       "       [6.5, 3.2, 5.1, 2. ],\n",
       "       [5.4, 3. , 4.5, 1.5],\n",
       "       [6.4, 2.9, 4.3, 1.3],\n",
       "       [5.6, 2.5, 3.9, 1.1],\n",
       "       [5.8, 2.7, 5.1, 1.9],\n",
       "       [5.8, 4. , 1.2, 0.2],\n",
       "       [5.7, 2.8, 4.1, 1.3],\n",
       "       [5.4, 3.4, 1.5, 0.4],\n",
       "       [5.2, 3.4, 1.4, 0.2],\n",
       "       [4.8, 3.1, 1.6, 0.2],\n",
       "       [7.3, 2.9, 6.3, 1.8],\n",
       "       [5.1, 3.5, 1.4, 0.2],\n",
       "       [5.2, 4.1, 1.5, 0.1],\n",
       "       [5.1, 3.8, 1.5, 0.3],\n",
       "       [4.9, 3.1, 1.5, 0.1],\n",
       "       [7.2, 3. , 5.8, 1.6],\n",
       "       [5. , 3.5, 1.3, 0.3],\n",
       "       [6. , 2.2, 4. , 1. ],\n",
       "       [6.8, 2.8, 4.8, 1.4],\n",
       "       [5.7, 3.8, 1.7, 0.3],\n",
       "       [4.6, 3.1, 1.5, 0.2],\n",
       "       [4.7, 3.2, 1.3, 0.2],\n",
       "       [5. , 3. , 1.6, 0.2],\n",
       "       [5.6, 2.7, 4.2, 1.3],\n",
       "       [4.8, 3. , 1.4, 0.3],\n",
       "       [6.1, 3. , 4.6, 1.4],\n",
       "       [4.4, 3. , 1.3, 0.2],\n",
       "       [5.1, 3.8, 1.6, 0.2],\n",
       "       [6.3, 3.3, 4.7, 1.6],\n",
       "       [6.1, 3. , 4.9, 1.8],\n",
       "       [4.4, 2.9, 1.4, 0.2],\n",
       "       [5.7, 2.6, 3.5, 1. ],\n",
       "       [6.4, 3.2, 5.3, 2.3],\n",
       "       [7.2, 3.2, 6. , 1.8],\n",
       "       [5. , 3.2, 1.2, 0.2],\n",
       "       [5.5, 2.6, 4.4, 1.2],\n",
       "       [5.2, 3.5, 1.5, 0.2],\n",
       "       [6.4, 2.8, 5.6, 2.1],\n",
       "       [5.9, 3.2, 4.8, 1.8],\n",
       "       [6. , 3. , 4.8, 1.8],\n",
       "       [5. , 3.4, 1.5, 0.2],\n",
       "       [7.9, 3.8, 6.4, 2. ],\n",
       "       [5.4, 3.9, 1.3, 0.4],\n",
       "       [6. , 2.2, 5. , 1.5],\n",
       "       [5. , 2.3, 3.3, 1. ],\n",
       "       [7.7, 2.8, 6.7, 2. ],\n",
       "       [5.5, 2.4, 3.7, 1. ],\n",
       "       [5.9, 3. , 5.1, 1.8],\n",
       "       [6.7, 3.3, 5.7, 2.5],\n",
       "       [6.5, 3. , 5.5, 1.8],\n",
       "       [6.1, 2.9, 4.7, 1.4],\n",
       "       [6.2, 2.2, 4.5, 1.5],\n",
       "       [6.9, 3.1, 5.4, 2.1],\n",
       "       [6.3, 2.9, 5.6, 1.8],\n",
       "       [4.9, 2.5, 4.5, 1.7],\n",
       "       [5. , 3.5, 1.6, 0.6],\n",
       "       [4.7, 3.2, 1.6, 0.2],\n",
       "       [4.9, 3.1, 1.5, 0.2],\n",
       "       [6.4, 3.1, 5.5, 1.8],\n",
       "       [5.5, 2.4, 3.8, 1.1],\n",
       "       [6.7, 3.1, 4.4, 1.4],\n",
       "       [5.4, 3.7, 1.5, 0.2],\n",
       "       [6.6, 3. , 4.4, 1.4],\n",
       "       [5.8, 2.7, 4.1, 1. ],\n",
       "       [7.4, 2.8, 6.1, 1.9],\n",
       "       [6.7, 3. , 5.2, 2.3],\n",
       "       [6.7, 3.1, 4.7, 1.5],\n",
       "       [5.8, 2.6, 4. , 1.2],\n",
       "       [6.3, 2.5, 4.9, 1.5],\n",
       "       [4.8, 3.4, 1.6, 0.2],\n",
       "       [4.5, 2.3, 1.3, 0.3],\n",
       "       [6.4, 3.2, 4.5, 1.5],\n",
       "       [6.1, 2.6, 5.6, 1.4],\n",
       "       [5.5, 4.2, 1.4, 0.2],\n",
       "       [5.7, 3. , 4.2, 1.2],\n",
       "       [6.5, 3. , 5.2, 2. ],\n",
       "       [6.5, 3. , 5.8, 2.2],\n",
       "       [6.7, 3.1, 5.6, 2.4],\n",
       "       [5.5, 2.3, 4. , 1.3],\n",
       "       [6.9, 3.1, 5.1, 2.3],\n",
       "       [5.7, 2.5, 5. , 2. ],\n",
       "       [6.8, 3.2, 5.9, 2.3],\n",
       "       [5.3, 3.7, 1.5, 0.2],\n",
       "       [4.6, 3.4, 1.4, 0.3],\n",
       "       [5. , 3.3, 1.4, 0.2],\n",
       "       [7.7, 3. , 6.1, 2.3],\n",
       "       [4.6, 3.2, 1.4, 0.2],\n",
       "       [6.9, 3.2, 5.7, 2.3],\n",
       "       [7.7, 2.6, 6.9, 2.3],\n",
       "       [6.2, 2.9, 4.3, 1.3],\n",
       "       [5.4, 3.9, 1.7, 0.4],\n",
       "       [4.3, 3. , 1.1, 0.1],\n",
       "       [5.7, 2.9, 4.2, 1.3],\n",
       "       [6.5, 2.8, 4.6, 1.5],\n",
       "       [5.8, 2.7, 5.1, 1.9],\n",
       "       [5.5, 3.5, 1.3, 0.2],\n",
       "       [6.8, 3. , 5.5, 2.1],\n",
       "       [6.4, 2.7, 5.3, 1.9],\n",
       "       [5.4, 3.4, 1.7, 0.2],\n",
       "       [4.6, 3.6, 1. , 0.2],\n",
       "       [6.6, 2.9, 4.6, 1.3],\n",
       "       [6.3, 3.4, 5.6, 2.4],\n",
       "       [5.1, 3.8, 1.9, 0.4],\n",
       "       [6.3, 2.3, 4.4, 1.3],\n",
       "       [4.8, 3. , 1.4, 0.1],\n",
       "       [5.7, 4.4, 1.5, 0.4],\n",
       "       [6.3, 2.7, 4.9, 1.8],\n",
       "       [6.3, 2.5, 5. , 1.9],\n",
       "       [6.2, 3.4, 5.4, 2.3],\n",
       "       [6.1, 2.8, 4.7, 1.2],\n",
       "       [5.6, 2.8, 4.9, 2. ],\n",
       "       [5.6, 3. , 4.5, 1.5],\n",
       "       [7.7, 3.8, 6.7, 2.2]])"
      ]
     },
     "execution_count": 15,
     "metadata": {},
     "output_type": "execute_result"
    }
   ],
   "source": [
    "X_train"
   ]
  },
  {
   "cell_type": "code",
   "execution_count": 28,
   "metadata": {
    "scrolled": true
   },
   "outputs": [
    {
     "data": {
      "image/png": "[encoded data removed]",
      "text/plain": [
       "<Figure size 864x432 with 2 Axes>"
      ]
     },
     "metadata": {
      "needs_background": "light"
     },
     "output_type": "display_data"
    }
   ],
   "source": [
    "from matplotlib.colors import ListedColormap\n",
    "import matplotlib.pyplot as plt\n",
    "\n",
    "cmap_light = ListedColormap( ['#FFAAAA', '#AAFFAA', '#AAAAFF'])\n",
    "cmap_bold1 = ListedColormap( [r_hex, g_hex, dt_hex])\n",
    "cmap_bold2 = ListedColormap( [r_hex, dt_hex, g_hex])\n",
    "\n",
    "centroid = model.cluster_centers_\n",
    "true_centroid = np.vstack((X_test[y_test == 0, :].mean(axis=0),\n",
    "                          X_test[y_test == 1, :].mean(axis=0),\n",
    "                          X_test[y_test == 2, :].mean(axis=0)))\n",
    "\n",
    "plt.figure( figsize=(12,6) )\n",
    "\n",
    "plt.subplot(1,2,1)\n",
    "plt.scatter( X_test[:,2], X_test[:,3], c=idx_pred, cmap=cmap_bold1)\n",
    "plt.scatter( centroid[:,2], centroid[:,3], marker='o', s=200, edgecolors='k', c=[0,1,2], cmap=cmap_light )\n",
    "plt.xlabel('sepal length (cm)')\n",
    "plt.ylabel('sepal width (cm)')\n",
    "plt.title('Predicted Class')\n",
    "\n",
    "plt.subplot(1,2,2)\n",
    "plt.scatter( X_test[:,2], X_test[:,3], c=y_test, cmap=cmap_bold2)\n",
    "plt.scatter( true_centroid[:,2], true_centroid[:,3], marker='o', s=200, edgecolors='k', c=[0,2,1], cmap=cmap_light )\n",
    "plt.xlabel('sepal length (cm)')\n",
    "plt.ylabel('sepal width (cm)')\n",
    "plt.title('True Class')\n",
    "\n",
    "plt.show()"
   ]
  },
  {
   "cell_type": "markdown",
   "metadata": {},
   "source": [
    "## Transformer"
   ]
  },
  {
   "cell_type": "markdown",
   "metadata": {},
   "source": [
    "定义：转换器也是一种估计器，两者都带拟合功能，但估计器做完拟合来预测，而转换器做完拟合来转换。\n",
    "\n",
    "核心点：估计器里 fit + predict，转换器里 fit + transform。\n",
    "本节介绍两大类转换器\n",
    "1. 将分类型变量 (categorical) 编码成数值型变量 (numerical)\n",
    "2. 规范化 (normalize) 或标准化 (standardize) 数值型变量"
   ]
  },
  {
   "cell_type": "markdown",
   "metadata": {},
   "source": [
    "### Preprocessing (Encoder)"
   ]
  },
  {
   "cell_type": "markdown",
   "metadata": {},
   "source": [
    "#### LabelEncoder, OrdinalEncoder"
   ]
  },
  {
   "cell_type": "markdown",
   "metadata": {},
   "source": [
    "LabelEncoder 和 OrdinalEncoder 都可以将字符转成数字，但是\n",
    "LabelEncoder 的输入是一维，比如 1d ndarray;\n",
    "OrdinalEncoder 的输入是二维，比如 DataFrame。"
   ]
  },
  {
   "cell_type": "code",
   "execution_count": 6,
   "metadata": {},
   "outputs": [
    {
     "name": "stdout",
     "output_type": "stream",
     "text": [
      "LabelEncoder()\n",
      "['draw' 'lose' 'win']\n",
      "[0 0 2]\n"
     ]
    }
   ],
   "source": [
    "# Transformer\n",
    "enc = ['win','draw','lose','win']\n",
    "dec = ['draw','draw','win']\n",
    "\n",
    "from sklearn.preprocessing import LabelEncoder\n",
    "LE = LabelEncoder()\n",
    "\n",
    "print( LE.fit(enc) )\n",
    "print( LE.classes_ )\n",
    "print( LE.transform(dec) )"
   ]
  },
  {
   "cell_type": "code",
   "execution_count": 8,
   "metadata": {},
   "outputs": [
    {
     "name": "stdout",
     "output_type": "stream",
     "text": [
      "OrdinalEncoder(categories='auto', dtype=<class 'numpy.float64'>)\n",
      "[array(['draw', 'lose', 'win'], dtype=object)]\n",
      "[[0.]\n",
      " [0.]\n",
      " [2.]]\n"
     ]
    }
   ],
   "source": [
    "import pandas as pd\n",
    "from sklearn.preprocessing import OrdinalEncoder\n",
    "OE = OrdinalEncoder()\n",
    "\n",
    "enc_DF = pd.DataFrame(enc)\n",
    "dec_DF = pd.DataFrame(dec)\n",
    "\n",
    "print( OE.fit(enc_DF) )\n",
    "print( OE.categories_ )\n",
    "print( OE.transform(dec_DF) )"
   ]
  },
  {
   "cell_type": "markdown",
   "metadata": {},
   "source": [
    "#### OneHotEncoder\n",
    "\n",
    "转换器 OneHotEncoder 可以接受两种类型的输入：\n",
    "1. 用 LabelEncoder 编码好的一维数组\n",
    "2. DataFrame"
   ]
  },
  {
   "cell_type": "code",
   "execution_count": 70,
   "metadata": {},
   "outputs": [
    {
     "name": "stdout",
     "output_type": "stream",
     "text": [
      "[2 0 1 2]\n"
     ]
    },
    {
     "name": "stderr",
     "output_type": "stream",
     "text": [
      "C:\\Users\\Administrator\\Anaconda3\\lib\\site-packages\\sklearn\\preprocessing\\_encoders.py:415: FutureWarning: The handling of integer data will change in version 0.22. Currently, the categories are determined based on the range [0, max(values)], while in the future they will be determined based on the unique values.\n",
      "If you want the future behaviour and silence this warning, you can specify \"categories='auto'\".\n",
      "In case you used a LabelEncoder before this OneHotEncoder to convert the categories to integers, then you can now use the OneHotEncoder directly.\n",
      "  warnings.warn(msg, FutureWarning)\n"
     ]
    },
    {
     "data": {
      "text/plain": [
       "array([[0., 0., 1.],\n",
       "       [1., 0., 0.],\n",
       "       [0., 1., 0.],\n",
       "       [0., 0., 1.]])"
      ]
     },
     "execution_count": 70,
     "metadata": {},
     "output_type": "execute_result"
    }
   ],
   "source": [
    "from sklearn.preprocessing import OneHotEncoder\n",
    "OHE = OneHotEncoder()\n",
    "\n",
    "num = LE.fit_transform( enc )\n",
    "print( num )\n",
    "OHE_y = OHE.fit_transform( num.reshape(-1,1) )\n",
    "OHE_y\n",
    "OHE_y.toarray()"
   ]
  },
  {
   "cell_type": "code",
   "execution_count": 9,
   "metadata": {},
   "outputs": [
    {
     "data": {
      "text/html": [
       "<div>\n",
       "<style scoped>\n",
       "    .dataframe tbody tr th:only-of-type {\n",
       "        vertical-align: middle;\n",
       "    }\n",
       "\n",
       "    .dataframe tbody tr th {\n",
       "        vertical-align: top;\n",
       "    }\n",
       "\n",
       "    .dataframe thead th {\n",
       "        text-align: right;\n",
       "    }\n",
       "</style>\n",
       "<table border=\"1\" class=\"dataframe\">\n",
       "  <thead>\n",
       "    <tr style=\"text-align: right;\">\n",
       "      <th></th>\n",
       "      <th>0</th>\n",
       "    </tr>\n",
       "  </thead>\n",
       "  <tbody>\n",
       "    <tr>\n",
       "      <th>0</th>\n",
       "      <td>win</td>\n",
       "    </tr>\n",
       "    <tr>\n",
       "      <th>1</th>\n",
       "      <td>draw</td>\n",
       "    </tr>\n",
       "    <tr>\n",
       "      <th>2</th>\n",
       "      <td>lose</td>\n",
       "    </tr>\n",
       "    <tr>\n",
       "      <th>3</th>\n",
       "      <td>win</td>\n",
       "    </tr>\n",
       "  </tbody>\n",
       "</table>\n",
       "</div>"
      ],
      "text/plain": [
       "      0\n",
       "0   win\n",
       "1  draw\n",
       "2  lose\n",
       "3   win"
      ]
     },
     "execution_count": 9,
     "metadata": {},
     "output_type": "execute_result"
    }
   ],
   "source": [
    "enc_DF"
   ]
  },
  {
   "cell_type": "code",
   "execution_count": 71,
   "metadata": {},
   "outputs": [
    {
     "data": {
      "text/plain": [
       "array([[0., 0., 1.],\n",
       "       [1., 0., 0.],\n",
       "       [0., 1., 0.],\n",
       "       [0., 0., 1.]])"
      ]
     },
     "execution_count": 71,
     "metadata": {},
     "output_type": "execute_result"
    }
   ],
   "source": [
    "OHE = OneHotEncoder()\n",
    "OHE.fit_transform( enc_DF ).toarray()"
   ]
  },
  {
   "cell_type": "markdown",
   "metadata": {},
   "source": [
    "### Preprocessing (normalize, standardize)"
   ]
  },
  {
   "cell_type": "markdown",
   "metadata": {},
   "source": [
    "数据要做的最重要的转换之一是特征缩放 (feature scaling)。当输入的数值的量刚不同时，机器学习算法的性能都不会好。\n",
    "\n",
    "具体来说，对于某个特征，我们有两种方法：\n",
    "\n",
    "1. 标准化 (standardization)：每个维度的特征减去该特征均值，除以该维度的标准差。\n",
    "2. 规范化 (normalization)：每个维度的特征减去该特征最小值，除以该特征的最大值与最小值之差。"
   ]
  },
  {
   "cell_type": "code",
   "execution_count": 75,
   "metadata": {},
   "outputs": [
    {
     "data": {
      "text/plain": [
       "array([[-0.47424487],\n",
       "       [-0.46069502],\n",
       "       [-0.44714517],\n",
       "       [-0.43359531],\n",
       "       [-0.42004546],\n",
       "       [ 2.23572584]])"
      ]
     },
     "execution_count": 75,
     "metadata": {},
     "output_type": "execute_result"
    }
   ],
   "source": [
    "from sklearn.preprocessing import MinMaxScaler\n",
    "from sklearn.preprocessing import StandardScalerb\n",
    "\n",
    "X = np.array( [0, 0.5, 1, 1.5, 2, 100] )\n",
    "\n",
    "# normalize (X-XMin)/XMax\n",
    "X_norm = MinMaxScaler().fit_transform( X.reshape(-1,1) )\n",
    "X_norm\n",
    "\n",
    "# standardization (X-XMean)/XStd\n",
    "X_stand = StandardScaler().fit_transform( X.reshape(-1,1) )\n",
    "X_stand"
   ]
  },
  {
   "cell_type": "markdown",
   "metadata": {},
   "source": [
    "# Advanced API"
   ]
  },
  {
   "cell_type": "markdown",
   "metadata": {},
   "source": [
    "Sklearn 里核心 API 接口是估计器，那高级 API 接口就是元估计器 (meta-estimator)，即由很多基估计器(base estimator) 组合成的估计器。\n",
    "\n",
    "meta_model( base_model )\n",
    "\n",
    "本节讨论五大元估计器，分别带集成功能的 ensemble，多分类和多标签的 multiclass，多输出的 multioutput，选择模型的 model_selection，和流水线的 pipeline。\n",
    "\n",
    "1. ensemble.BaggingClassifier\n",
    "2. ensemble.VotingClassifier\n",
    "3. multiclass.OneVsOneClassifier\n",
    "4. multiclass.OneVsRestClassifier\n",
    "5. multioutput.MultiOutputClassifier\n",
    "6. model_selection.GridSearchCV\n",
    "7. model_selection.RandomizedSearchCV\n",
    "8. pipeline.Pipeline"
   ]
  },
  {
   "cell_type": "code",
   "execution_count": 77,
   "metadata": {},
   "outputs": [
    {
     "name": "stdout",
     "output_type": "stream",
     "text": [
      "4\n",
      "RF - Accuracy (Train):  0.9917\n",
      "RF - Accuracy (Test):  0.9333\n"
     ]
    }
   ],
   "source": [
    "# Meta_Model\n",
    "from sklearn.datasets import load_iris\n",
    "iris = load_iris()\n",
    "\n",
    "from sklearn.model_selection import train_test_split\n",
    "from sklearn import metrics\n",
    "\n",
    "X_train, X_test, y_train, y_test = train_test_split( iris['data'], iris['target'], test_size=0.2 )"
   ]
  },
  {
   "cell_type": "markdown",
   "metadata": {},
   "source": [
    "## Ensemble"
   ]
  },
  {
   "cell_type": "markdown",
   "metadata": {},
   "source": [
    "最常用的 Ensemble 估计器排列如下：\n",
    "1. AdaBoostClassifier : 逐步提升分类器\n",
    "2. AdaBoostRegressor : 逐步提升回归器\n",
    "3. BaggingClassifier : 装袋分类器\n",
    "4. BaggingRegressor : 装袋回归器\n",
    "5. GradientBoostingClassifier : 梯度提升分类器\n",
    "6. GradientBoostingRegressor : 梯度提升回归器\n",
    "7. RandomForestClassifier : 随机森林分类器\n",
    "8. RandomForestRegressor : 随机森林回归器\n",
    "9. VotingClassifier : 投票分类器\n",
    "10. VotingRegressor : 投票回归器"
   ]
  },
  {
   "cell_type": "markdown",
   "metadata": {},
   "source": [
    "### RandomForest"
   ]
  },
  {
   "cell_type": "code",
   "execution_count": null,
   "metadata": {},
   "outputs": [],
   "source": [
    "# Ensemble\n",
    "from sklearn.ensemble import RandomForestClassifier\n",
    "\n",
    "RF = RandomForestClassifier( n_estimators=4, max_depth=5 )\n",
    "RF.fit( X_train, y_train )\n",
    "\n",
    "print( RF.n_estimators )\n",
    "RF.estimators_\n",
    "\n",
    "print ( \"RF - Accuracy (Train):  %.4g\" % \n",
    "        metrics.accuracy_score(y_train, RF.predict(X_train)) )\n",
    "print ( \"RF - Accuracy (Test):  %.4g\" % \n",
    "        metrics.accuracy_score(y_test, RF.predict(X_test)) )"
   ]
  },
  {
   "cell_type": "markdown",
   "metadata": {},
   "source": [
    "### VotingClassifier"
   ]
  },
  {
   "cell_type": "code",
   "execution_count": 82,
   "metadata": {},
   "outputs": [
    {
     "name": "stdout",
     "output_type": "stream",
     "text": [
      "3\n",
      "LR - Accuracy (Train):  0.9833\n",
      "RF - Accuracy (Train):  1\n",
      "GNB - Accuracy (Train):  0.95\n",
      "Ensemble - Accuracy (Train):  0.9833\n",
      "\n",
      "\n",
      "LR - Accuracy (Test):  0.9667\n",
      "RF - Accuracy (Test):  0.9333\n",
      "GNB - Accuracy (Test):  0.9667\n",
      "Ensemble - Accuracy (Test):  0.9667\n"
     ]
    }
   ],
   "source": [
    "# Ensemble\n",
    "from sklearn.linear_model import LogisticRegression\n",
    "from sklearn.naive_bayes import GaussianNB\n",
    "from sklearn.ensemble import RandomForestClassifier\n",
    "from sklearn.ensemble import VotingClassifier\n",
    "\n",
    "LR = LogisticRegression( solver='lbfgs', multi_class='multinomial' )\n",
    "RF = RandomForestClassifier( n_estimators=5 )\n",
    "GNB = GaussianNB()\n",
    "\n",
    "Ensemble = VotingClassifier( estimators=[('lr',LR),('rf',RF),('gnb',GNB)], voting='hard' )\n",
    "Ensemble.fit( X_train, y_train )\n",
    "\n",
    "print( len(Ensemble.estimators_) )\n",
    "Ensemble.estimators_\n",
    "\n",
    "LR.fit( X_train, y_train )\n",
    "RF.fit( X_train, y_train )\n",
    "GNB.fit( X_train, y_train )\n",
    "\n",
    "print ( \"LR - Accuracy (Train):  %.4g\" % metrics.accuracy_score(y_train, LR.predict(X_train)) )\n",
    "print ( \"RF - Accuracy (Train):  %.4g\" % metrics.accuracy_score(y_train, RF.predict(X_train)) )\n",
    "print ( \"GNB - Accuracy (Train):  %.4g\" % metrics.accuracy_score(y_train, GNB.predict(X_train)) )\n",
    "print ( \"Ensemble - Accuracy (Train):  %.4g\" % metrics.accuracy_score(y_train, Ensemble.predict(X_train)) )\n",
    "print ( \"\\n\" )\n",
    "\n",
    "print ( \"LR - Accuracy (Test):  %.4g\" % metrics.accuracy_score(y_test, LR.predict(X_test)) )\n",
    "print ( \"RF - Accuracy (Test):  %.4g\" % metrics.accuracy_score(y_test, RF.predict(X_test)) )\n",
    "print ( \"GNB - Accuracy (Test):  %.4g\" % metrics.accuracy_score(y_test, GNB.predict(X_test)) )\n",
    "print ( \"Ensemble - Accuracy (Test):  %.4g\" % metrics.accuracy_score(y_test, Ensemble.predict(X_test)) )"
   ]
  },
  {
   "cell_type": "markdown",
   "metadata": {},
   "source": [
    "## Multiclass"
   ]
  },
  {
   "cell_type": "code",
   "execution_count": 83,
   "metadata": {},
   "outputs": [
    {
     "name": "stdout",
     "output_type": "stream",
     "text": [
      "The size of X_train is  (1437, 64)\n",
      "The size of y_train is  (1437,)\n",
      "The size of X_test is  (360, 64)\n",
      "The size of y_test is  (360,)\n"
     ]
    }
   ],
   "source": [
    "from sklearn.datasets import load_digits\n",
    "\n",
    "digits = load_digits()\n",
    "digits.keys()\n",
    "\n",
    "X_train, X_test, y_train, y_test = train_test_split( digits['data'], digits['target'], test_size=0.2 )\n",
    "\n",
    "print( 'The size of X_train is ', X_train.shape )\n",
    "print( 'The size of y_train is ', y_train.shape )\n",
    "print( 'The size of X_test is ', X_test.shape )\n",
    "print( 'The size of y_test is ', y_test.shape )\n"
   ]
  },
  {
   "cell_type": "code",
   "execution_count": 87,
   "metadata": {},
   "outputs": [
    {
     "data": {
      "image/png": "[encoded data removed]",
      "text/plain": [
       "<Figure size 576x576 with 100 Axes>"
      ]
     },
     "metadata": {},
     "output_type": "display_data"
    }
   ],
   "source": [
    "import matplotlib.pyplot as plt\n",
    "\n",
    "fig, axes = plt.subplots( 10, 10, figsize=(8,8) )\n",
    "fig.subplots_adjust( hspace=0.1, wspace=0.1 )\n",
    "\n",
    "for i, ax in enumerate( axes.flat ):\n",
    "    ax.imshow( X_train[i,:].reshape(8,8), cmap='binary', interpolation='nearest')\n",
    "    ax.text( 0.05, 0.05, str(y_train[i]), transform=ax.transAxes, color='blue' )\n",
    "    ax.set_xticks([])\n",
    "    ax.set_yticks([])"
   ]
  },
  {
   "cell_type": "markdown",
   "metadata": {},
   "source": [
    "### multiclass\n",
    "#### one v.s. one"
   ]
  },
  {
   "cell_type": "code",
   "execution_count": 93,
   "metadata": {},
   "outputs": [
    {
     "name": "stdout",
     "output_type": "stream",
     "text": [
      "45\n"
     ]
    },
    {
     "data": {
      "text/plain": [
       "(LogisticRegression(C=1.0, class_weight=None, dual=False, fit_intercept=True,\n",
       "                    intercept_scaling=1, l1_ratio=None, max_iter=200,\n",
       "                    multi_class='warn', n_jobs=None, penalty='l2',\n",
       "                    random_state=None, solver='lbfgs', tol=0.0001, verbose=0,\n",
       "                    warm_start=False),\n",
       " LogisticRegression(C=1.0, class_weight=None, dual=False, fit_intercept=True,\n",
       "                    intercept_scaling=1, l1_ratio=None, max_iter=200,\n",
       "                    multi_class='warn', n_jobs=None, penalty='l2',\n",
       "                    random_state=None, solver='lbfgs', tol=0.0001, verbose=0,\n",
       "                    warm_start=False),\n",
       " LogisticRegression(C=1.0, class_weight=None, dual=False, fit_intercept=True,\n",
       "                    intercept_scaling=1, l1_ratio=None, max_iter=200,\n",
       "                    multi_class='warn', n_jobs=None, penalty='l2',\n",
       "                    random_state=None, solver='lbfgs', tol=0.0001, verbose=0,\n",
       "                    warm_start=False),\n",
       " LogisticRegression(C=1.0, class_weight=None, dual=False, fit_intercept=True,\n",
       "                    intercept_scaling=1, l1_ratio=None, max_iter=200,\n",
       "                    multi_class='warn', n_jobs=None, penalty='l2',\n",
       "                    random_state=None, solver='lbfgs', tol=0.0001, verbose=0,\n",
       "                    warm_start=False),\n",
       " LogisticRegression(C=1.0, class_weight=None, dual=False, fit_intercept=True,\n",
       "                    intercept_scaling=1, l1_ratio=None, max_iter=200,\n",
       "                    multi_class='warn', n_jobs=None, penalty='l2',\n",
       "                    random_state=None, solver='lbfgs', tol=0.0001, verbose=0,\n",
       "                    warm_start=False),\n",
       " LogisticRegression(C=1.0, class_weight=None, dual=False, fit_intercept=True,\n",
       "                    intercept_scaling=1, l1_ratio=None, max_iter=200,\n",
       "                    multi_class='warn', n_jobs=None, penalty='l2',\n",
       "                    random_state=None, solver='lbfgs', tol=0.0001, verbose=0,\n",
       "                    warm_start=False),\n",
       " LogisticRegression(C=1.0, class_weight=None, dual=False, fit_intercept=True,\n",
       "                    intercept_scaling=1, l1_ratio=None, max_iter=200,\n",
       "                    multi_class='warn', n_jobs=None, penalty='l2',\n",
       "                    random_state=None, solver='lbfgs', tol=0.0001, verbose=0,\n",
       "                    warm_start=False),\n",
       " LogisticRegression(C=1.0, class_weight=None, dual=False, fit_intercept=True,\n",
       "                    intercept_scaling=1, l1_ratio=None, max_iter=200,\n",
       "                    multi_class='warn', n_jobs=None, penalty='l2',\n",
       "                    random_state=None, solver='lbfgs', tol=0.0001, verbose=0,\n",
       "                    warm_start=False),\n",
       " LogisticRegression(C=1.0, class_weight=None, dual=False, fit_intercept=True,\n",
       "                    intercept_scaling=1, l1_ratio=None, max_iter=200,\n",
       "                    multi_class='warn', n_jobs=None, penalty='l2',\n",
       "                    random_state=None, solver='lbfgs', tol=0.0001, verbose=0,\n",
       "                    warm_start=False),\n",
       " LogisticRegression(C=1.0, class_weight=None, dual=False, fit_intercept=True,\n",
       "                    intercept_scaling=1, l1_ratio=None, max_iter=200,\n",
       "                    multi_class='warn', n_jobs=None, penalty='l2',\n",
       "                    random_state=None, solver='lbfgs', tol=0.0001, verbose=0,\n",
       "                    warm_start=False),\n",
       " LogisticRegression(C=1.0, class_weight=None, dual=False, fit_intercept=True,\n",
       "                    intercept_scaling=1, l1_ratio=None, max_iter=200,\n",
       "                    multi_class='warn', n_jobs=None, penalty='l2',\n",
       "                    random_state=None, solver='lbfgs', tol=0.0001, verbose=0,\n",
       "                    warm_start=False),\n",
       " LogisticRegression(C=1.0, class_weight=None, dual=False, fit_intercept=True,\n",
       "                    intercept_scaling=1, l1_ratio=None, max_iter=200,\n",
       "                    multi_class='warn', n_jobs=None, penalty='l2',\n",
       "                    random_state=None, solver='lbfgs', tol=0.0001, verbose=0,\n",
       "                    warm_start=False),\n",
       " LogisticRegression(C=1.0, class_weight=None, dual=False, fit_intercept=True,\n",
       "                    intercept_scaling=1, l1_ratio=None, max_iter=200,\n",
       "                    multi_class='warn', n_jobs=None, penalty='l2',\n",
       "                    random_state=None, solver='lbfgs', tol=0.0001, verbose=0,\n",
       "                    warm_start=False),\n",
       " LogisticRegression(C=1.0, class_weight=None, dual=False, fit_intercept=True,\n",
       "                    intercept_scaling=1, l1_ratio=None, max_iter=200,\n",
       "                    multi_class='warn', n_jobs=None, penalty='l2',\n",
       "                    random_state=None, solver='lbfgs', tol=0.0001, verbose=0,\n",
       "                    warm_start=False),\n",
       " LogisticRegression(C=1.0, class_weight=None, dual=False, fit_intercept=True,\n",
       "                    intercept_scaling=1, l1_ratio=None, max_iter=200,\n",
       "                    multi_class='warn', n_jobs=None, penalty='l2',\n",
       "                    random_state=None, solver='lbfgs', tol=0.0001, verbose=0,\n",
       "                    warm_start=False),\n",
       " LogisticRegression(C=1.0, class_weight=None, dual=False, fit_intercept=True,\n",
       "                    intercept_scaling=1, l1_ratio=None, max_iter=200,\n",
       "                    multi_class='warn', n_jobs=None, penalty='l2',\n",
       "                    random_state=None, solver='lbfgs', tol=0.0001, verbose=0,\n",
       "                    warm_start=False),\n",
       " LogisticRegression(C=1.0, class_weight=None, dual=False, fit_intercept=True,\n",
       "                    intercept_scaling=1, l1_ratio=None, max_iter=200,\n",
       "                    multi_class='warn', n_jobs=None, penalty='l2',\n",
       "                    random_state=None, solver='lbfgs', tol=0.0001, verbose=0,\n",
       "                    warm_start=False),\n",
       " LogisticRegression(C=1.0, class_weight=None, dual=False, fit_intercept=True,\n",
       "                    intercept_scaling=1, l1_ratio=None, max_iter=200,\n",
       "                    multi_class='warn', n_jobs=None, penalty='l2',\n",
       "                    random_state=None, solver='lbfgs', tol=0.0001, verbose=0,\n",
       "                    warm_start=False),\n",
       " LogisticRegression(C=1.0, class_weight=None, dual=False, fit_intercept=True,\n",
       "                    intercept_scaling=1, l1_ratio=None, max_iter=200,\n",
       "                    multi_class='warn', n_jobs=None, penalty='l2',\n",
       "                    random_state=None, solver='lbfgs', tol=0.0001, verbose=0,\n",
       "                    warm_start=False),\n",
       " LogisticRegression(C=1.0, class_weight=None, dual=False, fit_intercept=True,\n",
       "                    intercept_scaling=1, l1_ratio=None, max_iter=200,\n",
       "                    multi_class='warn', n_jobs=None, penalty='l2',\n",
       "                    random_state=None, solver='lbfgs', tol=0.0001, verbose=0,\n",
       "                    warm_start=False),\n",
       " LogisticRegression(C=1.0, class_weight=None, dual=False, fit_intercept=True,\n",
       "                    intercept_scaling=1, l1_ratio=None, max_iter=200,\n",
       "                    multi_class='warn', n_jobs=None, penalty='l2',\n",
       "                    random_state=None, solver='lbfgs', tol=0.0001, verbose=0,\n",
       "                    warm_start=False),\n",
       " LogisticRegression(C=1.0, class_weight=None, dual=False, fit_intercept=True,\n",
       "                    intercept_scaling=1, l1_ratio=None, max_iter=200,\n",
       "                    multi_class='warn', n_jobs=None, penalty='l2',\n",
       "                    random_state=None, solver='lbfgs', tol=0.0001, verbose=0,\n",
       "                    warm_start=False),\n",
       " LogisticRegression(C=1.0, class_weight=None, dual=False, fit_intercept=True,\n",
       "                    intercept_scaling=1, l1_ratio=None, max_iter=200,\n",
       "                    multi_class='warn', n_jobs=None, penalty='l2',\n",
       "                    random_state=None, solver='lbfgs', tol=0.0001, verbose=0,\n",
       "                    warm_start=False),\n",
       " LogisticRegression(C=1.0, class_weight=None, dual=False, fit_intercept=True,\n",
       "                    intercept_scaling=1, l1_ratio=None, max_iter=200,\n",
       "                    multi_class='warn', n_jobs=None, penalty='l2',\n",
       "                    random_state=None, solver='lbfgs', tol=0.0001, verbose=0,\n",
       "                    warm_start=False),\n",
       " LogisticRegression(C=1.0, class_weight=None, dual=False, fit_intercept=True,\n",
       "                    intercept_scaling=1, l1_ratio=None, max_iter=200,\n",
       "                    multi_class='warn', n_jobs=None, penalty='l2',\n",
       "                    random_state=None, solver='lbfgs', tol=0.0001, verbose=0,\n",
       "                    warm_start=False),\n",
       " LogisticRegression(C=1.0, class_weight=None, dual=False, fit_intercept=True,\n",
       "                    intercept_scaling=1, l1_ratio=None, max_iter=200,\n",
       "                    multi_class='warn', n_jobs=None, penalty='l2',\n",
       "                    random_state=None, solver='lbfgs', tol=0.0001, verbose=0,\n",
       "                    warm_start=False),\n",
       " LogisticRegression(C=1.0, class_weight=None, dual=False, fit_intercept=True,\n",
       "                    intercept_scaling=1, l1_ratio=None, max_iter=200,\n",
       "                    multi_class='warn', n_jobs=None, penalty='l2',\n",
       "                    random_state=None, solver='lbfgs', tol=0.0001, verbose=0,\n",
       "                    warm_start=False),\n",
       " LogisticRegression(C=1.0, class_weight=None, dual=False, fit_intercept=True,\n",
       "                    intercept_scaling=1, l1_ratio=None, max_iter=200,\n",
       "                    multi_class='warn', n_jobs=None, penalty='l2',\n",
       "                    random_state=None, solver='lbfgs', tol=0.0001, verbose=0,\n",
       "                    warm_start=False),\n",
       " LogisticRegression(C=1.0, class_weight=None, dual=False, fit_intercept=True,\n",
       "                    intercept_scaling=1, l1_ratio=None, max_iter=200,\n",
       "                    multi_class='warn', n_jobs=None, penalty='l2',\n",
       "                    random_state=None, solver='lbfgs', tol=0.0001, verbose=0,\n",
       "                    warm_start=False),\n",
       " LogisticRegression(C=1.0, class_weight=None, dual=False, fit_intercept=True,\n",
       "                    intercept_scaling=1, l1_ratio=None, max_iter=200,\n",
       "                    multi_class='warn', n_jobs=None, penalty='l2',\n",
       "                    random_state=None, solver='lbfgs', tol=0.0001, verbose=0,\n",
       "                    warm_start=False),\n",
       " LogisticRegression(C=1.0, class_weight=None, dual=False, fit_intercept=True,\n",
       "                    intercept_scaling=1, l1_ratio=None, max_iter=200,\n",
       "                    multi_class='warn', n_jobs=None, penalty='l2',\n",
       "                    random_state=None, solver='lbfgs', tol=0.0001, verbose=0,\n",
       "                    warm_start=False),\n",
       " LogisticRegression(C=1.0, class_weight=None, dual=False, fit_intercept=True,\n",
       "                    intercept_scaling=1, l1_ratio=None, max_iter=200,\n",
       "                    multi_class='warn', n_jobs=None, penalty='l2',\n",
       "                    random_state=None, solver='lbfgs', tol=0.0001, verbose=0,\n",
       "                    warm_start=False),\n",
       " LogisticRegression(C=1.0, class_weight=None, dual=False, fit_intercept=True,\n",
       "                    intercept_scaling=1, l1_ratio=None, max_iter=200,\n",
       "                    multi_class='warn', n_jobs=None, penalty='l2',\n",
       "                    random_state=None, solver='lbfgs', tol=0.0001, verbose=0,\n",
       "                    warm_start=False),\n",
       " LogisticRegression(C=1.0, class_weight=None, dual=False, fit_intercept=True,\n",
       "                    intercept_scaling=1, l1_ratio=None, max_iter=200,\n",
       "                    multi_class='warn', n_jobs=None, penalty='l2',\n",
       "                    random_state=None, solver='lbfgs', tol=0.0001, verbose=0,\n",
       "                    warm_start=False),\n",
       " LogisticRegression(C=1.0, class_weight=None, dual=False, fit_intercept=True,\n",
       "                    intercept_scaling=1, l1_ratio=None, max_iter=200,\n",
       "                    multi_class='warn', n_jobs=None, penalty='l2',\n",
       "                    random_state=None, solver='lbfgs', tol=0.0001, verbose=0,\n",
       "                    warm_start=False),\n",
       " LogisticRegression(C=1.0, class_weight=None, dual=False, fit_intercept=True,\n",
       "                    intercept_scaling=1, l1_ratio=None, max_iter=200,\n",
       "                    multi_class='warn', n_jobs=None, penalty='l2',\n",
       "                    random_state=None, solver='lbfgs', tol=0.0001, verbose=0,\n",
       "                    warm_start=False),\n",
       " LogisticRegression(C=1.0, class_weight=None, dual=False, fit_intercept=True,\n",
       "                    intercept_scaling=1, l1_ratio=None, max_iter=200,\n",
       "                    multi_class='warn', n_jobs=None, penalty='l2',\n",
       "                    random_state=None, solver='lbfgs', tol=0.0001, verbose=0,\n",
       "                    warm_start=False),\n",
       " LogisticRegression(C=1.0, class_weight=None, dual=False, fit_intercept=True,\n",
       "                    intercept_scaling=1, l1_ratio=None, max_iter=200,\n",
       "                    multi_class='warn', n_jobs=None, penalty='l2',\n",
       "                    random_state=None, solver='lbfgs', tol=0.0001, verbose=0,\n",
       "                    warm_start=False),\n",
       " LogisticRegression(C=1.0, class_weight=None, dual=False, fit_intercept=True,\n",
       "                    intercept_scaling=1, l1_ratio=None, max_iter=200,\n",
       "                    multi_class='warn', n_jobs=None, penalty='l2',\n",
       "                    random_state=None, solver='lbfgs', tol=0.0001, verbose=0,\n",
       "                    warm_start=False),\n",
       " LogisticRegression(C=1.0, class_weight=None, dual=False, fit_intercept=True,\n",
       "                    intercept_scaling=1, l1_ratio=None, max_iter=200,\n",
       "                    multi_class='warn', n_jobs=None, penalty='l2',\n",
       "                    random_state=None, solver='lbfgs', tol=0.0001, verbose=0,\n",
       "                    warm_start=False),\n",
       " LogisticRegression(C=1.0, class_weight=None, dual=False, fit_intercept=True,\n",
       "                    intercept_scaling=1, l1_ratio=None, max_iter=200,\n",
       "                    multi_class='warn', n_jobs=None, penalty='l2',\n",
       "                    random_state=None, solver='lbfgs', tol=0.0001, verbose=0,\n",
       "                    warm_start=False),\n",
       " LogisticRegression(C=1.0, class_weight=None, dual=False, fit_intercept=True,\n",
       "                    intercept_scaling=1, l1_ratio=None, max_iter=200,\n",
       "                    multi_class='warn', n_jobs=None, penalty='l2',\n",
       "                    random_state=None, solver='lbfgs', tol=0.0001, verbose=0,\n",
       "                    warm_start=False),\n",
       " LogisticRegression(C=1.0, class_weight=None, dual=False, fit_intercept=True,\n",
       "                    intercept_scaling=1, l1_ratio=None, max_iter=200,\n",
       "                    multi_class='warn', n_jobs=None, penalty='l2',\n",
       "                    random_state=None, solver='lbfgs', tol=0.0001, verbose=0,\n",
       "                    warm_start=False),\n",
       " LogisticRegression(C=1.0, class_weight=None, dual=False, fit_intercept=True,\n",
       "                    intercept_scaling=1, l1_ratio=None, max_iter=200,\n",
       "                    multi_class='warn', n_jobs=None, penalty='l2',\n",
       "                    random_state=None, solver='lbfgs', tol=0.0001, verbose=0,\n",
       "                    warm_start=False),\n",
       " LogisticRegression(C=1.0, class_weight=None, dual=False, fit_intercept=True,\n",
       "                    intercept_scaling=1, l1_ratio=None, max_iter=200,\n",
       "                    multi_class='warn', n_jobs=None, penalty='l2',\n",
       "                    random_state=None, solver='lbfgs', tol=0.0001, verbose=0,\n",
       "                    warm_start=False))"
      ]
     },
     "execution_count": 93,
     "metadata": {},
     "output_type": "execute_result"
    }
   ],
   "source": [
    "# multiclass\n",
    "from sklearn.multiclass import OneVsOneClassifier\n",
    "from sklearn.linear_model import LogisticRegression\n",
    "\n",
    "ovo_lr = OneVsOneClassifier( LogisticRegression(solver='lbfgs', max_iter=200) )\n",
    "ovo_lr.fit(X_train, y_train)\n",
    "\n",
    "print( len(ovo_lr.estimators_) )\n",
    "ovo_lr.estimators_\n",
    "\n",
    "#print ( \"OvO LR - Accuracy (Train):  %.4g\" % metrics.accuracy_score(y_train, ovo_lr.predict(X_train)) )\n",
    "#print ( \"OvO LR - Accuracy (Test):  %.4g\" % metrics.accuracy_score(y_test, ovo_lr.predict(X_test)) )"
   ]
  },
  {
   "cell_type": "markdown",
   "metadata": {},
   "source": [
    "#### one v.s. all"
   ]
  },
  {
   "cell_type": "code",
   "execution_count": 91,
   "metadata": {},
   "outputs": [
    {
     "name": "stdout",
     "output_type": "stream",
     "text": [
      "10\n",
      "OvA LR - Accuracy (Train):  0.9993\n",
      "OvA LR - Accuracy (Test):  0.9528\n"
     ]
    }
   ],
   "source": [
    "# multiclass\n",
    "from sklearn.multiclass import OneVsRestClassifier\n",
    "from sklearn.linear_model import LogisticRegression\n",
    "\n",
    "ova_lr = OneVsRestClassifier( LogisticRegression(solver='lbfgs', max_iter=800) )\n",
    "ova_lr.fit(X_train, y_train)\n",
    "\n",
    "print( len(ova_lr.estimators_) )\n",
    "ovo_lr.estimators_\n",
    "\n",
    "print ( \"OvA LR - Accuracy (Train):  %.4g\" % metrics.accuracy_score(y_train, ova_lr.predict(X_train)) )\n",
    "print ( \"OvA LR - Accuracy (Test):  %.4g\" % metrics.accuracy_score(y_test, ova_lr.predict(X_test)) )"
   ]
  },
  {
   "cell_type": "markdown",
   "metadata": {},
   "source": [
    "### multi-label"
   ]
  },
  {
   "cell_type": "code",
   "execution_count": 96,
   "metadata": {},
   "outputs": [
    {
     "name": "stdout",
     "output_type": "stream",
     "text": [
      "[[False False]\n",
      " [ True  True]\n",
      " [False  True]\n",
      " ...\n",
      " [False False]\n",
      " [ True  True]\n",
      " [ True False]]\n",
      "2\n"
     ]
    },
    {
     "data": {
      "text/plain": [
       "[LogisticRegression(C=1.0, class_weight=None, dual=False, fit_intercept=True,\n",
       "                    intercept_scaling=1, l1_ratio=None, max_iter=800,\n",
       "                    multi_class='warn', n_jobs=None, penalty='l2',\n",
       "                    random_state=None, solver='lbfgs', tol=0.0001, verbose=0,\n",
       "                    warm_start=False),\n",
       " LogisticRegression(C=1.0, class_weight=None, dual=False, fit_intercept=True,\n",
       "                    intercept_scaling=1, l1_ratio=None, max_iter=800,\n",
       "                    multi_class='warn', n_jobs=None, penalty='l2',\n",
       "                    random_state=None, solver='lbfgs', tol=0.0001, verbose=0,\n",
       "                    warm_start=False)]"
      ]
     },
     "execution_count": 96,
     "metadata": {},
     "output_type": "execute_result"
    }
   ],
   "source": [
    "# multi-label classification (两个任务都是二分类)\n",
    "\n",
    "from sklearn.multiclass import OneVsRestClassifier\n",
    "\n",
    "# label_1:even, label_2:<=4\n",
    "y_train_multilabel = np.c_[ y_train%2==0, y_train<=4 ]\n",
    "print(y_train_multilabel)\n",
    "\n",
    "ova_ml = OneVsRestClassifier( LogisticRegression(solver='lbfgs', max_iter=800) )\n",
    "ova_ml.fit(X_train, y_train_multilabel)\n",
    "\n",
    "print( len(ova_ml.estimators_) )\n",
    "ova_ml.estimators_"
   ]
  },
  {
   "cell_type": "code",
   "execution_count": 98,
   "metadata": {},
   "outputs": [
    {
     "name": "stdout",
     "output_type": "stream",
     "text": [
      "[2]\n",
      "[[1 1]]\n"
     ]
    },
    {
     "data": {
      "image/png": "[encoded data removed]",
      "text/plain": [
       "<Figure size 576x576 with 100 Axes>"
      ]
     },
     "metadata": {},
     "output_type": "display_data"
    }
   ],
   "source": [
    "import matplotlib.pyplot as plt\n",
    "\n",
    "fig, axes = plt.subplots( 10, 10, figsize=(8,8) )\n",
    "fig.subplots_adjust( hspace=0.1, wspace=0.1 )\n",
    "\n",
    "for i, ax in enumerate( axes.flat ):\n",
    "    ax.imshow( X_test[i,:].reshape(8,8), cmap='binary', interpolation='nearest')\n",
    "    ax.text( 0.05, 0.05, str(y_test[i]), transform=ax.transAxes, color='blue' )\n",
    "    ax.set_xticks([])\n",
    "    ax.set_yticks([])\n",
    "    \n",
    "\n",
    "print( y_test[:1] )\n",
    "print( ova_ml.predict(X_test[:1,:]) )"
   ]
  },
  {
   "cell_type": "markdown",
   "metadata": {},
   "source": [
    "## Multioutput"
   ]
  },
  {
   "cell_type": "code",
   "execution_count": 100,
   "metadata": {},
   "outputs": [
    {
     "data": {
      "text/plain": [
       "array([[0, 2],\n",
       "       [2, 7],\n",
       "       [0, 2],\n",
       "       [2, 9],\n",
       "       [0, 3]])"
      ]
     },
     "execution_count": 100,
     "metadata": {},
     "output_type": "execute_result"
    }
   ],
   "source": [
    "# multioutput （两个任务都是多分类）\n",
    "from sklearn.multioutput import MultiOutputClassifier\n",
    "from sklearn.ensemble import RandomForestClassifier\n",
    "\n",
    "y_train_1st = y_train.copy()\n",
    "y_train_1st[ y_train<=4 ] = 0\n",
    "y_train_1st[ np.logical_and(y_train>4, y_train<7) ] = 1\n",
    "y_train_1st[ y_train>=7 ] = 2\n",
    "\n",
    "y_train_multioutput = np.c_[y_train_1st, y_train]\n",
    "y_train_multioutput\n",
    "\n",
    "MO = MultiOutputClassifier( RandomForestClassifier(n_estimators=100) )\n",
    "MO.fit( X_train, y_train_multioutput )\n",
    "\n",
    "MO.predict( X_test[:5,:] )\n",
    "\n",
    "y_test_1st = y_test.copy()\n",
    "y_test_1st[ y_test<=4 ] = 0\n",
    "y_test_1st[ np.logical_and(y_test>4, y_test<7) ] = 1\n",
    "y_test_1st[ y_test>=7 ] = 2\n",
    "y_test_multioutput = np.c_[ y_test_1st, y_test ]\n",
    "y_test_multioutput[:5]"
   ]
  },
  {
   "cell_type": "code",
   "execution_count": 102,
   "metadata": {},
   "outputs": [
    {
     "data": {
      "text/plain": [
       "[RandomForestClassifier(bootstrap=True, class_weight=None, criterion='gini',\n",
       "                        max_depth=None, max_features='auto', max_leaf_nodes=None,\n",
       "                        min_impurity_decrease=0.0, min_impurity_split=None,\n",
       "                        min_samples_leaf=1, min_samples_split=2,\n",
       "                        min_weight_fraction_leaf=0.0, n_estimators=100,\n",
       "                        n_jobs=None, oob_score=False, random_state=None,\n",
       "                        verbose=0, warm_start=False),\n",
       " RandomForestClassifier(bootstrap=True, class_weight=None, criterion='gini',\n",
       "                        max_depth=None, max_features='auto', max_leaf_nodes=None,\n",
       "                        min_impurity_decrease=0.0, min_impurity_split=None,\n",
       "                        min_samples_leaf=1, min_samples_split=2,\n",
       "                        min_weight_fraction_leaf=0.0, n_estimators=100,\n",
       "                        n_jobs=None, oob_score=False, random_state=None,\n",
       "                        verbose=0, warm_start=False)]"
      ]
     },
     "execution_count": 102,
     "metadata": {},
     "output_type": "execute_result"
    }
   ],
   "source": [
    "MO.estimators_"
   ]
  },
  {
   "cell_type": "markdown",
   "metadata": {},
   "source": [
    "## Model Selection"
   ]
  },
  {
   "cell_type": "markdown",
   "metadata": {},
   "source": [
    "模型选择 (Model Selction) 在机器学习非常重要，它主要用于评估模型表现，常见的 Model Selection 估计器有以下几个：\n",
    "\n",
    "1. cross_validate : 评估交叉验证的表现。\n",
    "2. learning_curve : 建立学习曲线。\n",
    "3. GridSearchCV : 用交叉验证从网格中一组超参数搜索出最佳超参数。\n",
    "4. RandomizedSearchCV : 用交叉验证从一组随机超参数搜索出最佳超参数。\n",
    "\n",
    "本小节关注调节超参数的两个估计器，即上面列出的最后两个。它们都要用到交叉验证，先来了解一下这个知识点。"
   ]
  },
  {
   "cell_type": "code",
   "execution_count": 105,
   "metadata": {},
   "outputs": [
    {
     "name": "stderr",
     "output_type": "stream",
     "text": [
      "C:\\Users\\Administrator\\Anaconda3\\lib\\site-packages\\sklearn\\model_selection\\_search.py:814: DeprecationWarning: The default of the `iid` parameter will change from True to False in version 0.22 and will be removed in 0.24. This will change numeric results when test-set sizes are unequal.\n",
      "  DeprecationWarning)\n"
     ]
    },
    {
     "name": "stdout",
     "output_type": "stream",
     "text": [
      "RandomizedSearchCV took 6.50 seconds for 20 candidates parameter settings.\n",
      "{'criterion': 'entropy', 'max_depth': 5, 'max_features': 6, 'min_samples_split': 4}\n",
      "0.8853644963828603\n",
      "\n",
      "GridSearchCV took 10.87 seconds for 36 candidates parameter settings.\n",
      "{'criterion': 'entropy', 'max_depth': 5, 'max_features': 10, 'min_samples_split': 10}\n",
      "0.8881469115191987\n"
     ]
    },
    {
     "name": "stderr",
     "output_type": "stream",
     "text": [
      "C:\\Users\\Administrator\\Anaconda3\\lib\\site-packages\\sklearn\\model_selection\\_search.py:814: DeprecationWarning: The default of the `iid` parameter will change from True to False in version 0.22 and will be removed in 0.24. This will change numeric results when test-set sizes are unequal.\n",
      "  DeprecationWarning)\n"
     ]
    }
   ],
   "source": [
    "# Model Selection\n",
    "from time import time\n",
    "from scipy.stats import randint\n",
    "\n",
    "from sklearn.model_selection import GridSearchCV\n",
    "from sklearn.model_selection import RandomizedSearchCV\n",
    "from sklearn.ensemble import RandomForestClassifier\n",
    "\n",
    "X,y = digits.data, digits.target\n",
    "\n",
    "RFC = RandomForestClassifier(n_estimators=20)\n",
    "\n",
    "# randomized search\n",
    "param_dist = {'max_depth': [3,5], 'max_features': randint(1,11), 'min_samples_split':randint(2,11), 'criterion':['gini','entropy']}\n",
    "n_iter_search = 20\n",
    "random_serach = RandomizedSearchCV( RFC, param_distributions=param_dist, n_iter=n_iter_search, cv=5)\n",
    "\n",
    "start = time()\n",
    "random_serach.fit(X,y)\n",
    "print('RandomizedSearchCV took %.2f seconds for %d candidates parameter settings.' % ((time()-start),n_iter_search))\n",
    "\n",
    "print( random_serach.best_params_ )\n",
    "print( random_serach.best_score_ )\n",
    "\n",
    "# grid search\n",
    "param_grid = {'max_depth': [3,5], 'max_features': [1,3,10], 'min_samples_split':[2,3,10], 'criterion':['gini','entropy']}\n",
    "grid_serach = GridSearchCV( RFC, param_grid=param_grid, cv=5)\n",
    "start = time()\n",
    "grid_serach.fit(X,y)\n",
    "print('\\nGridSearchCV took %.2f seconds for %d candidates parameter settings.' % ((time()-start),len(grid_serach.cv_results_['params'])))\n",
    "\n",
    "print( grid_serach.best_params_ )\n",
    "print( grid_serach.best_score_ )\n",
    "\n"
   ]
  },
  {
   "cell_type": "markdown",
   "metadata": {},
   "source": [
    "## Pipeline"
   ]
  },
  {
   "cell_type": "markdown",
   "metadata": {},
   "source": [
    "Pipeline 估计器又叫流水线，把各种估计器串联 (Pipeline) 或并联 (FeatureUnion) 的方式组成一条龙服务。用好了它真的能大大提高效率。"
   ]
  },
  {
   "cell_type": "markdown",
   "metadata": {},
   "source": [
    "### Pipeline\n",
    "\n",
    "Pipeline 将若干个估计器按顺序连在一起，比如\n",
    "\n",
    "特征提取 -> 降维 -> 拟合 -> 预测\n",
    "\n",
    "在整个 Pipeline 中，它的属性永远和最后一个估计器属性一样\n",
    "\n",
    "1. 如果最后一个估计器是预测器，那么 Pipeline 是预测器\n",
    "2. 如果最后一个估计器是转换器，那么 Pipeline 是转换器"
   ]
  },
  {
   "cell_type": "code",
   "execution_count": 107,
   "metadata": {},
   "outputs": [
    {
     "name": "stdout",
     "output_type": "stream",
     "text": [
      "[[50.    1.68]\n",
      " [40.    1.83]\n",
      " [30.    1.77]\n",
      " [ 5.     nan]\n",
      " [ 7.    1.9 ]\n",
      " [10.    1.65]\n",
      " [ 9.    1.88]\n",
      " [  nan   nan]\n",
      " [12.    1.75]]\n",
      "[[1.         0.12      ]\n",
      " [0.77777778 0.72      ]\n",
      " [0.55555556 0.48      ]\n",
      " [0.         0.52      ]\n",
      " [0.04444444 1.        ]\n",
      " [0.11111111 0.        ]\n",
      " [0.08888889 0.92      ]\n",
      " [0.34166667 0.52      ]\n",
      " [0.15555556 0.4       ]]\n"
     ]
    }
   ],
   "source": [
    "# pipeline\n",
    "\n",
    "X = np.array([[50, 40, 30, 5, 7, 10, 9, np.NaN, 12],\n",
    "             [1.68, 1.83, 1.77, np.NaN, 1.9, 1.65, 1.88, np.NaN, 1.75]])\n",
    "X = np.transpose(X)\n",
    "\n",
    "from sklearn.pipeline import Pipeline\n",
    "from sklearn.impute import SimpleImputer\n",
    "from sklearn.preprocessing import MinMaxScaler\n",
    "\n",
    "pipe = Pipeline([\n",
    "    ('impute', SimpleImputer(missing_values=np.nan, strategy='mean')),\n",
    "    ('normalize', MinMaxScaler())\n",
    "])\n",
    "\n",
    "X_proc = pipe.fit_transform(X)\n",
    "\n",
    "print(X)\n",
    "print(X_proc)"
   ]
  },
  {
   "cell_type": "code",
   "execution_count": 10,
   "metadata": {},
   "outputs": [
    {
     "ename": "NameError",
     "evalue": "name 'SimpleImputer' is not defined",
     "output_type": "error",
     "traceback": [
      "\u001b[1;31m---------------------------------------------------------------------------\u001b[0m",
      "\u001b[1;31mNameError\u001b[0m                                 Traceback (most recent call last)",
      "\u001b[1;32m<ipython-input-10-47160dd59e09>\u001b[0m in \u001b[0;36m<module>\u001b[1;34m\u001b[0m\n\u001b[0;32m      1\u001b[0m \u001b[1;31m# 处理缺失值\u001b[0m\u001b[1;33m\u001b[0m\u001b[1;33m\u001b[0m\u001b[1;33m\u001b[0m\u001b[0m\n\u001b[1;32m----> 2\u001b[1;33m \u001b[0mX_impute\u001b[0m \u001b[1;33m=\u001b[0m \u001b[0mSimpleImputer\u001b[0m\u001b[1;33m(\u001b[0m\u001b[0mmissing_values\u001b[0m\u001b[1;33m=\u001b[0m\u001b[0mnp\u001b[0m\u001b[1;33m.\u001b[0m\u001b[0mnan\u001b[0m\u001b[1;33m,\u001b[0m \u001b[0mstrategy\u001b[0m\u001b[1;33m=\u001b[0m\u001b[1;34m'mean'\u001b[0m\u001b[1;33m)\u001b[0m\u001b[1;33m.\u001b[0m\u001b[0mfit_transform\u001b[0m\u001b[1;33m(\u001b[0m\u001b[0mX\u001b[0m\u001b[1;33m)\u001b[0m\u001b[1;33m\u001b[0m\u001b[1;33m\u001b[0m\u001b[0m\n\u001b[0m\u001b[0;32m      3\u001b[0m \u001b[0mprint\u001b[0m\u001b[1;33m(\u001b[0m\u001b[0mX_impute\u001b[0m\u001b[1;33m)\u001b[0m\u001b[1;33m\u001b[0m\u001b[1;33m\u001b[0m\u001b[0m\n\u001b[0;32m      4\u001b[0m \u001b[0mX_normalize\u001b[0m \u001b[1;33m=\u001b[0m \u001b[0mMinMaxScaler\u001b[0m\u001b[1;33m(\u001b[0m\u001b[1;33m)\u001b[0m\u001b[1;33m.\u001b[0m\u001b[0mfit_transform\u001b[0m\u001b[1;33m(\u001b[0m\u001b[0mX_impute\u001b[0m\u001b[1;33m)\u001b[0m\u001b[1;33m\u001b[0m\u001b[1;33m\u001b[0m\u001b[0m\n\u001b[0;32m      5\u001b[0m \u001b[0mprint\u001b[0m\u001b[1;33m(\u001b[0m\u001b[0mX_normalize\u001b[0m\u001b[1;33m)\u001b[0m\u001b[1;33m\u001b[0m\u001b[1;33m\u001b[0m\u001b[0m\n",
      "\u001b[1;31mNameError\u001b[0m: name 'SimpleImputer' is not defined"
     ]
    }
   ],
   "source": [
    "# 处理缺失值\n",
    "X_impute = SimpleImputer(missing_values=np.nan, strategy='mean').fit_transform(X)\n",
    "print(X_impute)\n",
    "X_normalize = MinMaxScaler().fit_transform(X_impute)\n",
    "print(X_normalize)"
   ]
  },
  {
   "cell_type": "markdown",
   "metadata": {},
   "source": [
    "### Feature Union"
   ]
  },
  {
   "cell_type": "markdown",
   "metadata": {},
   "source": [
    "如果我们想在一个节点同时运行几个估计器，我们可用 FeatureUnion。下例首先建立一个 DataFrame，\n",
    "\n",
    "1. 前两列智力 IQ 和脾气 temper 都是分类型变量\n",
    "2. 后两列收入 income 和身高 height 都是数值型变量\n",
    "3. 每列中都有缺失值"
   ]
  },
  {
   "cell_type": "code",
   "execution_count": 109,
   "metadata": {},
   "outputs": [
    {
     "data": {
      "text/html": [
       "<div>\n",
       "<style scoped>\n",
       "    .dataframe tbody tr th:only-of-type {\n",
       "        vertical-align: middle;\n",
       "    }\n",
       "\n",
       "    .dataframe tbody tr th {\n",
       "        vertical-align: top;\n",
       "    }\n",
       "\n",
       "    .dataframe thead th {\n",
       "        text-align: right;\n",
       "    }\n",
       "</style>\n",
       "<table border=\"1\" class=\"dataframe\">\n",
       "  <thead>\n",
       "    <tr style=\"text-align: right;\">\n",
       "      <th></th>\n",
       "      <th>IQ</th>\n",
       "      <th>temper</th>\n",
       "      <th>income</th>\n",
       "      <th>height</th>\n",
       "    </tr>\n",
       "  </thead>\n",
       "  <tbody>\n",
       "    <tr>\n",
       "      <td>0</td>\n",
       "      <td>high</td>\n",
       "      <td>good</td>\n",
       "      <td>50.0</td>\n",
       "      <td>1.68</td>\n",
       "    </tr>\n",
       "    <tr>\n",
       "      <td>1</td>\n",
       "      <td>avg</td>\n",
       "      <td>None</td>\n",
       "      <td>40.0</td>\n",
       "      <td>1.83</td>\n",
       "    </tr>\n",
       "    <tr>\n",
       "      <td>2</td>\n",
       "      <td>avg</td>\n",
       "      <td>good</td>\n",
       "      <td>30.0</td>\n",
       "      <td>1.77</td>\n",
       "    </tr>\n",
       "    <tr>\n",
       "      <td>3</td>\n",
       "      <td>low</td>\n",
       "      <td>bad</td>\n",
       "      <td>5.0</td>\n",
       "      <td>NaN</td>\n",
       "    </tr>\n",
       "    <tr>\n",
       "      <td>4</td>\n",
       "      <td>high</td>\n",
       "      <td>bad</td>\n",
       "      <td>7.0</td>\n",
       "      <td>1.90</td>\n",
       "    </tr>\n",
       "    <tr>\n",
       "      <td>5</td>\n",
       "      <td>avg</td>\n",
       "      <td>bad</td>\n",
       "      <td>10.0</td>\n",
       "      <td>1.65</td>\n",
       "    </tr>\n",
       "    <tr>\n",
       "      <td>6</td>\n",
       "      <td>high</td>\n",
       "      <td>bad</td>\n",
       "      <td>9.0</td>\n",
       "      <td>1.88</td>\n",
       "    </tr>\n",
       "    <tr>\n",
       "      <td>7</td>\n",
       "      <td>high</td>\n",
       "      <td>None</td>\n",
       "      <td>NaN</td>\n",
       "      <td>NaN</td>\n",
       "    </tr>\n",
       "    <tr>\n",
       "      <td>8</td>\n",
       "      <td>None</td>\n",
       "      <td>bad</td>\n",
       "      <td>12.0</td>\n",
       "      <td>1.75</td>\n",
       "    </tr>\n",
       "  </tbody>\n",
       "</table>\n",
       "</div>"
      ],
      "text/plain": [
       "     IQ temper  income  height\n",
       "0  high   good    50.0    1.68\n",
       "1   avg   None    40.0    1.83\n",
       "2   avg   good    30.0    1.77\n",
       "3   low    bad     5.0     NaN\n",
       "4  high    bad     7.0    1.90\n",
       "5   avg    bad    10.0    1.65\n",
       "6  high    bad     9.0    1.88\n",
       "7  high   None     NaN     NaN\n",
       "8  None    bad    12.0    1.75"
      ]
     },
     "execution_count": 109,
     "metadata": {},
     "output_type": "execute_result"
    }
   ],
   "source": [
    "# feature union\n",
    "\n",
    "d = {'IQ':['high', 'avg', 'avg', 'low', 'high', 'avg', 'high', 'high', None],\n",
    "    'temper':['good', None, 'good', 'bad', 'bad', 'bad', 'bad', None, 'bad'],\n",
    "    'income':[50, 40, 30, 5, 7, 10, 9, np.NaN, 12],\n",
    "    'height':[1.68, 1.83, 1.77, np.NaN, 1.9, 1.65, 1.88, np.NaN, 1.75]}\n",
    "X = pd.DataFrame(d)\n",
    "X"
   ]
  },
  {
   "cell_type": "markdown",
   "metadata": {},
   "source": [
    "我们现在按下列步骤来清洗数据。\n",
    "1. 对分类型变量：获取 -> 中位数填充 -> 独热编码\n",
    "2. 对数值型变量：获取 -> 均值填充 -> 标准化\n",
    "\n",
    "上面两步是平行进行的。"
   ]
  },
  {
   "cell_type": "code",
   "execution_count": 110,
   "metadata": {},
   "outputs": [],
   "source": [
    "from sklearn.base import BaseEstimator, TransformerMixin\n",
    "\n",
    "class DataFrameSelector( BaseEstimator, TransformerMixin ):\n",
    "    def __init__(self, attribute_names):\n",
    "        self.attribute_names = attribute_names\n",
    "    def fit(self, X, y=None):\n",
    "        return self\n",
    "    def transform(self, X):\n",
    "        return X[self.attribute_names].values"
   ]
  },
  {
   "cell_type": "markdown",
   "metadata": {},
   "source": [
    "下来建立一个流水线 full_pipe，它并联着两个流水线\n",
    "1. categorical_pipe 处理分类型变量\n",
    "    \n",
    "    DataFrameSelector 用来获取\n",
    "    \n",
    "    SimpleImputer 用出现最多的值来填充 None\n",
    "    \n",
    "    OneHotEncoder 来编码返回非稀疏矩阵\n",
    "2. numeric_pipe 处理数值型变量\n",
    "    \n",
    "    DataFrameSelector 用来获取\n",
    "    \n",
    "    SimpleImputer 用均值来填充 NaN\n",
    "    \n",
    "    normalize 来规范化数值"
   ]
  },
  {
   "cell_type": "code",
   "execution_count": 111,
   "metadata": {},
   "outputs": [
    {
     "name": "stdout",
     "output_type": "stream",
     "text": [
      "     IQ temper  income  height\n",
      "0  high   good    50.0    1.68\n",
      "1   avg   None    40.0    1.83\n",
      "2   avg   good    30.0    1.77\n",
      "3   low    bad     5.0     NaN\n",
      "4  high    bad     7.0    1.90\n",
      "5   avg    bad    10.0    1.65\n",
      "6  high    bad     9.0    1.88\n",
      "7  high   None     NaN     NaN\n",
      "8  None    bad    12.0    1.75\n",
      "[[1.         0.12       0.         1.         0.         0.\n",
      "  1.        ]\n",
      " [0.77777778 0.72       1.         0.         0.         1.\n",
      "  0.        ]\n",
      " [0.55555556 0.48       1.         0.         0.         0.\n",
      "  1.        ]\n",
      " [0.         0.52       0.         0.         1.         1.\n",
      "  0.        ]\n",
      " [0.04444444 1.         0.         1.         0.         1.\n",
      "  0.        ]\n",
      " [0.11111111 0.         1.         0.         0.         1.\n",
      "  0.        ]\n",
      " [0.08888889 0.92       0.         1.         0.         1.\n",
      "  0.        ]\n",
      " [0.34166667 0.52       0.         1.         0.         1.\n",
      "  0.        ]\n",
      " [0.15555556 0.4        0.         1.         0.         1.\n",
      "  0.        ]]\n"
     ]
    }
   ],
   "source": [
    "from sklearn.pipeline import Pipeline\n",
    "from sklearn.pipeline import FeatureUnion\n",
    "from sklearn.impute import SimpleImputer\n",
    "from sklearn.preprocessing import MinMaxScaler\n",
    "from sklearn.preprocessing import OneHotEncoder\n",
    "\n",
    "categorical_features = ['IQ', 'temper']\n",
    "numeric_features = ['income', 'height']\n",
    "\n",
    "categorical_pipeline = Pipeline([\n",
    "    ('select', DataFrameSelector(categorical_features)),\n",
    "    ('impute', SimpleImputer(missing_values=None, strategy='most_frequent')),\n",
    "    ('one_hot_encode', OneHotEncoder(sparse=False))\n",
    "])\n",
    "\n",
    "numeric_pipeline = Pipeline([\n",
    "    ('select', DataFrameSelector(numeric_features)),\n",
    "    ('impute', SimpleImputer(missing_values=np.nan, strategy='mean')),\n",
    "    ('normalize', MinMaxScaler())\n",
    "])\n",
    "\n",
    "full_pipe = FeatureUnion( transformer_list=[\n",
    "    ('numeric_pipeline', numeric_pipeline),\n",
    "    ('categorical_pipeline', categorical_pipeline)\n",
    "])\n",
    "\n",
    "X_proc = full_pipe.fit_transform(X)\n",
    "\n",
    "print(X)\n",
    "print(X_proc)"
   ]
  },
  {
   "cell_type": "code",
   "execution_count": null,
   "metadata": {},
   "outputs": [],
   "source": [
    "# sklearn 0.22 new functions\n",
    "\n",
    "import matplotlib.pyplot as plt\n",
    "%matplotlib inline\n",
    "seed = 1031\n",
    "\n",
    "from sklearn import datasets\n",
    "from sklearn.model_selection import train_test_split\n",
    "from sklearn.linear_model import LogisticRegression\n",
    "from sklearn.svm import SVC\n",
    "from sklearn.ensemble import RandomForestClassifier\n",
    "from sklearn.ensemble import GradientBoostingClassifier"
   ]
  }
 ],
 "metadata": {
  "kernelspec": {
   "display_name": "Python 3",
   "language": "python",
   "name": "python3"
  },
  "language_info": {
   "codemirror_mode": {
    "name": "ipython",
    "version": 3
   },
   "file_extension": ".py",
   "mimetype": "text/x-python",
   "name": "python",
   "nbconvert_exporter": "python",
   "pygments_lexer": "ipython3",
   "version": "3.7.6"
  },
  "toc": {
   "base_numbering": 1,
   "nav_menu": {},
   "number_sections": true,
   "sideBar": true,
   "skip_h1_title": false,
   "title_cell": "Table of Contents",
   "title_sidebar": "Contents",
   "toc_cell": false,
   "toc_position": {
    "height": "909px",
    "left": "272px",
    "top": "110.797px",
    "width": "198.171px"
   },
   "toc_section_display": true,
   "toc_window_display": false
  }
 },
 "nbformat": 4,
 "nbformat_minor": 2
}
