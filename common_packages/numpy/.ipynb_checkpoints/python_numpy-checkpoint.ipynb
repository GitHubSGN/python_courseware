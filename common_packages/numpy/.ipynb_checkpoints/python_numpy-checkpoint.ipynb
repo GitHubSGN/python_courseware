{
 "cells": [
  {
   "cell_type": "code",
   "execution_count": 3,
   "metadata": {
    "ExecuteTime": {
     "end_time": "2020-05-26T01:06:24.620982Z",
     "start_time": "2020-05-26T01:06:24.610011Z"
    }
   },
   "outputs": [],
   "source": [
    "from IPython.core.interactiveshell import InteractiveShell\n",
    "InteractiveShell.ast_node_interactivity = \"all\""
   ]
  },
  {
   "cell_type": "code",
   "execution_count": 4,
   "metadata": {
    "ExecuteTime": {
     "end_time": "2020-05-21T06:22:48.904715Z",
     "start_time": "2020-05-21T06:22:48.699659Z"
    }
   },
   "outputs": [],
   "source": [
    "import numpy as np"
   ]
  },
  {
   "cell_type": "markdown",
   "metadata": {},
   "source": [
    "为什么要专门学习数组呢？看下面「numpy 数组」和「列表」之间的计算效率对比：两个大小都是 1000000，把每个元素翻倍，运行 10 次用 %time 记时。"
   ]
  },
  {
   "cell_type": "code",
   "execution_count": 2,
   "metadata": {
    "ExecuteTime": {
     "end_time": "2020-05-18T01:29:23.070434Z",
     "start_time": "2020-05-18T01:29:22.999421Z"
    }
   },
   "outputs": [],
   "source": [
    "my_arr = np.arange(1000000)\n",
    "my_list = list(range(1000000))"
   ]
  },
  {
   "cell_type": "code",
   "execution_count": 3,
   "metadata": {
    "ExecuteTime": {
     "end_time": "2020-05-18T01:29:25.136425Z",
     "start_time": "2020-05-18T01:29:25.059747Z"
    }
   },
   "outputs": [
    {
     "name": "stdout",
     "output_type": "stream",
     "text": [
      "Wall time: 22.9 ms\n"
     ]
    }
   ],
   "source": [
    "%time for _ in range(10): my_arr2 = my_arr * 2"
   ]
  },
  {
   "cell_type": "code",
   "execution_count": 4,
   "metadata": {
    "ExecuteTime": {
     "end_time": "2020-05-18T01:29:29.461359Z",
     "start_time": "2020-05-18T01:29:27.144568Z"
    }
   },
   "outputs": [
    {
     "name": "stdout",
     "output_type": "stream",
     "text": [
      "Wall time: 764 ms\n"
     ]
    }
   ],
   "source": [
    "%time for _ in range(10): my_list2 = [x * 2 for x in my_list]"
   ]
  },
  {
   "cell_type": "markdown",
   "metadata": {},
   "source": [
    "我们发现「numpy 数组」效率是「列表」效率的 27 (1.33 * 1000/48.9) 倍左右。如果元素全是数\n",
    "值型变量 (numerical variable)，那么 numpy 数组明显是个很好的数据结构。"
   ]
  },
  {
   "cell_type": "markdown",
   "metadata": {},
   "source": [
    "# 数组的创建"
   ]
  },
  {
   "cell_type": "markdown",
   "metadata": {},
   "source": [
    "## 引入：转置"
   ]
  },
  {
   "cell_type": "code",
   "execution_count": 5,
   "metadata": {
    "ExecuteTime": {
     "end_time": "2020-05-18T01:31:11.306526Z",
     "start_time": "2020-05-18T01:31:11.251250Z"
    }
   },
   "outputs": [
    {
     "data": {
      "text/plain": [
       "array([[1, 2, 3],\n",
       "       [4, 5, 6]])"
      ]
     },
     "execution_count": 5,
     "metadata": {},
     "output_type": "execute_result"
    }
   ],
   "source": [
    "arr = np.array([[1,2,3],[4,5,6]])\n",
    "arr"
   ]
  },
  {
   "cell_type": "code",
   "execution_count": 6,
   "metadata": {
    "ExecuteTime": {
     "end_time": "2020-05-18T01:31:23.351890Z",
     "start_time": "2020-05-18T01:31:23.339447Z"
    }
   },
   "outputs": [
    {
     "data": {
      "text/plain": [
       "array([[1, 4],\n",
       "       [2, 5],\n",
       "       [3, 6]])"
      ]
     },
     "execution_count": 6,
     "metadata": {},
     "output_type": "execute_result"
    }
   ],
   "source": [
    "arr.T"
   ]
  },
  {
   "cell_type": "code",
   "execution_count": 6,
   "metadata": {
    "ExecuteTime": {
     "end_time": "2020-05-21T07:03:33.528429Z",
     "start_time": "2020-05-21T07:03:33.512443Z"
    }
   },
   "outputs": [
    {
     "data": {
      "text/plain": [
       "array([[[ 0,  1,  2,  3],\n",
       "        [ 4,  5,  6,  7]],\n",
       "\n",
       "       [[ 8,  9, 10, 11],\n",
       "        [12, 13, 14, 15]]])"
      ]
     },
     "execution_count": 6,
     "metadata": {},
     "output_type": "execute_result"
    },
    {
     "data": {
      "text/plain": [
       "5"
      ]
     },
     "execution_count": 6,
     "metadata": {},
     "output_type": "execute_result"
    },
    {
     "data": {
      "text/plain": [
       "array([[ 0,  4],\n",
       "       [ 8, 12]])"
      ]
     },
     "execution_count": 6,
     "metadata": {},
     "output_type": "execute_result"
    },
    {
     "data": {
      "text/plain": [
       "array([[ 0,  8],\n",
       "       [ 4, 12]])"
      ]
     },
     "execution_count": 6,
     "metadata": {},
     "output_type": "execute_result"
    }
   ],
   "source": [
    "arr = np.arange(16).reshape((2,2,4))\n",
    "arr\n",
    "\n",
    "arr[0,1,1]\n",
    "\n",
    "arr[:,:,0]\n",
    "arr = arr.transpose(1,0,2)\n",
    "arr[:,:,0]"
   ]
  },
  {
   "cell_type": "markdown",
   "metadata": {
    "ExecuteTime": {
     "end_time": "2020-05-21T07:02:27.628184Z",
     "start_time": "2020-05-21T07:02:27.623197Z"
    }
   },
   "source": [
    "多维数组转置：交换相应维度的形状（shape）和跨度（stride）"
   ]
  },
  {
   "cell_type": "markdown",
   "metadata": {},
   "source": [
    "## 初次印象\n",
    "\n",
    "先沿着最后一个轴排，例如：三维数组，依次按照axis2, axis1, axis0的顺序"
   ]
  },
  {
   "cell_type": "code",
   "execution_count": 37,
   "metadata": {
    "ExecuteTime": {
     "end_time": "2020-05-25T01:56:08.983067Z",
     "start_time": "2020-05-25T01:56:08.975088Z"
    }
   },
   "outputs": [
    {
     "data": {
      "text/plain": [
       "18"
      ]
     },
     "execution_count": 37,
     "metadata": {},
     "output_type": "execute_result"
    },
    {
     "data": {
      "text/plain": [
       "19"
      ]
     },
     "execution_count": 37,
     "metadata": {},
     "output_type": "execute_result"
    }
   ],
   "source": [
    "import numpy as np\n",
    "\n",
    "arr = np.arange(24).reshape((4,3,2))\n",
    "arr[3,0,0]\n",
    "arr[3,0,1]"
   ]
  },
  {
   "cell_type": "markdown",
   "metadata": {},
   "source": [
    "![jupyter](./numpy_axis_00.jpg)"
   ]
  },
  {
   "cell_type": "markdown",
   "metadata": {},
   "source": [
    "![jupyter](./numpy_axis_01.jpg)"
   ]
  },
  {
   "cell_type": "markdown",
   "metadata": {},
   "source": [
    "## 创建"
   ]
  },
  {
   "cell_type": "markdown",
   "metadata": {},
   "source": [
    "带着上面这个对轴的认识，接下来我们用代码来创建 numpy 数组，有三种方式：\n",
    "1. 按步就班的 np.array() 用在列表和元组上\n",
    "2. 定隔定点的 np.arange() 和 np.linspace()\n",
    "3. 一步登天的 np.ones(), np.zeros(), np.eye() 和 np.random.random()"
   ]
  },
  {
   "cell_type": "markdown",
   "metadata": {},
   "source": [
    "### 按部就班"
   ]
  },
  {
   "cell_type": "code",
   "execution_count": 9,
   "metadata": {
    "ExecuteTime": {
     "end_time": "2020-05-18T01:38:12.121172Z",
     "start_time": "2020-05-18T01:38:12.106958Z"
    }
   },
   "outputs": [
    {
     "data": {
      "text/plain": [
       "array([3.5, 5. , 2. , 8. , 4.2])"
      ]
     },
     "execution_count": 9,
     "metadata": {},
     "output_type": "execute_result"
    }
   ],
   "source": [
    "l = [3.5, 5, 2, 8, 4.2]\n",
    "np.array(l)"
   ]
  },
  {
   "cell_type": "code",
   "execution_count": 10,
   "metadata": {
    "ExecuteTime": {
     "end_time": "2020-05-18T01:38:27.585420Z",
     "start_time": "2020-05-18T01:38:27.568750Z"
    }
   },
   "outputs": [
    {
     "data": {
      "text/plain": [
       "array([3.5, 5. , 2. , 8. , 4.2])"
      ]
     },
     "execution_count": 10,
     "metadata": {},
     "output_type": "execute_result"
    }
   ],
   "source": [
    "t = (3.5, 5, 2, 8, 4.2)\n",
    "np.array(t)"
   ]
  },
  {
   "cell_type": "markdown",
   "metadata": {},
   "source": [
    "### 定隔定点法"
   ]
  },
  {
   "cell_type": "markdown",
   "metadata": {},
   "source": [
    "更常见的两种创建 numpy 数组方法：\n",
    "\n",
    "1. 定隔的 arange：固定元素大小间隔\n",
    "2. 定点的 linspace：固定元素个数"
   ]
  },
  {
   "cell_type": "code",
   "execution_count": 11,
   "metadata": {
    "ExecuteTime": {
     "end_time": "2020-05-18T01:40:04.522016Z",
     "start_time": "2020-05-18T01:40:04.513238Z"
    }
   },
   "outputs": [
    {
     "name": "stdout",
     "output_type": "stream",
     "text": [
      "[0 1 2 3 4 5 6 7]\n",
      "[2 3 4 5 6 7]\n",
      "[2 4 6]\n"
     ]
    }
   ],
   "source": [
    "print( np.arange(8) )\n",
    "print( np.arange(2,8) )\n",
    "print( np.arange(2,8,2))"
   ]
  },
  {
   "cell_type": "code",
   "execution_count": 12,
   "metadata": {
    "ExecuteTime": {
     "end_time": "2020-05-18T01:40:46.806187Z",
     "start_time": "2020-05-18T01:40:46.794000Z"
    }
   },
   "outputs": [
    {
     "name": "stdout",
     "output_type": "stream",
     "text": [
      "[2. 4. 6.]\n",
      "[3.  3.5 4.  4.5 5.  5.5 6.  6.5 7.  7.5 8. ]\n"
     ]
    }
   ],
   "source": [
    "print( np.linspace(2,6,3) )\n",
    "print( np.linspace(3,8,11) )"
   ]
  },
  {
   "cell_type": "markdown",
   "metadata": {},
   "source": [
    "### 一步登天法"
   ]
  },
  {
   "cell_type": "markdown",
   "metadata": {},
   "source": [
    "NumPy 还提供一次性\n",
    "1. 用 zeros() 创建全是 0 的 n 维数组\n",
    "2. 用 ones() 创建全是 1 的 n 维数组\n",
    "3. 用 random() 创建随机 n 维数组\n",
    "4. 用 eye() 创建对角矩阵 (二维数组)"
   ]
  },
  {
   "cell_type": "code",
   "execution_count": 4,
   "metadata": {
    "ExecuteTime": {
     "end_time": "2020-05-21T01:43:03.006362Z",
     "start_time": "2020-05-21T01:43:02.983697Z"
    }
   },
   "outputs": [
    {
     "data": {
      "text/plain": [
       "array([0., 0., 0., 0., 0.])"
      ]
     },
     "execution_count": 4,
     "metadata": {},
     "output_type": "execute_result"
    },
    {
     "name": "stdout",
     "output_type": "stream",
     "text": [
      "[0. 0. 0. 0. 0.]\n",
      "[[1. 1. 1.]\n",
      " [1. 1. 1.]]\n",
      "[[[0.45830446 0.71002805 0.97473638 0.26554138]\n",
      "  [0.11523616 0.87182653 0.03350133 0.84582963]\n",
      "  [0.04185916 0.02869058 0.04212034 0.70041217]]\n",
      "\n",
      " [[0.50563228 0.60718029 0.72925016 0.6224785 ]\n",
      "  [0.97917675 0.49110077 0.96074389 0.42802305]\n",
      "  [0.51485229 0.35675727 0.03554558 0.45934356]]]\n"
     ]
    }
   ],
   "source": [
    "np.zeros(5)\n",
    "print( np.zeros(5) ) # 标量5代表形状(5,)\n",
    "print( np.ones((2,3)) )\n",
    "print( np.random.random((2,3,4)) )"
   ]
  },
  {
   "cell_type": "code",
   "execution_count": 14,
   "metadata": {
    "ExecuteTime": {
     "end_time": "2020-05-18T01:42:58.190025Z",
     "start_time": "2020-05-18T01:42:58.176795Z"
    }
   },
   "outputs": [
    {
     "data": {
      "text/plain": [
       "array([[1., 0., 0., 0.],\n",
       "       [0., 1., 0., 0.],\n",
       "       [0., 0., 1., 0.],\n",
       "       [0., 0., 0., 1.]])"
      ]
     },
     "execution_count": 14,
     "metadata": {},
     "output_type": "execute_result"
    }
   ],
   "source": [
    "np.eye(4)"
   ]
  },
  {
   "cell_type": "code",
   "execution_count": 15,
   "metadata": {
    "ExecuteTime": {
     "end_time": "2020-05-18T01:43:18.023198Z",
     "start_time": "2020-05-18T01:43:18.007229Z"
    }
   },
   "outputs": [
    {
     "data": {
      "text/plain": [
       "array([[0., 1., 0., 0.],\n",
       "       [0., 0., 1., 0.],\n",
       "       [0., 0., 0., 1.],\n",
       "       [0., 0., 0., 0.]])"
      ]
     },
     "execution_count": 15,
     "metadata": {},
     "output_type": "execute_result"
    }
   ],
   "source": [
    "np.eye(4, k=1)"
   ]
  },
  {
   "cell_type": "code",
   "execution_count": 16,
   "metadata": {
    "ExecuteTime": {
     "end_time": "2020-05-18T01:43:25.306460Z",
     "start_time": "2020-05-18T01:43:25.285816Z"
    }
   },
   "outputs": [
    {
     "data": {
      "text/plain": [
       "array([[0., 0., 0., 0.],\n",
       "       [1., 0., 0., 0.],\n",
       "       [0., 1., 0., 0.],\n",
       "       [0., 0., 1., 0.]])"
      ]
     },
     "execution_count": 16,
     "metadata": {},
     "output_type": "execute_result"
    }
   ],
   "source": [
    "np.eye(4, k=-1)"
   ]
  },
  {
   "cell_type": "markdown",
   "metadata": {},
   "source": [
    "## 数组性质"
   ]
  },
  {
   "cell_type": "markdown",
   "metadata": {},
   "source": [
    "### 一维数组"
   ]
  },
  {
   "cell_type": "code",
   "execution_count": 5,
   "metadata": {
    "ExecuteTime": {
     "end_time": "2020-05-21T01:43:08.640692Z",
     "start_time": "2020-05-21T01:43:08.633710Z"
    }
   },
   "outputs": [
    {
     "data": {
      "text/plain": [
       "['T',\n",
       " '__abs__',\n",
       " '__add__',\n",
       " '__and__',\n",
       " '__array__',\n",
       " '__array_finalize__',\n",
       " '__array_function__',\n",
       " '__array_interface__',\n",
       " '__array_prepare__',\n",
       " '__array_priority__',\n",
       " '__array_struct__',\n",
       " '__array_ufunc__',\n",
       " '__array_wrap__',\n",
       " '__bool__',\n",
       " '__class__',\n",
       " '__complex__',\n",
       " '__contains__',\n",
       " '__copy__',\n",
       " '__deepcopy__',\n",
       " '__delattr__',\n",
       " '__delitem__',\n",
       " '__dir__',\n",
       " '__divmod__',\n",
       " '__doc__',\n",
       " '__eq__',\n",
       " '__float__',\n",
       " '__floordiv__',\n",
       " '__format__',\n",
       " '__ge__',\n",
       " '__getattribute__',\n",
       " '__getitem__',\n",
       " '__gt__',\n",
       " '__hash__',\n",
       " '__iadd__',\n",
       " '__iand__',\n",
       " '__ifloordiv__',\n",
       " '__ilshift__',\n",
       " '__imatmul__',\n",
       " '__imod__',\n",
       " '__imul__',\n",
       " '__index__',\n",
       " '__init__',\n",
       " '__init_subclass__',\n",
       " '__int__',\n",
       " '__invert__',\n",
       " '__ior__',\n",
       " '__ipow__',\n",
       " '__irshift__',\n",
       " '__isub__',\n",
       " '__iter__',\n",
       " '__itruediv__',\n",
       " '__ixor__',\n",
       " '__le__',\n",
       " '__len__',\n",
       " '__lshift__',\n",
       " '__lt__',\n",
       " '__matmul__',\n",
       " '__mod__',\n",
       " '__mul__',\n",
       " '__ne__',\n",
       " '__neg__',\n",
       " '__new__',\n",
       " '__or__',\n",
       " '__pos__',\n",
       " '__pow__',\n",
       " '__radd__',\n",
       " '__rand__',\n",
       " '__rdivmod__',\n",
       " '__reduce__',\n",
       " '__reduce_ex__',\n",
       " '__repr__',\n",
       " '__rfloordiv__',\n",
       " '__rlshift__',\n",
       " '__rmatmul__',\n",
       " '__rmod__',\n",
       " '__rmul__',\n",
       " '__ror__',\n",
       " '__rpow__',\n",
       " '__rrshift__',\n",
       " '__rshift__',\n",
       " '__rsub__',\n",
       " '__rtruediv__',\n",
       " '__rxor__',\n",
       " '__setattr__',\n",
       " '__setitem__',\n",
       " '__setstate__',\n",
       " '__sizeof__',\n",
       " '__str__',\n",
       " '__sub__',\n",
       " '__subclasshook__',\n",
       " '__truediv__',\n",
       " '__xor__',\n",
       " 'all',\n",
       " 'any',\n",
       " 'argmax',\n",
       " 'argmin',\n",
       " 'argpartition',\n",
       " 'argsort',\n",
       " 'astype',\n",
       " 'base',\n",
       " 'byteswap',\n",
       " 'choose',\n",
       " 'clip',\n",
       " 'compress',\n",
       " 'conj',\n",
       " 'conjugate',\n",
       " 'copy',\n",
       " 'ctypes',\n",
       " 'cumprod',\n",
       " 'cumsum',\n",
       " 'data',\n",
       " 'diagonal',\n",
       " 'dot',\n",
       " 'dtype',\n",
       " 'dump',\n",
       " 'dumps',\n",
       " 'fill',\n",
       " 'flags',\n",
       " 'flat',\n",
       " 'flatten',\n",
       " 'getfield',\n",
       " 'imag',\n",
       " 'item',\n",
       " 'itemset',\n",
       " 'itemsize',\n",
       " 'max',\n",
       " 'mean',\n",
       " 'min',\n",
       " 'nbytes',\n",
       " 'ndim',\n",
       " 'newbyteorder',\n",
       " 'nonzero',\n",
       " 'partition',\n",
       " 'prod',\n",
       " 'ptp',\n",
       " 'put',\n",
       " 'ravel',\n",
       " 'real',\n",
       " 'repeat',\n",
       " 'reshape',\n",
       " 'resize',\n",
       " 'round',\n",
       " 'searchsorted',\n",
       " 'setfield',\n",
       " 'setflags',\n",
       " 'shape',\n",
       " 'size',\n",
       " 'sort',\n",
       " 'squeeze',\n",
       " 'std',\n",
       " 'strides',\n",
       " 'sum',\n",
       " 'swapaxes',\n",
       " 'take',\n",
       " 'tobytes',\n",
       " 'tofile',\n",
       " 'tolist',\n",
       " 'tostring',\n",
       " 'trace',\n",
       " 'transpose',\n",
       " 'var',\n",
       " 'view']"
      ]
     },
     "execution_count": 5,
     "metadata": {},
     "output_type": "execute_result"
    }
   ],
   "source": [
    "arr = np.array([3.5, 5, 2, 8, 4.2])\n",
    "dir(arr)"
   ]
  },
  {
   "cell_type": "code",
   "execution_count": 7,
   "metadata": {
    "ExecuteTime": {
     "end_time": "2020-05-21T01:44:01.170428Z",
     "start_time": "2020-05-21T01:44:01.165330Z"
    }
   },
   "outputs": [
    {
     "name": "stdout",
     "output_type": "stream",
     "text": [
      "The type is <class 'numpy.ndarray'>\n",
      "The dimension is 1\n",
      "The length of array is 5\n",
      "The number of elements is 5\n",
      "The shape of array is (5,)\n",
      "The stride of array is (8,)\n",
      "The type of elements is float64\n"
     ]
    }
   ],
   "source": [
    "print( 'The type is', type(arr) )\n",
    "print( 'The dimension is', arr.ndim )\n",
    "print( 'The length of array is', len(arr) ) # 数组长度，注意这个说法只对一维数组有意义\n",
    "print( 'The number of elements is', arr.size ) # 数组元素个数\n",
    "print( 'The shape of array is', arr.shape )\n",
    "# 跨度，即在某一维度下为了获取到下一个元素需要「跨过」的字节数 (用元组来表示)，\n",
    "# float64 是 8 个字节数 (bytes)，因此跨度为 8\n",
    "print( 'The stride of array is', arr.strides )  \n",
    "print( 'The type of elements is', arr.dtype )"
   ]
  },
  {
   "cell_type": "markdown",
   "metadata": {},
   "source": [
    "![jupyter](./numpy_stride_00.jpg)"
   ]
  },
  {
   "cell_type": "code",
   "execution_count": 10,
   "metadata": {},
   "outputs": [
    {
     "name": "stdout",
     "output_type": "stream",
     "text": [
      "The type is <class 'numpy.ndarray'>\n",
      "The dimension is 1\n",
      "The length of array is 5\n",
      "The number of elements is 5\n",
      "The shape of array is (5,)\n",
      "The stride of array is (4,)\n",
      "The type of elements is int32\n"
     ]
    }
   ],
   "source": [
    "arr_int = np.array([3, 5, 2, 8, 4])\n",
    "print( 'The type is', type(arr_int) )\n",
    "print( 'The dimension is', arr_int.ndim )\n",
    "print( 'The length of array is', len(arr_int) ) # 数组长度，注意这个说法只对一维数组有意义\n",
    "print( 'The number of elements is', arr_int.size ) # 数组元素个数\n",
    "print( 'The shape of array is', arr_int.shape )\n",
    "# 跨度，即在某一维度下为了获取到下一个元素需要「跨过」的字节数 (用元组来表示)，\n",
    "# int32 是 4 个字节数 (bytes)，因此跨度为 4\n",
    "print( 'The stride of array is', arr_int.strides )  \n",
    "print( 'The type of elements is', arr_int.dtype )"
   ]
  },
  {
   "cell_type": "markdown",
   "metadata": {},
   "source": [
    "### 二维数组"
   ]
  },
  {
   "cell_type": "code",
   "execution_count": 11,
   "metadata": {
    "ExecuteTime": {
     "end_time": "2020-05-21T01:46:53.476971Z",
     "start_time": "2020-05-21T01:46:53.461347Z"
    }
   },
   "outputs": [
    {
     "data": {
      "text/plain": [
       "array([[1, 2, 3],\n",
       "       [4, 5, 6]])"
      ]
     },
     "execution_count": 11,
     "metadata": {},
     "output_type": "execute_result"
    }
   ],
   "source": [
    "l2 = [[1, 2, 3], [4, 5, 6]]\n",
    "arr2d = np.array(l2)\n",
    "arr2d"
   ]
  },
  {
   "cell_type": "code",
   "execution_count": 12,
   "metadata": {
    "ExecuteTime": {
     "end_time": "2020-05-21T01:57:50.480384Z",
     "start_time": "2020-05-21T01:57:50.474399Z"
    }
   },
   "outputs": [
    {
     "name": "stdout",
     "output_type": "stream",
     "text": [
      "The type is <class 'numpy.ndarray'>\n",
      "The dimension is 2\n",
      "The length of array is 2\n",
      "The number of elements is 6\n",
      "The shape of array is (2, 3)\n",
      "The stride of array is (12, 4)\n",
      "The type of elements is int32\n"
     ]
    }
   ],
   "source": [
    "print( 'The type is', type(arr2d) )\n",
    "print( 'The dimension is', arr2d.ndim )\n",
    "print( 'The length of array is', len(arr2d) ) # 第一个维度\n",
    "print( 'The number of elements is', arr2d.size )\n",
    "print( 'The shape of array is', arr2d.shape )\n",
    "print( 'The stride of array is', arr2d.strides )\n",
    "print( 'The type of elements is', arr2d.dtype )"
   ]
  },
  {
   "cell_type": "markdown",
   "metadata": {},
   "source": [
    "![jupyter](./numpy_stride_01.jpg)"
   ]
  },
  {
   "cell_type": "markdown",
   "metadata": {},
   "source": [
    "### 多维数组"
   ]
  },
  {
   "cell_type": "code",
   "execution_count": 13,
   "metadata": {
    "ExecuteTime": {
     "end_time": "2020-05-21T01:58:16.749700Z",
     "start_time": "2020-05-21T01:58:16.728419Z"
    }
   },
   "outputs": [
    {
     "name": "stdout",
     "output_type": "stream",
     "text": [
      "The type is <class 'numpy.ndarray'>\n",
      "The dimension is 4\n",
      "The length of array is 3\n",
      "The number of elements is 36\n",
      "The shape of array is (3, 2, 2, 3)\n",
      "The stride of array is (96, 48, 24, 8)\n",
      "The type of elements is float64\n"
     ]
    }
   ],
   "source": [
    "arr4d = np.random.random( (3,2,2,3) )\n",
    "\n",
    "print( 'The type is', type(arr4d) )\n",
    "print( 'The dimension is', arr4d.ndim )  # 第一个维度\n",
    "print( 'The length of array is', len(arr4d) )\n",
    "print( 'The number of elements is', arr4d.size )\n",
    "print( 'The shape of array is', arr4d.shape )\n",
    "print( 'The stride of array is', arr4d.strides )\n",
    "print( 'The type of elements is', arr4d.dtype )"
   ]
  },
  {
   "cell_type": "markdown",
   "metadata": {},
   "source": [
    "![jupyter](./numpy_stride_02.jpg)"
   ]
  },
  {
   "cell_type": "markdown",
   "metadata": {},
   "source": [
    "# 数组的存载"
   ]
  },
  {
   "cell_type": "markdown",
   "metadata": {},
   "source": [
    "## numpy 自身的 .npy 格式\n",
    "\n",
    "用 np.save 函数将 numpy 数组保存为 .npy 格式，具体写法如下：np.save( ‘’文件名”，数组 )"
   ]
  },
  {
   "cell_type": "code",
   "execution_count": 16,
   "metadata": {
    "ExecuteTime": {
     "end_time": "2020-05-21T04:35:30.456514Z",
     "start_time": "2020-05-21T04:35:30.450535Z"
    }
   },
   "outputs": [
    {
     "data": {
      "text/plain": [
       "array([0, 1, 2, 3, 4, 5, 6, 7])"
      ]
     },
     "execution_count": 16,
     "metadata": {},
     "output_type": "execute_result"
    }
   ],
   "source": [
    "arr_disk = np.arange(8)\n",
    "np.save(\"arr_disk\", arr_disk)\n",
    "arr_disk"
   ]
  },
  {
   "cell_type": "markdown",
   "metadata": {},
   "source": [
    "arr_disk.npy 保存在 Jupyter Notebook 所在的根目录下。要加载它也很简单，用 np.load( \"文件名\" ) 即可："
   ]
  },
  {
   "cell_type": "code",
   "execution_count": 17,
   "metadata": {
    "ExecuteTime": {
     "end_time": "2020-05-21T04:35:53.288704Z",
     "start_time": "2020-05-21T04:35:53.281698Z"
    }
   },
   "outputs": [
    {
     "data": {
      "text/plain": [
       "array([0, 1, 2, 3, 4, 5, 6, 7])"
      ]
     },
     "execution_count": 17,
     "metadata": {},
     "output_type": "execute_result"
    }
   ],
   "source": [
    "np.load(\"arr_disk.npy\")"
   ]
  },
  {
   "cell_type": "markdown",
   "metadata": {},
   "source": [
    "## 文本 .txt 格式\n",
    "\n",
    "用 np.savetxt 函数将 numpy 数组保存为 .txt 格式，具体写法如下：np.save( ‘’文件名”，数组 )"
   ]
  },
  {
   "cell_type": "code",
   "execution_count": 18,
   "metadata": {
    "ExecuteTime": {
     "end_time": "2020-05-21T04:36:31.219673Z",
     "start_time": "2020-05-21T04:36:31.199671Z"
    }
   },
   "outputs": [],
   "source": [
    "arr_text = np.array([[1., 2., 3.], [4., 5., 6.]])\n",
    "np.savetxt(\"arr_from_text.txt\", arr_text)"
   ]
  },
  {
   "cell_type": "markdown",
   "metadata": {},
   "source": [
    "arr_from_text.txt 保存在 Jupyter Notebook 所在的根目录下，用 Notepad 打开看里面确实存储着 [[1,2,3], [4,5,6]]。\n",
    "\n",
    "用 np.loadtxt( \"文件名\" ) 即可加载该文件"
   ]
  },
  {
   "cell_type": "code",
   "execution_count": 19,
   "metadata": {
    "ExecuteTime": {
     "end_time": "2020-05-21T04:37:04.123518Z",
     "start_time": "2020-05-21T04:37:04.111551Z"
    }
   },
   "outputs": [
    {
     "data": {
      "text/plain": [
       "array([[1., 2., 3.],\n",
       "       [4., 5., 6.]])"
      ]
     },
     "execution_count": 19,
     "metadata": {},
     "output_type": "execute_result"
    }
   ],
   "source": [
    "np.loadtxt(\"arr_from_text.txt\")"
   ]
  },
  {
   "cell_type": "markdown",
   "metadata": {},
   "source": [
    "## 文本 .csv 格式"
   ]
  },
  {
   "cell_type": "code",
   "execution_count": 15,
   "metadata": {
    "ExecuteTime": {
     "end_time": "2020-05-21T06:33:06.251063Z",
     "start_time": "2020-05-21T06:33:06.234335Z"
    }
   },
   "outputs": [],
   "source": [
    "arr = np.loadtxt(\"arr_from_text.txt\")\n",
    "np.savetxt(\"arr_from_csv.csv\", arr, delimiter=';')"
   ]
  },
  {
   "cell_type": "markdown",
   "metadata": {},
   "source": [
    "我们已经在 arr_from_csv 的 csv 文件里写进去了 [[1,2,3], [4,5,6]]，每行的元素是由「分号 ;」来分隔的，展示如下：\n",
    "\n",
    "用 np.genfromtxt( \"文件名\" ) 即可加载该文件"
   ]
  },
  {
   "cell_type": "code",
   "execution_count": 16,
   "metadata": {
    "ExecuteTime": {
     "end_time": "2020-05-21T06:33:08.204666Z",
     "start_time": "2020-05-21T06:33:08.185368Z"
    }
   },
   "outputs": [
    {
     "data": {
      "text/plain": [
       "array([nan, nan])"
      ]
     },
     "execution_count": 16,
     "metadata": {},
     "output_type": "execute_result"
    }
   ],
   "source": [
    "np.genfromtxt(\"arr_from_csv.csv\")"
   ]
  },
  {
   "cell_type": "markdown",
   "metadata": {},
   "source": [
    "奇怪的是数组里面都是 nan，原因是没有设定好「分隔符 ;」，那么函数 genfromtxt 读取的两个元素是\n",
    "\n",
    "1;2;3\n",
    "\n",
    "4;5;6\n",
    "\n",
    "它们当然不是数字拉，Numpy 只能用两个 nan (Not a Number) 来代表上面的四不像了。\n",
    "\n",
    "带上「分隔符 ;」再用 np.genfromtxt( \"文件名\"，分隔符 ) 即可加载该文件"
   ]
  },
  {
   "cell_type": "code",
   "execution_count": 17,
   "metadata": {
    "ExecuteTime": {
     "end_time": "2020-05-21T06:33:11.203774Z",
     "start_time": "2020-05-21T06:33:11.197822Z"
    }
   },
   "outputs": [
    {
     "data": {
      "text/plain": [
       "array([[1., 2., 3.],\n",
       "       [4., 5., 6.]])"
      ]
     },
     "execution_count": 17,
     "metadata": {},
     "output_type": "execute_result"
    }
   ],
   "source": [
    "np.genfromtxt(\"arr_from_csv.csv\", delimiter=\";\")"
   ]
  },
  {
   "cell_type": "markdown",
   "metadata": {},
   "source": [
    "# 数组的获取"
   ]
  },
  {
   "cell_type": "markdown",
   "metadata": {},
   "source": [
    "获取数组是通过索引 (indexing) 和切片 (slicing) 来完成的，\n",
    "1. 切片slicing是获取一段特定位置的元素\n",
    "2. 索引indexing是获取一个特定位置的元素\n",
    "索引和切片的方式和列表一模一样。\n",
    "\n",
    "\n",
    "对于一维数组 arr,\n",
    "1. 切片slicing写法是 arr[start : stop : step]\n",
    "2. 索引indexing写法是 arr[index]\n",
    "\n",
    "因此，切片的操作是可以用索引操作来实现的 (一个一个总能凑成一段)，只是没必要罢了。\n",
    "为了简化，我们在本章三节标题里把切片和索引都叫做索引。\n",
    "索引数组有三种形式，正规索引 (normal indexing)、布尔索引 (boolean indexing) 和花式索引 (fancy indexing)。"
   ]
  },
  {
   "cell_type": "markdown",
   "metadata": {},
   "source": [
    "**切片得到的是原数组的一个视图 (view) ，修改切片中的内容会改变原数组**\n",
    "\n",
    "**索引得到的是原数组的一个复制 (copy)，修改索引中的内容不会改变原数组**"
   ]
  },
  {
   "cell_type": "markdown",
   "metadata": {},
   "source": [
    "## 正规索引"
   ]
  },
  {
   "cell_type": "code",
   "execution_count": 23,
   "metadata": {
    "ExecuteTime": {
     "end_time": "2020-05-21T06:34:44.681295Z",
     "start_time": "2020-05-21T06:34:44.659319Z"
    }
   },
   "outputs": [
    {
     "data": {
      "text/plain": [
       "array([0, 1, 2, 3, 4, 5, 6, 7, 8, 9])"
      ]
     },
     "execution_count": 23,
     "metadata": {},
     "output_type": "execute_result"
    },
    {
     "name": "stdout",
     "output_type": "stream",
     "text": [
      "\n",
      " indexing: copy\n"
     ]
    },
    {
     "data": {
      "text/plain": [
       "6"
      ]
     },
     "execution_count": 23,
     "metadata": {},
     "output_type": "execute_result"
    },
    {
     "data": {
      "text/plain": [
       "array([0, 1, 2, 3, 4, 5, 6, 7, 8, 9])"
      ]
     },
     "execution_count": 23,
     "metadata": {},
     "output_type": "execute_result"
    },
    {
     "data": {
      "text/plain": [
       "array([ 0,  1,  2,  3,  4,  5, 87,  7,  8,  9])"
      ]
     },
     "execution_count": 23,
     "metadata": {},
     "output_type": "execute_result"
    },
    {
     "name": "stdout",
     "output_type": "stream",
     "text": [
      "\n",
      " slicing: view\n"
     ]
    },
    {
     "data": {
      "text/plain": [
       "array([ 5, 87,  7])"
      ]
     },
     "execution_count": 23,
     "metadata": {},
     "output_type": "execute_result"
    },
    {
     "data": {
      "text/plain": [
       "array([ 0,  1,  2,  3,  4,  5, 12,  7,  8,  9])"
      ]
     },
     "execution_count": 23,
     "metadata": {},
     "output_type": "execute_result"
    }
   ],
   "source": [
    "arr = np.arange(10)\n",
    "arr\n",
    "\n",
    "print('\\n indexing: copy')\n",
    "arr[6]\n",
    "a = arr[6]\n",
    "a = 1000\n",
    "arr\n",
    "arr[6] = 87\n",
    "arr\n",
    "\n",
    "print('\\n slicing: view')\n",
    "arr[5:8]\n",
    "b = arr[5:8]\n",
    "b[1] = 12\n",
    "arr"
   ]
  },
  {
   "cell_type": "markdown",
   "metadata": {},
   "source": [
    "只有每个维度均只有一个元素时为索引indexing，其余均为切片slicing。\n",
    "\n",
    "因为indexing返回的类型为单个元素，而slicing返回的元素为np.ndarray。\n",
    "\n",
    "时刻记得：万物皆对象。"
   ]
  },
  {
   "cell_type": "code",
   "execution_count": 48,
   "metadata": {
    "ExecuteTime": {
     "end_time": "2020-05-21T06:55:02.530124Z",
     "start_time": "2020-05-21T06:55:02.500951Z"
    }
   },
   "outputs": [
    {
     "data": {
      "text/plain": [
       "array([[1, 2, 3],\n",
       "       [4, 5, 6],\n",
       "       [7, 8, 9]])"
      ]
     },
     "execution_count": 48,
     "metadata": {},
     "output_type": "execute_result"
    },
    {
     "name": "stdout",
     "output_type": "stream",
     "text": [
      "\n",
      " indexing: copy\n"
     ]
    },
    {
     "data": {
      "text/plain": [
       "3"
      ]
     },
     "execution_count": 48,
     "metadata": {},
     "output_type": "execute_result"
    },
    {
     "name": "stdout",
     "output_type": "stream",
     "text": [
      "\n",
      " slicing: view\n",
      "\n",
      " arr2d[2]\n"
     ]
    },
    {
     "data": {
      "text/plain": [
       "array([[ 1,  2,  3],\n",
       "       [ 4,  5,  6],\n",
       "       [ 7, 15,  9]])"
      ]
     },
     "execution_count": 48,
     "metadata": {},
     "output_type": "execute_result"
    },
    {
     "data": {
      "text/plain": [
       "array([[ 1,  2,  3],\n",
       "       [ 4,  5,  6],\n",
       "       [ 7, 15,  9]])"
      ]
     },
     "execution_count": 48,
     "metadata": {},
     "output_type": "execute_result"
    },
    {
     "data": {
      "text/plain": [
       "array([[ 1,  2,  3],\n",
       "       [ 4,  5,  6],\n",
       "       [15, 15, 15]])"
      ]
     },
     "execution_count": 48,
     "metadata": {},
     "output_type": "execute_result"
    },
    {
     "name": "stdout",
     "output_type": "stream",
     "text": [
      "\n",
      " arr2d[:3]\n"
     ]
    },
    {
     "data": {
      "text/plain": [
       "array([[ 1,  2,  3],\n",
       "       [ 4, 23,  6],\n",
       "       [15, 15, 15]])"
      ]
     },
     "execution_count": 48,
     "metadata": {},
     "output_type": "execute_result"
    },
    {
     "name": "stdout",
     "output_type": "stream",
     "text": [
      "\n",
      " arr2d[:,[0.2]]\n"
     ]
    },
    {
     "data": {
      "text/plain": [
       "array([[ 1,  3],\n",
       "       [ 4,  6],\n",
       "       [15, 15]])"
      ]
     },
     "execution_count": 48,
     "metadata": {},
     "output_type": "execute_result"
    },
    {
     "name": "stdout",
     "output_type": "stream",
     "text": [
      "\n",
      " arr2d[1,:2]\n"
     ]
    },
    {
     "data": {
      "text/plain": [
       "array([ 4, 23])"
      ]
     },
     "execution_count": 48,
     "metadata": {},
     "output_type": "execute_result"
    },
    {
     "name": "stdout",
     "output_type": "stream",
     "text": [
      "\n",
      " arr2d[:2,2]\n"
     ]
    },
    {
     "data": {
      "text/plain": [
       "array([3, 6])"
      ]
     },
     "execution_count": 48,
     "metadata": {},
     "output_type": "execute_result"
    }
   ],
   "source": [
    "arr2d = np.array([[1, 2, 3], [4, 5, 6], [7, 8, 9]])\n",
    "arr2d\n",
    "\n",
    "print('\\n indexing: copy')\n",
    "# 用 arr2d[0][2] 来索引第一行第三列\n",
    "a = arr2d[0][2]\n",
    "a = 102\n",
    "arr2d[0,2] #索引二维数组打了两个中括号好麻烦，索引五维数组不是要打了五个中括号？还有一个简易方法，用 arr2d[0, 2] 也可以索引第一行第三列\n",
    "\n",
    "\n",
    "print('\\n slicing: view')\n",
    "# 用 arr2d[2] 来切片第三行，更严格的说法是索引「轴 0」上的第三个元素。\n",
    "print('\\n arr2d[2]')\n",
    "\n",
    "a = arr2d[2]\n",
    "a[1] = 15\n",
    "arr2d\n",
    "\n",
    "a = 27\n",
    "arr2d\n",
    "\n",
    "arr2d[2] = 15\n",
    "arr2d\n",
    "# 用 arr2d[:2] 切片前两行，更严格的说法是索引「轴 0」上的前两个元素。\n",
    "print('\\n arr2d[:3]')\n",
    "a = arr2d[:2]\n",
    "a[1,1] = 23\n",
    "arr2d\n",
    "# 用 arr2d[:, [0,2]] 切片第一列和第三列\n",
    "print('\\n arr2d[:,[0.2]]')\n",
    "arr2d[:,[0,2]] \n",
    "# 用 arr2d[1, :2] 切片第二行的前两个元素\n",
    "print('\\n arr2d[1,:2]')\n",
    "arr2d[1, :2]\n",
    "# 用 arr2d[:2, 2] 切片第三列的前两个元素\n",
    "print('\\n arr2d[:2,2]')\n",
    "arr2d[:2, 2]"
   ]
  },
  {
   "cell_type": "code",
   "execution_count": 43,
   "metadata": {
    "ExecuteTime": {
     "end_time": "2020-05-21T06:42:18.465172Z",
     "start_time": "2020-05-21T06:42:18.456161Z"
    }
   },
   "outputs": [
    {
     "data": {
      "text/plain": [
       "array([15, 15, 15])"
      ]
     },
     "execution_count": 43,
     "metadata": {},
     "output_type": "execute_result"
    },
    {
     "data": {
      "text/plain": [
       "3"
      ]
     },
     "execution_count": 43,
     "metadata": {},
     "output_type": "execute_result"
    },
    {
     "data": {
      "text/plain": [
       "numpy.ndarray"
      ]
     },
     "execution_count": 43,
     "metadata": {},
     "output_type": "execute_result"
    }
   ],
   "source": [
    "a = arr2d[2]\n",
    "a\n",
    "b = arr2d[0,2]\n",
    "b\n",
    "type(a)"
   ]
  },
  {
   "cell_type": "markdown",
   "metadata": {},
   "source": [
    "## 布尔索引"
   ]
  },
  {
   "cell_type": "code",
   "execution_count": 5,
   "metadata": {
    "ExecuteTime": {
     "end_time": "2020-05-21T06:22:55.536277Z",
     "start_time": "2020-05-21T06:22:55.520322Z"
    }
   },
   "outputs": [
    {
     "data": {
      "text/plain": [
       "array(['BABA', 'FB', 'JD', 'BABA', 'JD', 'FB'], dtype='<U4')"
      ]
     },
     "execution_count": 5,
     "metadata": {},
     "output_type": "execute_result"
    },
    {
     "data": {
      "text/plain": [
       "array([[170, 177, 169],\n",
       "       [150, 159, 153],\n",
       "       [ 24,  27,  26],\n",
       "       [165, 170, 167],\n",
       "       [ 22,  23,  20],\n",
       "       [155, 116, 157]])"
      ]
     },
     "execution_count": 5,
     "metadata": {},
     "output_type": "execute_result"
    }
   ],
   "source": [
    "code = np.array(['BABA', 'FB', 'JD', 'BABA', 'JD', 'FB'])\n",
    "code\n",
    "price = np.array([[170,177,169],[150,159,153],\n",
    "                  [24,27,26],[165,170,167],\n",
    "                  [22,23,20],[155,116,157]])\n",
    "price"
   ]
  },
  {
   "cell_type": "code",
   "execution_count": 6,
   "metadata": {
    "ExecuteTime": {
     "end_time": "2020-05-21T06:22:56.475451Z",
     "start_time": "2020-05-21T06:22:56.461469Z"
    }
   },
   "outputs": [
    {
     "data": {
      "text/plain": [
       "array([ True, False, False,  True, False, False])"
      ]
     },
     "execution_count": 6,
     "metadata": {},
     "output_type": "execute_result"
    },
    {
     "data": {
      "text/plain": [
       "array([[170, 177, 169],\n",
       "       [165, 170, 167]])"
      ]
     },
     "execution_count": 6,
     "metadata": {},
     "output_type": "execute_result"
    },
    {
     "data": {
      "text/plain": [
       "array([[177, 169],\n",
       "       [170, 167]])"
      ]
     },
     "execution_count": 6,
     "metadata": {},
     "output_type": "execute_result"
    },
    {
     "data": {
      "text/plain": [
       "array([[150, 159, 153],\n",
       "       [ 24,  27,  26],\n",
       "       [ 22,  23,  20],\n",
       "       [155, 116, 157]])"
      ]
     },
     "execution_count": 6,
     "metadata": {},
     "output_type": "execute_result"
    },
    {
     "data": {
      "text/plain": [
       "array([[170, 177, 169],\n",
       "       [150, 159, 153],\n",
       "       [ 24,  27,  26],\n",
       "       [165, 170, 167],\n",
       "       [ 22,  23,  20],\n",
       "       [155, 116, 157]])"
      ]
     },
     "execution_count": 6,
     "metadata": {},
     "output_type": "execute_result"
    },
    {
     "data": {
      "text/plain": [
       "array([[170, 177, 169],\n",
       "       [150, 159, 153],\n",
       "       [  0,  27,  26],\n",
       "       [165, 170, 167],\n",
       "       [  0,   0,   0],\n",
       "       [155, 116, 157]])"
      ]
     },
     "execution_count": 6,
     "metadata": {},
     "output_type": "execute_result"
    }
   ],
   "source": [
    "code == 'BABA'\n",
    "\n",
    "price[ code == 'BABA' ]\n",
    "\n",
    "price[ code == 'BABA', 1: ]\n",
    "\n",
    "price[ (code == 'FB')|(code == 'JD') ]\n",
    "\n",
    "price\n",
    "price[ price < 25 ] = 0\n",
    "price"
   ]
  },
  {
   "cell_type": "markdown",
   "metadata": {},
   "source": [
    "## 花式索引"
   ]
  },
  {
   "cell_type": "code",
   "execution_count": 11,
   "metadata": {
    "ExecuteTime": {
     "end_time": "2020-05-21T06:25:50.683812Z",
     "start_time": "2020-05-21T06:25:50.678800Z"
    }
   },
   "outputs": [
    {
     "data": {
      "text/plain": [
       "array([[ 0,  1,  2,  3],\n",
       "       [ 4,  5,  6,  7],\n",
       "       [ 8,  9, 10, 11],\n",
       "       [12, 13, 14, 15],\n",
       "       [16, 17, 18, 19],\n",
       "       [20, 21, 22, 23],\n",
       "       [24, 25, 26, 27],\n",
       "       [28, 29, 30, 31]])"
      ]
     },
     "execution_count": 11,
     "metadata": {},
     "output_type": "execute_result"
    }
   ],
   "source": [
    "arr = np.arange(32).reshape(8,4)\n",
    "arr"
   ]
  },
  {
   "cell_type": "code",
   "execution_count": 14,
   "metadata": {
    "ExecuteTime": {
     "end_time": "2020-05-21T06:30:15.557523Z",
     "start_time": "2020-05-21T06:30:15.533551Z"
    }
   },
   "outputs": [
    {
     "data": {
      "text/plain": [
       "array([[16, 17, 18, 19],\n",
       "       [12, 13, 14, 15],\n",
       "       [24, 25, 26, 27]])"
      ]
     },
     "execution_count": 14,
     "metadata": {},
     "output_type": "execute_result"
    },
    {
     "data": {
      "text/plain": [
       "array([[16, 17, 18, 19],\n",
       "       [20, 21, 22, 23],\n",
       "       [ 8,  9, 10, 11]])"
      ]
     },
     "execution_count": 14,
     "metadata": {},
     "output_type": "execute_result"
    },
    {
     "data": {
      "text/plain": [
       "array([ 4, 23, 29, 10])"
      ]
     },
     "execution_count": 14,
     "metadata": {},
     "output_type": "execute_result"
    },
    {
     "data": {
      "text/plain": [
       "array([ 4, 23, 29, 10])"
      ]
     },
     "execution_count": 14,
     "metadata": {},
     "output_type": "execute_result"
    },
    {
     "data": {
      "text/plain": [
       "True"
      ]
     },
     "execution_count": 14,
     "metadata": {},
     "output_type": "execute_result"
    },
    {
     "data": {
      "text/plain": [
       "array([[ 0,  3,  1,  2],\n",
       "       [ 4,  7,  5,  6],\n",
       "       [ 8, 11,  9, 10],\n",
       "       [12, 15, 13, 14],\n",
       "       [16, 19, 17, 18],\n",
       "       [20, 23, 21, 22],\n",
       "       [24, 27, 25, 26],\n",
       "       [28, 31, 29, 30]])"
      ]
     },
     "execution_count": 14,
     "metadata": {},
     "output_type": "execute_result"
    }
   ],
   "source": [
    "#假设你想按特定顺序来获取第 5, 4 和 7 行时\n",
    "arr[ [4,3,6] ]\n",
    "\n",
    "# 假设你想按特定顺序来获取倒数第 4, 3 和 6 行时 (即正数第 4, 5 和 2 行)\n",
    "arr[ [-4,-3,-6] ]\n",
    "\n",
    "\n",
    "# 你还能更灵活的设定「行」和「列」中不同的索引，如下\n",
    "arr_t1 = arr[ [1,5,7,2], [0,3,1,2] ]\n",
    "arr_t1\n",
    "\n",
    "# 检查一下，上行代码获取的元素，它们确实是 4, 23, 29 和 10。如果不用花式索引，就要写下面繁琐但等价的代码：\n",
    "arr_t2 = np.array( [ arr[1,0], arr[5,3], \n",
    "            arr[7,1], arr[2,2] ] )\n",
    "arr_t2\n",
    "np.allclose(arr_t1, arr_t2)\n",
    "\n",
    "# 我们可以把交换列，把原先的 [0,1,2,3] 的列换成 [0,3,1,2]\n",
    "arr[:,[0,3,1,2]] "
   ]
  },
  {
   "cell_type": "markdown",
   "metadata": {},
   "source": [
    "# 数组的变形"
   ]
  },
  {
   "cell_type": "markdown",
   "metadata": {},
   "source": [
    "## 重塑 (reshape) 和打平 (ravel, flatten)"
   ]
  },
  {
   "cell_type": "markdown",
   "metadata": {},
   "source": [
    "重塑是从低维到高维,打平是从高维到低维"
   ]
  },
  {
   "cell_type": "markdown",
   "metadata": {},
   "source": [
    "### reshape"
   ]
  },
  {
   "cell_type": "code",
   "execution_count": 1,
   "metadata": {
    "ExecuteTime": {
     "end_time": "2020-05-25T01:25:24.921132Z",
     "start_time": "2020-05-25T01:25:24.613251Z"
    }
   },
   "outputs": [
    {
     "name": "stdout",
     "output_type": "stream",
     "text": [
      "[ 0  1  2  3  4  5  6  7  8  9 10 11]\n"
     ]
    },
    {
     "data": {
      "text/plain": [
       "array([[ 0,  1,  2],\n",
       "       [ 3,  4,  5],\n",
       "       [ 6,  7,  8],\n",
       "       [ 9, 10, 11]])"
      ]
     },
     "execution_count": 1,
     "metadata": {},
     "output_type": "execute_result"
    }
   ],
   "source": [
    "import numpy as np\n",
    "\n",
    "arr = np.arange(12)\n",
    "print( arr )\n",
    "arr.reshape((4,3))"
   ]
  },
  {
   "cell_type": "markdown",
   "metadata": {},
   "source": [
    "当重塑高维矩阵时，不想花时间算某一维度的元素个数时，可以用「-1」取代，程序会自动帮你计算出来。"
   ]
  },
  {
   "cell_type": "code",
   "execution_count": 5,
   "metadata": {
    "ExecuteTime": {
     "end_time": "2020-05-25T01:26:09.058607Z",
     "start_time": "2020-05-25T01:26:09.051592Z"
    }
   },
   "outputs": [
    {
     "data": {
      "text/plain": [
       "array([[ 0,  1,  2,  3,  4,  5],\n",
       "       [ 6,  7,  8,  9, 10, 11]])"
      ]
     },
     "execution_count": 5,
     "metadata": {},
     "output_type": "execute_result"
    },
    {
     "data": {
      "text/plain": [
       "array([[ 0,  1,  2,  3,  4,  5],\n",
       "       [ 6,  7,  8,  9, 10, 11]])"
      ]
     },
     "execution_count": 5,
     "metadata": {},
     "output_type": "execute_result"
    }
   ],
   "source": [
    "arr.reshape((2,-1))\n",
    "arr.reshape((-1,6))"
   ]
  },
  {
   "cell_type": "markdown",
   "metadata": {},
   "source": [
    "### ravel &. flatten"
   ]
  },
  {
   "cell_type": "markdown",
   "metadata": {},
   "source": [
    "用 ravel() 或flatten() 函数将二维数组 arr 打平成一维数组。"
   ]
  },
  {
   "cell_type": "code",
   "execution_count": 15,
   "metadata": {
    "ExecuteTime": {
     "end_time": "2020-05-25T01:31:06.663435Z",
     "start_time": "2020-05-25T01:31:06.653465Z"
    }
   },
   "outputs": [
    {
     "data": {
      "text/plain": [
       "array([[ 0,  1,  2],\n",
       "       [ 3,  4,  5],\n",
       "       [ 6,  7,  8],\n",
       "       [ 9, 10, 11]])"
      ]
     },
     "execution_count": 15,
     "metadata": {},
     "output_type": "execute_result"
    },
    {
     "data": {
      "text/plain": [
       "array([ 0,  1,  2,  3,  4,  5,  6,  7,  8,  9, 10, 11])"
      ]
     },
     "execution_count": 15,
     "metadata": {},
     "output_type": "execute_result"
    },
    {
     "data": {
      "text/plain": [
       "array([ 0,  1,  2,  3,  4,  5,  6,  7,  8,  9, 10, 11])"
      ]
     },
     "execution_count": 15,
     "metadata": {},
     "output_type": "execute_result"
    }
   ],
   "source": [
    "arr = np.arange(12).reshape((4,-1))\n",
    "arr\n",
    "\n",
    "arr.ravel()\n",
    "\n",
    "arr.flatten()"
   ]
  },
  {
   "cell_type": "code",
   "execution_count": 18,
   "metadata": {
    "ExecuteTime": {
     "end_time": "2020-05-25T01:35:04.710863Z",
     "start_time": "2020-05-25T01:35:04.694908Z"
    }
   },
   "outputs": [
    {
     "data": {
      "text/plain": [
       "array([[ 0,  4,  8],\n",
       "       [ 1,  5,  9],\n",
       "       [ 2,  6, 10],\n",
       "       [ 3,  7, 11]])"
      ]
     },
     "execution_count": 18,
     "metadata": {},
     "output_type": "execute_result"
    },
    {
     "data": {
      "text/plain": [
       "array([ 0,  1,  2,  3,  4,  5,  6,  7,  8,  9, 10, 11])"
      ]
     },
     "execution_count": 18,
     "metadata": {},
     "output_type": "execute_result"
    },
    {
     "data": {
      "text/plain": [
       "array([ 0,  1,  2,  3,  4,  5,  6,  7,  8,  9, 10, 11])"
      ]
     },
     "execution_count": 18,
     "metadata": {},
     "output_type": "execute_result"
    },
    {
     "data": {
      "text/plain": [
       "array([ 0,  4,  8,  1,  5,  9,  2,  6, 10,  3,  7, 11])"
      ]
     },
     "execution_count": 18,
     "metadata": {},
     "output_type": "execute_result"
    },
    {
     "data": {
      "text/plain": [
       "array([ 0,  4,  8,  1,  5,  9,  2,  6, 10,  3,  7, 11])"
      ]
     },
     "execution_count": 18,
     "metadata": {},
     "output_type": "execute_result"
    }
   ],
   "source": [
    "arr = np.arange(12)\n",
    "\n",
    "arr.reshape((4,-1), order = 'F') # 'C'：行主序C语言，'F'：列主序Fortran语言\n",
    "arr.ravel()\n",
    "arr.flatten()\n",
    "\n",
    "arr = arr.reshape((4,-1), order = 'F')\n",
    "arr.ravel()\n",
    "arr.flatten()"
   ]
  },
  {
   "cell_type": "markdown",
   "metadata": {},
   "source": [
    "1. ravel() 按「行主序」打平时没有复制原数组，按「列主序」在打平时复制了原数组\n",
    "2. flatten() 在打平时复制了原数组"
   ]
  },
  {
   "cell_type": "markdown",
   "metadata": {
    "ExecuteTime": {
     "end_time": "2020-05-25T01:43:23.267271Z",
     "start_time": "2020-05-25T01:43:23.236346Z"
    }
   },
   "source": [
    "arr = np.arange(6).reshape((2,3))\n",
    "arr\n",
    "\n",
    "print('\\n flatten 行主序：')\n",
    "flatten_C = arr.flatten()\n",
    "flatten_C\n",
    "print(arr)\n",
    "flatten_C[0] = 10000\n",
    "flatten_C\n",
    "print( arr )\n",
    "\n",
    "print('\\n flatten 列主序：')\n",
    "flatten_F = arr.flatten(order = 'F')\n",
    "flatten_F\n",
    "print(arr)\n",
    "flatten_F[0] = 10000\n",
    "flatten_F\n",
    "print( arr )\n",
    "\n",
    "print('\\n ravel 列主序：')\n",
    "ravel_F = arr.ravel(order = 'F')\n",
    "ravel_F\n",
    "print(arr)\n",
    "ravel_F[0] = 10000\n",
    "ravel_F\n",
    "print( arr )\n",
    "\n",
    "print('\\n ravel 行主序：')\n",
    "ravel_C = arr.ravel()\n",
    "ravel_C\n",
    "print(arr)\n",
    "ravel_C[0] = 10000\n",
    "ravel_C\n",
    "print( arr )"
   ]
  },
  {
   "cell_type": "markdown",
   "metadata": {},
   "source": [
    "## 合并 (concatenate, stack) 和分裂 (split)"
   ]
  },
  {
   "cell_type": "markdown",
   "metadata": {},
   "source": [
    "合并是多合一，分裂是一分多"
   ]
  },
  {
   "cell_type": "markdown",
   "metadata": {},
   "source": [
    "### concatenate &. stack"
   ]
  },
  {
   "cell_type": "markdown",
   "metadata": {},
   "source": [
    "使用「合并」函数有三种选择：\n",
    "\n",
    "1. 有通用的 concatenate\n",
    "2. 有专门的 vstack（竖直）, hstack（水平）, dstack（深度）\n",
    "3. 有极简的 r_, c_"
   ]
  },
  {
   "cell_type": "code",
   "execution_count": 28,
   "metadata": {
    "ExecuteTime": {
     "end_time": "2020-05-25T01:49:05.458312Z",
     "start_time": "2020-05-25T01:49:05.449371Z"
    }
   },
   "outputs": [
    {
     "data": {
      "text/plain": [
       "array([[0, 1, 2],\n",
       "       [3, 4, 5]])"
      ]
     },
     "execution_count": 28,
     "metadata": {},
     "output_type": "execute_result"
    },
    {
     "data": {
      "text/plain": [
       "array([[ 7,  8,  9],\n",
       "       [10, 11, 12]])"
      ]
     },
     "execution_count": 28,
     "metadata": {},
     "output_type": "execute_result"
    }
   ],
   "source": [
    "arr1 = np.arange(6).reshape((2,3))\n",
    "arr1\n",
    "arr2 = np.arange(7,13,1).reshape((2,3))\n",
    "arr2"
   ]
  },
  {
   "cell_type": "code",
   "execution_count": 31,
   "metadata": {
    "ExecuteTime": {
     "end_time": "2020-05-25T01:50:23.561959Z",
     "start_time": "2020-05-25T01:50:23.549990Z"
    }
   },
   "outputs": [
    {
     "data": {
      "text/plain": [
       "array([[ 0,  1,  2],\n",
       "       [ 3,  4,  5],\n",
       "       [ 7,  8,  9],\n",
       "       [10, 11, 12]])"
      ]
     },
     "execution_count": 31,
     "metadata": {},
     "output_type": "execute_result"
    },
    {
     "data": {
      "text/plain": [
       "array([[ 0,  1,  2,  7,  8,  9],\n",
       "       [ 3,  4,  5, 10, 11, 12]])"
      ]
     },
     "execution_count": 31,
     "metadata": {},
     "output_type": "execute_result"
    }
   ],
   "source": [
    "np.concatenate([arr1,arr2], axis = 0)\n",
    "\n",
    "np.concatenate([arr1,arr2], axis = 1)"
   ]
  },
  {
   "cell_type": "markdown",
   "metadata": {},
   "source": [
    "![jupyter](./python_numpy_stack.png)"
   ]
  },
  {
   "cell_type": "code",
   "execution_count": 41,
   "metadata": {
    "ExecuteTime": {
     "end_time": "2020-05-25T02:09:58.882296Z",
     "start_time": "2020-05-25T02:09:58.870301Z"
    }
   },
   "outputs": [
    {
     "data": {
      "text/plain": [
       "array([[ 0,  1,  2],\n",
       "       [ 3,  4,  5],\n",
       "       [ 7,  8,  9],\n",
       "       [10, 11, 12]])"
      ]
     },
     "execution_count": 41,
     "metadata": {},
     "output_type": "execute_result"
    },
    {
     "data": {
      "text/plain": [
       "array([[ 0,  1,  2,  7,  8,  9],\n",
       "       [ 3,  4,  5, 10, 11, 12]])"
      ]
     },
     "execution_count": 41,
     "metadata": {},
     "output_type": "execute_result"
    },
    {
     "data": {
      "text/plain": [
       "array([[[ 0,  7],\n",
       "        [ 1,  8],\n",
       "        [ 2,  9]],\n",
       "\n",
       "       [[ 3, 10],\n",
       "        [ 4, 11],\n",
       "        [ 5, 12]]])"
      ]
     },
     "execution_count": 41,
     "metadata": {},
     "output_type": "execute_result"
    },
    {
     "data": {
      "text/plain": [
       "(2, 3, 2)"
      ]
     },
     "execution_count": 41,
     "metadata": {},
     "output_type": "execute_result"
    }
   ],
   "source": [
    "np.vstack((arr1,arr2))\n",
    "np.hstack((arr1,arr2))\n",
    "np.dstack((arr1,arr2))\n",
    "\n",
    "\n",
    "np.dstack((arr1,arr2)).shape"
   ]
  },
  {
   "cell_type": "code",
   "execution_count": 53,
   "metadata": {
    "ExecuteTime": {
     "end_time": "2020-05-25T03:45:43.999405Z",
     "start_time": "2020-05-25T03:45:43.959512Z"
    }
   },
   "outputs": [
    {
     "data": {
      "text/plain": [
       "array([[0, 1, 2],\n",
       "       [3, 4, 5]])"
      ]
     },
     "execution_count": 53,
     "metadata": {},
     "output_type": "execute_result"
    },
    {
     "data": {
      "text/plain": [
       "array([[ 7,  8,  9],\n",
       "       [10, 11, 12]])"
      ]
     },
     "execution_count": 53,
     "metadata": {},
     "output_type": "execute_result"
    },
    {
     "data": {
      "text/plain": [
       "array([[ 0,  1,  2],\n",
       "       [ 3,  4,  5],\n",
       "       [ 7,  8,  9],\n",
       "       [10, 11, 12]])"
      ]
     },
     "execution_count": 53,
     "metadata": {},
     "output_type": "execute_result"
    },
    {
     "data": {
      "text/plain": [
       "array([[ 0,  1,  2,  7,  8,  9],\n",
       "       [ 3,  4,  5, 10, 11, 12]])"
      ]
     },
     "execution_count": 53,
     "metadata": {},
     "output_type": "execute_result"
    },
    {
     "name": "stdout",
     "output_type": "stream",
     "text": [
      "[-2 -1  0  1  0  0  0  5  6]\n"
     ]
    },
    {
     "data": {
      "text/plain": [
       "matrix([[ 0,  1,  2],\n",
       "        [ 3,  4,  5],\n",
       "        [ 7,  8,  9],\n",
       "        [10, 11, 12]])"
      ]
     },
     "execution_count": 53,
     "metadata": {},
     "output_type": "execute_result"
    },
    {
     "data": {
      "text/plain": [
       "matrix([[ 0,  1,  2],\n",
       "        [ 3,  4,  5],\n",
       "        [ 7,  8,  9],\n",
       "        [10, 11, 12]])"
      ]
     },
     "execution_count": 53,
     "metadata": {},
     "output_type": "execute_result"
    },
    {
     "data": {
      "text/plain": [
       "matrix([[ 0,  1,  2,  7,  8,  9],\n",
       "        [ 3,  4,  5, 10, 11, 12]])"
      ]
     },
     "execution_count": 53,
     "metadata": {},
     "output_type": "execute_result"
    },
    {
     "data": {
      "text/plain": [
       "matrix([[ 0,  1,  2,  7,  8,  9],\n",
       "        [ 3,  4,  5, 10, 11, 12]])"
      ]
     },
     "execution_count": 53,
     "metadata": {},
     "output_type": "execute_result"
    },
    {
     "data": {
      "text/plain": [
       "matrix([[1, 2, 3, 4, 5, 6]])"
      ]
     },
     "execution_count": 53,
     "metadata": {},
     "output_type": "execute_result"
    },
    {
     "data": {
      "text/plain": [
       "matrix([[1],\n",
       "        [2],\n",
       "        [3],\n",
       "        [4],\n",
       "        [5],\n",
       "        [6]])"
      ]
     },
     "execution_count": 53,
     "metadata": {},
     "output_type": "execute_result"
    },
    {
     "data": {
      "text/plain": [
       "matrix([[1, 4],\n",
       "        [2, 5],\n",
       "        [3, 6]])"
      ]
     },
     "execution_count": 53,
     "metadata": {},
     "output_type": "execute_result"
    },
    {
     "data": {
      "text/plain": [
       "matrix([[1, 4],\n",
       "        [2, 5],\n",
       "        [3, 6]])"
      ]
     },
     "execution_count": 53,
     "metadata": {},
     "output_type": "execute_result"
    },
    {
     "data": {
      "text/plain": [
       "array([[1, 2, 3],\n",
       "       [4, 5, 6]])"
      ]
     },
     "execution_count": 53,
     "metadata": {},
     "output_type": "execute_result"
    }
   ],
   "source": [
    "arr1\n",
    "arr2\n",
    "\n",
    "np.r_[arr1, arr2] # 竖直合并，每个元素都是一row\n",
    "np.c_[arr1, arr2] # 水平合并，每个元素都是一column\n",
    "\n",
    "print( np.r_[-2:2:1, [0]*3, 5, 6] ) #参数可以是切片\n",
    "\n",
    "np.r_['r', arr1, arr2] #第一个参数可以是控制参数，转换为matrix\n",
    "np.r_['c', arr1, arr2] #第一个参数可以是控制参数，转换为matrix\n",
    "np.c_['r', arr1, arr2] #第一个参数可以是控制参数，转换为matrix\n",
    "np.c_['c', arr1, arr2] #第一个参数可以是控制参数，转换为matrix\n",
    "\n",
    "np.r_['r', [1,2,3], [4,5,6]] #第一个参数可以是控制参数，转换为matrix\n",
    "np.r_['c', [1,2,3], [4,5,6]]\n",
    "np.c_['r', [1,2,3], [4,5,6]] #第一个参数可以是控制参数，转换为matrix\n",
    "np.c_['c', [1,2,3], [4,5,6]]\n",
    "\n",
    "np.r_[np.array([1,2,3]).reshape((1,-1)), np.array([4,5,6]).reshape((1,-1))]\n"
   ]
  },
  {
   "cell_type": "markdown",
   "metadata": {},
   "source": [
    "第一个参数可以是控制参数，如果它写成 ‘a,b,c’ 的形式，其中\n",
    "\n",
    "a：代表轴，按「轴 a」来合并\n",
    "\n",
    "b：合并后数组维度至少是 b\n",
    "\n",
    "c：在第 c 维上做维度提升"
   ]
  },
  {
   "cell_type": "code",
   "execution_count": 54,
   "metadata": {
    "ExecuteTime": {
     "end_time": "2020-05-25T03:46:32.942656Z",
     "start_time": "2020-05-25T03:46:32.934677Z"
    }
   },
   "outputs": [
    {
     "name": "stdout",
     "output_type": "stream",
     "text": [
      "[[1]\n",
      " [2]\n",
      " [3]\n",
      " [4]\n",
      " [5]\n",
      " [6]]\n",
      "[[1 2 3]\n",
      " [4 5 6]]\n",
      "[[1 4]\n",
      " [2 5]\n",
      " [3 6]]\n",
      "[[1 2 3 4 5 6]]\n"
     ]
    }
   ],
   "source": [
    "print( np.r_['0,2,0', [1,2,3], [4,5,6]] )\n",
    "print( np.r_['0,2,1', [1,2,3], [4,5,6]] )\n",
    "print( np.r_['1,2,0', [1,2,3], [4,5,6]] )\n",
    "print( np.r_['1,2,1', [1,2,3], [4,5,6]] )"
   ]
  },
  {
   "cell_type": "markdown",
   "metadata": {},
   "source": [
    "![jupyter](./numpy_rc.jpg)"
   ]
  },
  {
   "cell_type": "markdown",
   "metadata": {},
   "source": [
    "### split"
   ]
  },
  {
   "cell_type": "markdown",
   "metadata": {},
   "source": [
    "使用「分裂」函数有两种选择\n",
    "\n",
    "1. 有通用的 split\n",
    "2. 有专门的 hsplit, vsplit"
   ]
  },
  {
   "cell_type": "code",
   "execution_count": 56,
   "metadata": {
    "ExecuteTime": {
     "end_time": "2020-05-25T05:44:15.837633Z",
     "start_time": "2020-05-25T05:44:15.832649Z"
    }
   },
   "outputs": [
    {
     "name": "stdout",
     "output_type": "stream",
     "text": [
      "[[ 0  1  2  3  4]\n",
      " [ 5  6  7  8  9]\n",
      " [10 11 12 13 14]\n",
      " [15 16 17 18 19]\n",
      " [20 21 22 23 24]]\n"
     ]
    }
   ],
   "source": [
    "arr = np.arange(25).reshape((5,5))\n",
    "print( arr )"
   ]
  },
  {
   "cell_type": "code",
   "execution_count": 59,
   "metadata": {
    "ExecuteTime": {
     "end_time": "2020-05-25T05:45:20.143543Z",
     "start_time": "2020-05-25T05:45:20.134568Z"
    }
   },
   "outputs": [
    {
     "data": {
      "text/plain": [
       "array([[0, 1, 2, 3, 4]])"
      ]
     },
     "execution_count": 59,
     "metadata": {},
     "output_type": "execute_result"
    },
    {
     "data": {
      "text/plain": [
       "array([[ 5,  6,  7,  8,  9],\n",
       "       [10, 11, 12, 13, 14]])"
      ]
     },
     "execution_count": 59,
     "metadata": {},
     "output_type": "execute_result"
    },
    {
     "data": {
      "text/plain": [
       "array([[15, 16, 17, 18, 19],\n",
       "       [20, 21, 22, 23, 24]])"
      ]
     },
     "execution_count": 59,
     "metadata": {},
     "output_type": "execute_result"
    }
   ],
   "source": [
    "first, second, third = np.split(arr,[1,3])\n",
    "first\n",
    "second\n",
    "third"
   ]
  },
  {
   "cell_type": "code",
   "execution_count": 60,
   "metadata": {
    "ExecuteTime": {
     "end_time": "2020-05-25T05:46:07.501450Z",
     "start_time": "2020-05-25T05:46:07.490479Z"
    }
   },
   "outputs": [
    {
     "data": {
      "text/plain": [
       "array([[ 0],\n",
       "       [ 5],\n",
       "       [10],\n",
       "       [15],\n",
       "       [20]])"
      ]
     },
     "execution_count": 60,
     "metadata": {},
     "output_type": "execute_result"
    },
    {
     "data": {
      "text/plain": [
       "array([[ 1,  2],\n",
       "       [ 6,  7],\n",
       "       [11, 12],\n",
       "       [16, 17],\n",
       "       [21, 22]])"
      ]
     },
     "execution_count": 60,
     "metadata": {},
     "output_type": "execute_result"
    },
    {
     "data": {
      "text/plain": [
       "array([[ 3,  4],\n",
       "       [ 8,  9],\n",
       "       [13, 14],\n",
       "       [18, 19],\n",
       "       [23, 24]])"
      ]
     },
     "execution_count": 60,
     "metadata": {},
     "output_type": "execute_result"
    }
   ],
   "source": [
    "first, second, third = np.split(arr,[1,3], axis=1)\n",
    "first\n",
    "second\n",
    "third"
   ]
  },
  {
   "cell_type": "markdown",
   "metadata": {},
   "source": [
    "![jupyter](./numpy_split.jpg)"
   ]
  },
  {
   "cell_type": "code",
   "execution_count": 61,
   "metadata": {
    "ExecuteTime": {
     "end_time": "2020-05-25T05:48:13.538037Z",
     "start_time": "2020-05-25T05:48:13.532053Z"
    }
   },
   "outputs": [
    {
     "data": {
      "text/plain": [
       "[array([[ 0],\n",
       "        [ 5],\n",
       "        [10],\n",
       "        [15],\n",
       "        [20]]), array([[ 1,  2],\n",
       "        [ 6,  7],\n",
       "        [11, 12],\n",
       "        [16, 17],\n",
       "        [21, 22]]), array([[ 3,  4],\n",
       "        [ 8,  9],\n",
       "        [13, 14],\n",
       "        [18, 19],\n",
       "        [23, 24]])]"
      ]
     },
     "execution_count": 61,
     "metadata": {},
     "output_type": "execute_result"
    }
   ],
   "source": [
    "np.hsplit(arr, [1,3])"
   ]
  },
  {
   "cell_type": "markdown",
   "metadata": {},
   "source": [
    "## 重复 (repeat) 和拼接 (tile)"
   ]
  },
  {
   "cell_type": "markdown",
   "metadata": {},
   "source": [
    "### repeat"
   ]
  },
  {
   "cell_type": "markdown",
   "metadata": {},
   "source": [
    "repeat() 复制的是数组的每一个元素，参数有几种设定方法：\n",
    "1. 一维数组：用标量和列表来复制元素的个数\n",
    "2. 多维数组：用标量和列表来复制元素的个数，用轴来控制复制的行和列"
   ]
  },
  {
   "cell_type": "code",
   "execution_count": 65,
   "metadata": {
    "ExecuteTime": {
     "end_time": "2020-05-25T06:02:25.345182Z",
     "start_time": "2020-05-25T06:02:25.329603Z"
    }
   },
   "outputs": [
    {
     "data": {
      "text/plain": [
       "array([0, 1, 2])"
      ]
     },
     "execution_count": 65,
     "metadata": {},
     "output_type": "execute_result"
    },
    {
     "data": {
      "text/plain": [
       "array([0, 0, 0, 0, 1, 1, 1, 1, 2, 2, 2, 2])"
      ]
     },
     "execution_count": 65,
     "metadata": {},
     "output_type": "execute_result"
    },
    {
     "data": {
      "text/plain": [
       "array([0, 0, 1, 1, 1, 2, 2, 2, 2])"
      ]
     },
     "execution_count": 65,
     "metadata": {},
     "output_type": "execute_result"
    }
   ],
   "source": [
    "import numpy as np\n",
    "\n",
    "arr = np.arange(3)\n",
    "arr\n",
    "arr.repeat(4)\n",
    "arr.repeat([2,3,4])"
   ]
  },
  {
   "cell_type": "code",
   "execution_count": 71,
   "metadata": {
    "ExecuteTime": {
     "end_time": "2020-05-25T06:06:56.457271Z",
     "start_time": "2020-05-25T06:06:56.443517Z"
    }
   },
   "outputs": [
    {
     "data": {
      "text/plain": [
       "array([[0, 1, 2],\n",
       "       [3, 4, 5]])"
      ]
     },
     "execution_count": 71,
     "metadata": {},
     "output_type": "execute_result"
    },
    {
     "data": {
      "text/plain": [
       "array([[0, 1, 2],\n",
       "       [0, 1, 2],\n",
       "       [3, 4, 5],\n",
       "       [3, 4, 5]])"
      ]
     },
     "execution_count": 71,
     "metadata": {},
     "output_type": "execute_result"
    },
    {
     "data": {
      "text/plain": [
       "array([[0, 0, 1, 1, 1, 2, 2, 2, 2],\n",
       "       [3, 3, 4, 4, 4, 5, 5, 5, 5]])"
      ]
     },
     "execution_count": 71,
     "metadata": {},
     "output_type": "execute_result"
    }
   ],
   "source": [
    "arr2d = np.arange(6).reshape((2,3))\n",
    "arr2d\n",
    "arr2d.repeat(2, axis = 0)\n",
    "arr2d.repeat([2,3,4], axis=1)"
   ]
  },
  {
   "cell_type": "markdown",
   "metadata": {},
   "source": [
    "### tile"
   ]
  },
  {
   "cell_type": "markdown",
   "metadata": {},
   "source": [
    "函数 tile() 复制的是数组本身，参数有几种设定方法：\n",
    "1. 标量：把数组当成一个元素，一列一列复制\n",
    "2. 形状：把数组当成一个元素，按形状复制"
   ]
  },
  {
   "cell_type": "code",
   "execution_count": 76,
   "metadata": {
    "ExecuteTime": {
     "end_time": "2020-05-25T06:10:12.144304Z",
     "start_time": "2020-05-25T06:10:12.126343Z"
    }
   },
   "outputs": [
    {
     "data": {
      "text/plain": [
       "array([[0, 1, 2],\n",
       "       [3, 4, 5]])"
      ]
     },
     "execution_count": 76,
     "metadata": {},
     "output_type": "execute_result"
    },
    {
     "data": {
      "text/plain": [
       "array([[0, 1, 2, 0, 1, 2],\n",
       "       [3, 4, 5, 3, 4, 5]])"
      ]
     },
     "execution_count": 76,
     "metadata": {},
     "output_type": "execute_result"
    },
    {
     "data": {
      "text/plain": [
       "array([[0, 1, 2, 0, 1, 2, 0, 1, 2],\n",
       "       [3, 4, 5, 3, 4, 5, 3, 4, 5],\n",
       "       [0, 1, 2, 0, 1, 2, 0, 1, 2],\n",
       "       [3, 4, 5, 3, 4, 5, 3, 4, 5]])"
      ]
     },
     "execution_count": 76,
     "metadata": {},
     "output_type": "execute_result"
    },
    {
     "data": {
      "text/plain": [
       "array([[0, 1, 2],\n",
       "       [3, 4, 5],\n",
       "       [0, 1, 2],\n",
       "       [3, 4, 5]])"
      ]
     },
     "execution_count": 76,
     "metadata": {},
     "output_type": "execute_result"
    }
   ],
   "source": [
    "arr2d = np.arange(6).reshape((2,3))\n",
    "arr2d\n",
    "np.tile(arr2d,2)\n",
    "np.tile(arr2d, (2,3))\n",
    "np.tile(arr2d,(2,1))"
   ]
  },
  {
   "cell_type": "markdown",
   "metadata": {},
   "source": [
    "## 其他操作 (sort, insert, delete, copy)"
   ]
  },
  {
   "cell_type": "markdown",
   "metadata": {},
   "source": [
    "### sort"
   ]
  },
  {
   "cell_type": "markdown",
   "metadata": {},
   "source": [
    "#### 直接排序"
   ]
  },
  {
   "cell_type": "code",
   "execution_count": 79,
   "metadata": {
    "ExecuteTime": {
     "end_time": "2020-05-25T06:44:48.818149Z",
     "start_time": "2020-05-25T06:44:48.805184Z"
    }
   },
   "outputs": [
    {
     "name": "stdout",
     "output_type": "stream",
     "text": [
      "Before sorting [5 3 2 6 1 4]\n",
      "After sorting [1 2 3 4 5 6]\n"
     ]
    },
    {
     "data": {
      "text/plain": [
       "array([6, 5, 4, 3, 2, 1])"
      ]
     },
     "execution_count": 79,
     "metadata": {},
     "output_type": "execute_result"
    }
   ],
   "source": [
    "arr = np.array([5,3,2,6,1,4])\n",
    "print( 'Before sorting', arr )\n",
    "arr.sort()\n",
    "print( 'After sorting', arr )\n",
    "arr[::-1]"
   ]
  },
  {
   "cell_type": "markdown",
   "metadata": {},
   "source": [
    "用来排序 numpy 用两种方式：\n",
    "1. arr.sort()\n",
    "2. np.sort( arr )\n",
    "\n",
    "第一种 sort 会改变 arr，第二种 sort 在排序时创建了 arr 的一个复制品，不会改变 arr。"
   ]
  },
  {
   "cell_type": "code",
   "execution_count": 87,
   "metadata": {
    "ExecuteTime": {
     "end_time": "2020-05-25T07:17:14.790052Z",
     "start_time": "2020-05-25T07:17:14.770112Z"
    }
   },
   "outputs": [
    {
     "data": {
      "text/plain": [
       "array([[39,  9, 25, 23],\n",
       "       [ 5, 27, 33, 20],\n",
       "       [26, 25, 13,  3]])"
      ]
     },
     "execution_count": 87,
     "metadata": {},
     "output_type": "execute_result"
    },
    {
     "data": {
      "text/plain": [
       "array([[ 5,  9, 25, 23],\n",
       "       [26, 27, 33, 20],\n",
       "       [39, 25, 13,  3]])"
      ]
     },
     "execution_count": 87,
     "metadata": {},
     "output_type": "execute_result"
    },
    {
     "data": {
      "text/plain": [
       "array([ 9, 25, 27])"
      ]
     },
     "execution_count": 87,
     "metadata": {},
     "output_type": "execute_result"
    },
    {
     "data": {
      "text/plain": [
       "array([[ 5,  9, 25, 23],\n",
       "       [26, 27, 33, 20],\n",
       "       [39, 25, 13,  3]])"
      ]
     },
     "execution_count": 87,
     "metadata": {},
     "output_type": "execute_result"
    },
    {
     "data": {
      "text/plain": [
       "array([[ 5,  9, 23, 25],\n",
       "       [20, 26, 27, 33],\n",
       "       [ 3, 13, 25, 39]])"
      ]
     },
     "execution_count": 87,
     "metadata": {},
     "output_type": "execute_result"
    }
   ],
   "source": [
    "arr = np.random.randint( 40, size=(3,4) )\n",
    "arr\n",
    "\n",
    "arr[:, 0].sort() \n",
    "arr\n",
    "\n",
    "np.sort(arr[:,1])\n",
    "arr\n",
    "\n",
    "\n",
    "arr.sort(axis=1)\n",
    "arr"
   ]
  },
  {
   "cell_type": "markdown",
   "metadata": {},
   "source": [
    "#### 间接排序"
   ]
  },
  {
   "cell_type": "code",
   "execution_count": 90,
   "metadata": {
    "ExecuteTime": {
     "end_time": "2020-05-25T07:29:31.216388Z",
     "start_time": "2020-05-25T07:29:31.195984Z"
    }
   },
   "outputs": [
    {
     "data": {
      "text/plain": [
       "array([1, 3, 4, 2, 0], dtype=int64)"
      ]
     },
     "execution_count": 90,
     "metadata": {},
     "output_type": "execute_result"
    },
    {
     "data": {
      "text/plain": [
       "array([ 60,  80,  91,  99, 100])"
      ]
     },
     "execution_count": 90,
     "metadata": {},
     "output_type": "execute_result"
    },
    {
     "data": {
      "text/plain": [
       "array([[29,  2, 29, 31],\n",
       "       [ 0, 39, 19, 22],\n",
       "       [ 4,  9, 16, 12]])"
      ]
     },
     "execution_count": 90,
     "metadata": {},
     "output_type": "execute_result"
    },
    {
     "data": {
      "text/plain": [
       "array([[ 2, 29, 29, 31],\n",
       "       [39,  0, 19, 22],\n",
       "       [ 9,  4, 16, 12]])"
      ]
     },
     "execution_count": 90,
     "metadata": {},
     "output_type": "execute_result"
    }
   ],
   "source": [
    "score = np.array([100, 60, 99, 80, 91])\n",
    "idx = score.argsort()\n",
    "idx\n",
    "score[idx]\n",
    "\n",
    "arr = np.random.randint( 40, size=(3,4) )\n",
    "arr\n",
    "arr[:, arr[0].argsort()]"
   ]
  },
  {
   "cell_type": "markdown",
   "metadata": {},
   "source": [
    "## 插入、删除"
   ]
  },
  {
   "cell_type": "markdown",
   "metadata": {},
   "source": [
    "1. 用insert()函数在某个特定位置之前插入元素\n",
    "2. 用delete()函数删除某些特定元素"
   ]
  },
  {
   "cell_type": "code",
   "execution_count": 92,
   "metadata": {
    "ExecuteTime": {
     "end_time": "2020-05-25T07:39:00.573913Z",
     "start_time": "2020-05-25T07:39:00.555270Z"
    }
   },
   "outputs": [
    {
     "data": {
      "text/plain": [
       "array([0, 1, 2, 3, 4, 5])"
      ]
     },
     "execution_count": 92,
     "metadata": {},
     "output_type": "execute_result"
    },
    {
     "data": {
      "text/plain": [
       "array([  0, 100,   1,   2,   3,   4,   5])"
      ]
     },
     "execution_count": 92,
     "metadata": {},
     "output_type": "execute_result"
    },
    {
     "data": {
      "text/plain": [
       "array([0, 1, 2, 3, 4, 5])"
      ]
     },
     "execution_count": 92,
     "metadata": {},
     "output_type": "execute_result"
    },
    {
     "data": {
      "text/plain": [
       "array([0, 2, 4, 5])"
      ]
     },
     "execution_count": 92,
     "metadata": {},
     "output_type": "execute_result"
    },
    {
     "data": {
      "text/plain": [
       "array([0, 1, 2, 3, 4, 5])"
      ]
     },
     "execution_count": 92,
     "metadata": {},
     "output_type": "execute_result"
    }
   ],
   "source": [
    "a = np.arange(6)\n",
    "a\n",
    "np.insert(a, 1, 100)\n",
    "a\n",
    "np.delete(a, [1,3])\n",
    "a"
   ]
  },
  {
   "cell_type": "markdown",
   "metadata": {},
   "source": [
    "## copy"
   ]
  },
  {
   "cell_type": "code",
   "execution_count": 94,
   "metadata": {
    "ExecuteTime": {
     "end_time": "2020-05-25T08:46:28.178431Z",
     "start_time": "2020-05-25T08:46:28.171412Z"
    }
   },
   "outputs": [
    {
     "name": "stdout",
     "output_type": "stream",
     "text": [
      "Before changing value, a is [0 1 2 3 4 5]\n",
      "Before changing value, a_copy is [0 1 2 3 4 5]\n",
      "After changing value, a_copy is [ 0  1  2  3  4 99]\n",
      "After changing value, a is [0 1 2 3 4 5]\n"
     ]
    }
   ],
   "source": [
    "a = np.arange(6)\n",
    "a_copy = a.copy()\n",
    "print( 'Before changing value, a is', a )\n",
    "print( 'Before changing value, a_copy is', a_copy )\n",
    "a_copy[-1] = 99\n",
    "print( 'After changing value, a_copy is', a_copy )\n",
    "print( 'After changing value, a is', a )"
   ]
  },
  {
   "cell_type": "markdown",
   "metadata": {},
   "source": [
    "# 数组运算"
   ]
  },
  {
   "cell_type": "markdown",
   "metadata": {},
   "source": [
    "1. 元素层面 (element-wise) 计算\n",
    "2. 线性代数 (linear algebra) 计算\n",
    "3. 元素整合 (element aggregation) 计算\n",
    "4. 广播机制 (broadcasting) 计算"
   ]
  },
  {
   "cell_type": "markdown",
   "metadata": {},
   "source": [
    "## element-wise"
   ]
  },
  {
   "cell_type": "markdown",
   "metadata": {},
   "source": [
    "1. 二元运算 (binary operation)：加减乘除\n",
    "2. 数学函数：倒数、平方、指数、对数\n",
    "3. 比较运算 (comparison)"
   ]
  },
  {
   "cell_type": "code",
   "execution_count": 96,
   "metadata": {
    "ExecuteTime": {
     "end_time": "2020-05-25T08:47:58.000159Z",
     "start_time": "2020-05-25T08:47:57.987193Z"
    }
   },
   "outputs": [
    {
     "data": {
      "text/plain": [
       "array([[1., 2., 3.],\n",
       "       [4., 5., 6.]])"
      ]
     },
     "execution_count": 96,
     "metadata": {},
     "output_type": "execute_result"
    },
    {
     "data": {
      "text/plain": [
       "array([[2., 2., 2.],\n",
       "       [2., 2., 2.]])"
      ]
     },
     "execution_count": 96,
     "metadata": {},
     "output_type": "execute_result"
    }
   ],
   "source": [
    "arr1 = np.array([[1., 2., 3.], [4., 5., 6.]])\n",
    "arr1\n",
    "arr2 = np.ones((2,3)) * 2\n",
    "arr2"
   ]
  },
  {
   "cell_type": "code",
   "execution_count": 101,
   "metadata": {
    "ExecuteTime": {
     "end_time": "2020-05-25T08:50:23.394518Z",
     "start_time": "2020-05-25T08:50:23.367554Z"
    }
   },
   "outputs": [
    {
     "data": {
      "text/plain": [
       "array([[4., 5., 6.],\n",
       "       [7., 8., 9.]])"
      ]
     },
     "execution_count": 101,
     "metadata": {},
     "output_type": "execute_result"
    },
    {
     "data": {
      "text/plain": [
       "array([[-1.,  0.,  1.],\n",
       "       [ 2.,  3.,  4.]])"
      ]
     },
     "execution_count": 101,
     "metadata": {},
     "output_type": "execute_result"
    },
    {
     "data": {
      "text/plain": [
       "array([[ 2.,  4.,  6.],\n",
       "       [ 8., 10., 12.]])"
      ]
     },
     "execution_count": 101,
     "metadata": {},
     "output_type": "execute_result"
    },
    {
     "data": {
      "text/plain": [
       "array([[0.5, 1. , 1.5],\n",
       "       [2. , 2.5, 3. ]])"
      ]
     },
     "execution_count": 101,
     "metadata": {},
     "output_type": "execute_result"
    },
    {
     "data": {
      "text/plain": [
       "array([[1.        , 0.5       , 0.33333333],\n",
       "       [0.25      , 0.2       , 0.16666667]])"
      ]
     },
     "execution_count": 101,
     "metadata": {},
     "output_type": "execute_result"
    },
    {
     "data": {
      "text/plain": [
       "array([[ 1.,  4.,  9.],\n",
       "       [16., 25., 36.]])"
      ]
     },
     "execution_count": 101,
     "metadata": {},
     "output_type": "execute_result"
    },
    {
     "data": {
      "text/plain": [
       "array([[  2.71828183,   7.3890561 ,  20.08553692],\n",
       "       [ 54.59815003, 148.4131591 , 403.42879349]])"
      ]
     },
     "execution_count": 101,
     "metadata": {},
     "output_type": "execute_result"
    },
    {
     "data": {
      "text/plain": [
       "array([[0.        , 0.69314718, 1.09861229],\n",
       "       [1.38629436, 1.60943791, 1.79175947]])"
      ]
     },
     "execution_count": 101,
     "metadata": {},
     "output_type": "execute_result"
    },
    {
     "data": {
      "text/plain": [
       "array([[False, False,  True],\n",
       "       [ True,  True,  True]])"
      ]
     },
     "execution_count": 101,
     "metadata": {},
     "output_type": "execute_result"
    },
    {
     "data": {
      "text/plain": [
       "array([[False, False, False],\n",
       "       [ True,  True,  True]])"
      ]
     },
     "execution_count": 101,
     "metadata": {},
     "output_type": "execute_result"
    },
    {
     "data": {
      "text/plain": [
       "False"
      ]
     },
     "execution_count": 101,
     "metadata": {},
     "output_type": "execute_result"
    }
   ],
   "source": [
    "arr1 + arr2 + 1\n",
    "arr1 - arr2\n",
    "arr1 * arr2\n",
    "arr1 / arr2\n",
    "\n",
    "1 / arr1\n",
    "arr1 ** 2\n",
    "np.exp(arr1)\n",
    "np.log(arr1)\n",
    "\n",
    "arr1 > arr2\n",
    "arr1 > 3\n",
    "np.allclose(arr1, arr2)"
   ]
  },
  {
   "cell_type": "markdown",
   "metadata": {},
   "source": [
    "## linear algebra"
   ]
  },
  {
   "cell_type": "markdown",
   "metadata": {},
   "source": [
    "如果你非要二维数组 arr2d 进项矩阵运算，那么可以通过调用以下函数来实现：\n",
    "1. A = np.mat(arr2d)\n",
    "2. A = np.asmatrix(arr2d)\n",
    "\n",
    "下面我们分别对「数组」和「矩阵」从创建、转置、求逆和相乘四个方面看看它们的同异。"
   ]
  },
  {
   "cell_type": "code",
   "execution_count": 104,
   "metadata": {
    "ExecuteTime": {
     "end_time": "2020-05-25T08:53:28.407835Z",
     "start_time": "2020-05-25T08:53:28.394870Z"
    }
   },
   "outputs": [
    {
     "data": {
      "text/plain": [
       "array([[1, 2],\n",
       "       [3, 1]])"
      ]
     },
     "execution_count": 104,
     "metadata": {},
     "output_type": "execute_result"
    },
    {
     "data": {
      "text/plain": [
       "matrix([[1, 2],\n",
       "        [3, 1]])"
      ]
     },
     "execution_count": 104,
     "metadata": {},
     "output_type": "execute_result"
    },
    {
     "data": {
      "text/plain": [
       "array([[1, 3],\n",
       "       [2, 1]])"
      ]
     },
     "execution_count": 104,
     "metadata": {},
     "output_type": "execute_result"
    },
    {
     "data": {
      "text/plain": [
       "array([[1, 3],\n",
       "       [2, 1]])"
      ]
     },
     "execution_count": 104,
     "metadata": {},
     "output_type": "execute_result"
    },
    {
     "data": {
      "text/plain": [
       "matrix([[1, 3],\n",
       "        [2, 1]])"
      ]
     },
     "execution_count": 104,
     "metadata": {},
     "output_type": "execute_result"
    }
   ],
   "source": [
    "arr2d = np.array([[1,2],[3,1]])\n",
    "arr2d\n",
    "A = np.mat(arr2d)\n",
    "A\n",
    "\n",
    "arr2d.T\n",
    "arr2d.transpose()\n",
    "A.T"
   ]
  },
  {
   "cell_type": "code",
   "execution_count": 107,
   "metadata": {
    "ExecuteTime": {
     "end_time": "2020-05-25T08:54:32.732615Z",
     "start_time": "2020-05-25T08:54:32.722617Z"
    }
   },
   "outputs": [
    {
     "data": {
      "text/plain": [
       "array([[-0.2,  0.4],\n",
       "       [ 0.6, -0.2]])"
      ]
     },
     "execution_count": 107,
     "metadata": {},
     "output_type": "execute_result"
    },
    {
     "data": {
      "text/plain": [
       "matrix([[-0.2,  0.4],\n",
       "        [ 0.6, -0.2]])"
      ]
     },
     "execution_count": 107,
     "metadata": {},
     "output_type": "execute_result"
    },
    {
     "data": {
      "text/plain": [
       "matrix([[-0.2,  0.4],\n",
       "        [ 0.6, -0.2]])"
      ]
     },
     "execution_count": 107,
     "metadata": {},
     "output_type": "execute_result"
    }
   ],
   "source": [
    "np.linalg.inv(arr2d)\n",
    "A.I\n",
    "A**-1"
   ]
  },
  {
   "cell_type": "code",
   "execution_count": 113,
   "metadata": {
    "ExecuteTime": {
     "end_time": "2020-05-25T09:17:01.057145Z",
     "start_time": "2020-05-25T09:17:01.040190Z"
    }
   },
   "outputs": [
    {
     "data": {
      "text/plain": [
       "array([[1, 2],\n",
       "       [3, 1]])"
      ]
     },
     "execution_count": 113,
     "metadata": {},
     "output_type": "execute_result"
    },
    {
     "data": {
      "text/plain": [
       "matrix([[1, 2],\n",
       "        [3, 1]])"
      ]
     },
     "execution_count": 113,
     "metadata": {},
     "output_type": "execute_result"
    },
    {
     "data": {
      "text/plain": [
       "array([1, 2])"
      ]
     },
     "execution_count": 113,
     "metadata": {},
     "output_type": "execute_result"
    },
    {
     "data": {
      "text/plain": [
       "array([[1, 4],\n",
       "       [3, 2]])"
      ]
     },
     "execution_count": 113,
     "metadata": {},
     "output_type": "execute_result"
    },
    {
     "data": {
      "text/plain": [
       "matrix([[5],\n",
       "        [5]])"
      ]
     },
     "execution_count": 113,
     "metadata": {},
     "output_type": "execute_result"
    },
    {
     "data": {
      "text/plain": [
       "array([[1, 4],\n",
       "       [9, 1]])"
      ]
     },
     "execution_count": 113,
     "metadata": {},
     "output_type": "execute_result"
    },
    {
     "data": {
      "text/plain": [
       "matrix([[7, 4],\n",
       "        [6, 7]])"
      ]
     },
     "execution_count": 113,
     "metadata": {},
     "output_type": "execute_result"
    }
   ],
   "source": [
    "arr2d\n",
    "A\n",
    "\n",
    "arr = np.array([1,2])\n",
    "arr\n",
    "b = np.asmatrix(arr).T\n",
    "\n",
    "arr2d*arr\n",
    "A*b\n",
    "\n",
    "arr2d*arr2d\n",
    "A*A\n"
   ]
  },
  {
   "cell_type": "code",
   "execution_count": 114,
   "metadata": {
    "ExecuteTime": {
     "end_time": "2020-05-25T09:17:08.121345Z",
     "start_time": "2020-05-25T09:17:08.110342Z"
    }
   },
   "outputs": [
    {
     "data": {
      "text/plain": [
       "array([[1, 2],\n",
       "       [3, 1]])"
      ]
     },
     "execution_count": 114,
     "metadata": {},
     "output_type": "execute_result"
    },
    {
     "data": {
      "text/plain": [
       "array([1, 2])"
      ]
     },
     "execution_count": 114,
     "metadata": {},
     "output_type": "execute_result"
    },
    {
     "data": {
      "text/plain": [
       "array([5, 5])"
      ]
     },
     "execution_count": 114,
     "metadata": {},
     "output_type": "execute_result"
    },
    {
     "data": {
      "text/plain": [
       "array([[7, 4],\n",
       "       [6, 7]])"
      ]
     },
     "execution_count": 114,
     "metadata": {},
     "output_type": "execute_result"
    }
   ],
   "source": [
    "arr2d\n",
    "arr\n",
    "\n",
    "np.dot(arr2d, arr)\n",
    "np.dot(arr2d, arr2d)"
   ]
  },
  {
   "cell_type": "markdown",
   "metadata": {},
   "source": [
    "## element aggragation"
   ]
  },
  {
   "cell_type": "markdown",
   "metadata": {},
   "source": [
    "在数组中，元素可以以不同方式整合 (aggregation)。拿求和 (sum) 函数来说，我们可以对数组\n",
    "1. 所有的元素求和\n",
    "2. 在某个轴 (axis) 上的元素求和"
   ]
  },
  {
   "cell_type": "code",
   "execution_count": 2,
   "metadata": {
    "ExecuteTime": {
     "end_time": "2020-05-26T00:57:01.748042Z",
     "start_time": "2020-05-26T00:57:01.419049Z"
    }
   },
   "outputs": [
    {
     "data": {
      "text/plain": [
       "array([[1, 2, 3],\n",
       "       [4, 5, 6]])"
      ]
     },
     "execution_count": 2,
     "metadata": {},
     "output_type": "execute_result"
    }
   ],
   "source": [
    "import numpy as np\n",
    "\n",
    "arr = np.arange(1,7).reshape((2,3))\n",
    "arr"
   ]
  },
  {
   "cell_type": "code",
   "execution_count": 6,
   "metadata": {
    "ExecuteTime": {
     "end_time": "2020-05-26T01:06:29.787376Z",
     "start_time": "2020-05-26T01:06:29.776407Z"
    }
   },
   "outputs": [
    {
     "name": "stdout",
     "output_type": "stream",
     "text": [
      "The total sum is 21\n",
      "The sum across rows is [5 7 9]\n",
      "The sum across columns is [ 6 15]\n"
     ]
    },
    {
     "data": {
      "text/plain": [
       "array([5, 7, 9])"
      ]
     },
     "execution_count": 6,
     "metadata": {},
     "output_type": "execute_result"
    },
    {
     "data": {
      "text/plain": [
       "array([[5, 7, 9]])"
      ]
     },
     "execution_count": 6,
     "metadata": {},
     "output_type": "execute_result"
    }
   ],
   "source": [
    "print( 'The total sum is', arr.sum() )\n",
    "print( 'The sum across rows is', arr.sum(axis=0) )\n",
    "print( 'The sum across columns is', arr.sum(axis=1) )\n",
    "\n",
    "arr.sum(axis = 0)\n",
    "arr.sum(axis=0, keepdims=True) # 保持维度"
   ]
  },
  {
   "cell_type": "markdown",
   "metadata": {},
   "source": [
    "![jupyter](./numpy_axis_03.jpg)"
   ]
  },
  {
   "cell_type": "markdown",
   "metadata": {},
   "source": [
    "![jupyter](./numpy_axis_sum_4dim.jpg)"
   ]
  },
  {
   "cell_type": "code",
   "execution_count": 9,
   "metadata": {
    "ExecuteTime": {
     "end_time": "2020-05-26T01:17:10.646978Z",
     "start_time": "2020-05-26T01:17:10.639997Z"
    }
   },
   "outputs": [
    {
     "name": "stdout",
     "output_type": "stream",
     "text": [
      "[[[[ 1  2  3]\n",
      "   [ 4  5  6]]\n",
      "\n",
      "  [[ 7  8  9]\n",
      "   [10 11 12]]]\n",
      "\n",
      "\n",
      " [[[13 14 15]\n",
      "   [16 17 18]]\n",
      "\n",
      "  [[19 20 21]\n",
      "   [22 23 24]]]]\n",
      "The total sum is 300\n",
      "The sum on axis0 is [[[14 16 18]\n",
      "  [20 22 24]]\n",
      "\n",
      " [[26 28 30]\n",
      "  [32 34 36]]]\n",
      "The sum on axis1 is [[[ 8 10 12]\n",
      "  [14 16 18]]\n",
      "\n",
      " [[32 34 36]\n",
      "  [38 40 42]]]\n",
      "The sum on axis2 is [[[ 5  7  9]\n",
      "  [17 19 21]]\n",
      "\n",
      " [[29 31 33]\n",
      "  [41 43 45]]]\n",
      "The sum on axis3 is [[[ 6 15]\n",
      "  [24 33]]\n",
      "\n",
      " [[42 51]\n",
      "  [60 69]]]\n"
     ]
    }
   ],
   "source": [
    "arr = np.arange(1,25).reshape((2,2,2,3))\n",
    "print(arr)\n",
    "\n",
    "\n",
    "print( 'The total sum is', arr.sum() )\n",
    "print( 'The sum on axis0 is', arr.sum(axis=0) )\n",
    "print( 'The sum on axis1 is', arr.sum(axis=1) )\n",
    "print( 'The sum on axis2 is', arr.sum(axis=2) )\n",
    "print( 'The sum on axis3 is', arr.sum(axis=3) )"
   ]
  },
  {
   "cell_type": "markdown",
   "metadata": {},
   "source": [
    "除了sum 函数，整合函数还包括 min, max, mean, std 和 cumsum，分别是求最小值、最大值、均值、标准差和累加，这些函数对数组里的元素整合方式和sum 函数相同，就不多讲了。总结来说我们可以对数组\n",
    "1. 所有的元素整合\n",
    "2. 在某个轴 (axis) 上的元素整合\n",
    "\n",
    "整合函数= {sum, min, max, mean, std, cumsum}"
   ]
  },
  {
   "cell_type": "markdown",
   "metadata": {},
   "source": [
    "## broadcasting"
   ]
  },
  {
   "cell_type": "markdown",
   "metadata": {},
   "source": [
    "当对两个形状不同的数组按元素操作时，可能会触发「广播机制」。具体做法，先适当复制元素使得这两个数组形状相同后再按元素操作，两个步骤：\n",
    "1. 广播轴 (broadcast axis)：比对两个数组的维度，将形状小的数组的维度 (轴) 补齐\n",
    "2. 复制元素：顺着补齐的轴，将形状小的数组里的元素复制，使得最终形状和另一个数组吻合"
   ]
  },
  {
   "cell_type": "code",
   "execution_count": 12,
   "metadata": {
    "ExecuteTime": {
     "end_time": "2020-05-26T01:43:57.039376Z",
     "start_time": "2020-05-26T01:43:57.024408Z"
    }
   },
   "outputs": [
    {
     "name": "stdout",
     "output_type": "stream",
     "text": [
      "\n",
      " 例一：标量和一维数组\n"
     ]
    },
    {
     "data": {
      "text/plain": [
       "array([0, 1, 2, 3, 4])"
      ]
     },
     "execution_count": 12,
     "metadata": {},
     "output_type": "execute_result"
    },
    {
     "data": {
      "text/plain": [
       "array([2, 3, 4, 5, 6])"
      ]
     },
     "execution_count": 12,
     "metadata": {},
     "output_type": "execute_result"
    },
    {
     "name": "stdout",
     "output_type": "stream",
     "text": [
      "\n",
      " 例二：一维数组和二维数组\n"
     ]
    },
    {
     "data": {
      "text/plain": [
       "array([[ 0,  1,  2],\n",
       "       [ 3,  4,  5],\n",
       "       [ 6,  7,  8],\n",
       "       [ 9, 10, 11]])"
      ]
     },
     "execution_count": 12,
     "metadata": {},
     "output_type": "execute_result"
    },
    {
     "data": {
      "text/plain": [
       "array([4.5, 5.5, 6.5])"
      ]
     },
     "execution_count": 12,
     "metadata": {},
     "output_type": "execute_result"
    },
    {
     "data": {
      "text/plain": [
       "array([[-4.5, -4.5, -4.5],\n",
       "       [-1.5, -1.5, -1.5],\n",
       "       [ 1.5,  1.5,  1.5],\n",
       "       [ 4.5,  4.5,  4.5]])"
      ]
     },
     "execution_count": 12,
     "metadata": {},
     "output_type": "execute_result"
    }
   ],
   "source": [
    "print('\\n 例一：标量和一维数组')\n",
    "arr = np.arange(5)\n",
    "arr\n",
    "arr + 2\n",
    "\n",
    "\n",
    "print('\\n 例二：一维数组和二维数组')\n",
    "arr = np.arange(12).reshape((4,3))\n",
    "arr\n",
    "arr.mean(axis=0)\n",
    "arr - arr.mean(axis=0)"
   ]
  },
  {
   "cell_type": "markdown",
   "metadata": {},
   "source": [
    "当我们对两个数组操作时，如果它们的形状\n",
    "1. 不相容 (incompatible)，广播机制不能进行\n",
    "2. 相容 (compatible)，广播机制可以进行\n",
    "\n",
    "因此，进行广播机制分两步：\n",
    "1. 检查两个数组形状是否兼容，即从两个形状元组最后一个元素，来检查：它们是否相等、是否有一个等于1\n",
    "2. 一旦它们形状兼容，确定两个数组的最终形状。"
   ]
  },
  {
   "cell_type": "code",
   "execution_count": 15,
   "metadata": {
    "ExecuteTime": {
     "end_time": "2020-05-26T01:53:23.224150Z",
     "start_time": "2020-05-26T01:53:23.212214Z"
    }
   },
   "outputs": [
    {
     "name": "stdout",
     "output_type": "stream",
     "text": [
      "\n",
      " 例三：维度一样，形状不一样\n"
     ]
    },
    {
     "data": {
      "text/plain": [
       "array([[1, 2, 3]])"
      ]
     },
     "execution_count": 15,
     "metadata": {},
     "output_type": "execute_result"
    },
    {
     "data": {
      "text/plain": [
       "array([[4],\n",
       "       [5],\n",
       "       [6]])"
      ]
     },
     "execution_count": 15,
     "metadata": {},
     "output_type": "execute_result"
    },
    {
     "name": "stdout",
     "output_type": "stream",
     "text": [
      "The shape of a is (1, 3)\n",
      "The shape of b is (3, 1)\n",
      "The shape of c is (3, 3)\n",
      "a is [[1 2 3]]\n",
      "b is [[4]\n",
      " [5]\n",
      " [6]]\n",
      "c = a + b = [[5 6 7]\n",
      " [6 7 8]\n",
      " [7 8 9]]\n"
     ]
    }
   ],
   "source": [
    "# 用个例子来应用以上广播机制规则\n",
    "print('\\n 例三：维度一样，形状不一样')\n",
    "\n",
    "a = np.array([[1,2,3]])\n",
    "b = np.array([[4],[5],[6]])\n",
    "a\n",
    "b\n",
    "print( 'The shape of a is', a.shape )\n",
    "print( 'The shape of b is', b.shape )\n",
    "\n",
    "c = a + b\n",
    "print( 'The shape of c is', c.shape )\n",
    "print( 'a is', a )\n",
    "print( 'b is', b )\n",
    "print( 'c = a + b =', c )"
   ]
  },
  {
   "cell_type": "markdown",
   "metadata": {},
   "source": [
    "1. 检查数组 a 和 b 形状是否兼容，从两个形状元组 (1, 3) 和 (3, 1)最后一个元素开始检查，发现它们都满足『有一个等于 1』的条件。\n",
    "2. 因此它们形状兼容，两个数组的最终形状为 (max(1,3), max(3,1)) = (3, 3)"
   ]
  },
  {
   "cell_type": "code",
   "execution_count": 18,
   "metadata": {
    "ExecuteTime": {
     "end_time": "2020-05-26T01:55:11.609794Z",
     "start_time": "2020-05-26T01:55:11.597826Z"
    }
   },
   "outputs": [
    {
     "name": "stdout",
     "output_type": "stream",
     "text": [
      "\n",
      " 例四：维度不一样\n"
     ]
    },
    {
     "data": {
      "text/plain": [
       "array([0, 1, 2, 3, 4])"
      ]
     },
     "execution_count": 18,
     "metadata": {},
     "output_type": "execute_result"
    },
    {
     "data": {
      "text/plain": [
       "array(2)"
      ]
     },
     "execution_count": 18,
     "metadata": {},
     "output_type": "execute_result"
    },
    {
     "name": "stdout",
     "output_type": "stream",
     "text": [
      "The dimension of a is 1 and the shape of a is (5,)\n",
      "The dimension of b is 0 and the shape of b is ()\n",
      "The dimension of c is 1 and the shape of c is (5,) \n",
      "\n",
      "a is [0 1 2 3 4]\n",
      "b is 2\n",
      "c = a + b = [2 3 4 5 6]\n"
     ]
    }
   ],
   "source": [
    "print('\\n 例四：维度不一样')\n",
    "\n",
    "a = np.arange(5)\n",
    "b = np.array(2)\n",
    "a\n",
    "b\n",
    "print( 'The dimension of a is', a.ndim, 'and the shape of a is', a.shape )\n",
    "print( 'The dimension of b is', b.ndim, 'and the shape of b is', b.shape )\n",
    "\n",
    "# 我们把缺失的维度用 1 补齐得到 (5,) 和 (1,)\n",
    "c = a + b\n",
    "print( 'The dimension of c is', c.ndim, 'and the shape of c is', c.shape, '\\n' )\n",
    "print( 'a is', a )\n",
    "print( 'b is', b )\n",
    "print( 'c = a + b =', c )"
   ]
  },
  {
   "cell_type": "code",
   "execution_count": 22,
   "metadata": {
    "ExecuteTime": {
     "end_time": "2020-05-26T01:59:53.043127Z",
     "start_time": "2020-05-26T01:59:53.000210Z"
    }
   },
   "outputs": [
    {
     "data": {
      "text/plain": [
       "array([[[1, 2, 3],\n",
       "        [4, 5, 6]]])"
      ]
     },
     "execution_count": 22,
     "metadata": {},
     "output_type": "execute_result"
    },
    {
     "data": {
      "text/plain": [
       "array([[1, 1, 1],\n",
       "       [2, 2, 2],\n",
       "       [3, 3, 3]])"
      ]
     },
     "execution_count": 22,
     "metadata": {},
     "output_type": "execute_result"
    },
    {
     "data": {
      "text/plain": [
       "array([[0, 1, 2]])"
      ]
     },
     "execution_count": 22,
     "metadata": {},
     "output_type": "execute_result"
    },
    {
     "data": {
      "text/plain": [
       "array([[0, 1, 2],\n",
       "       [3, 4, 5]])"
      ]
     },
     "execution_count": 22,
     "metadata": {},
     "output_type": "execute_result"
    },
    {
     "data": {
      "text/plain": [
       "array([[[ 0,  1,  2],\n",
       "        [ 3,  4,  5]],\n",
       "\n",
       "       [[ 6,  7,  8],\n",
       "        [ 9, 10, 11]]])"
      ]
     },
     "execution_count": 22,
     "metadata": {},
     "output_type": "execute_result"
    },
    {
     "data": {
      "text/plain": [
       "array([[[0, 1, 2]],\n",
       "\n",
       "       [[3, 4, 5]]])"
      ]
     },
     "execution_count": 22,
     "metadata": {},
     "output_type": "execute_result"
    },
    {
     "name": "stdout",
     "output_type": "stream",
     "text": [
      "The dimension of a is 3 and the shape of a is (1, 2, 3)\n",
      "The dimension of b1 is 2 and the shape of b1 is (3, 3) \n",
      "\n"
     ]
    },
    {
     "ename": "ValueError",
     "evalue": "operands could not be broadcast together with shapes (1,2,3) (3,3) ",
     "output_type": "error",
     "traceback": [
      "\u001b[1;31m---------------------------------------------------------------------------\u001b[0m",
      "\u001b[1;31mValueError\u001b[0m                                Traceback (most recent call last)",
      "\u001b[1;32m<ipython-input-22-251128bc43fa>\u001b[0m in \u001b[0;36m<module>\u001b[1;34m\u001b[0m\n\u001b[0;32m     16\u001b[0m \u001b[0mprint\u001b[0m\u001b[1;33m(\u001b[0m \u001b[1;34m'The dimension of a is'\u001b[0m\u001b[1;33m,\u001b[0m \u001b[0ma\u001b[0m\u001b[1;33m.\u001b[0m\u001b[0mndim\u001b[0m\u001b[1;33m,\u001b[0m \u001b[1;34m'and the shape of a is'\u001b[0m\u001b[1;33m,\u001b[0m \u001b[0ma\u001b[0m\u001b[1;33m.\u001b[0m\u001b[0mshape\u001b[0m \u001b[1;33m)\u001b[0m\u001b[1;33m\u001b[0m\u001b[1;33m\u001b[0m\u001b[0m\n\u001b[0;32m     17\u001b[0m \u001b[0mprint\u001b[0m\u001b[1;33m(\u001b[0m \u001b[1;34m'The dimension of b1 is'\u001b[0m\u001b[1;33m,\u001b[0m \u001b[0mb1\u001b[0m\u001b[1;33m.\u001b[0m\u001b[0mndim\u001b[0m\u001b[1;33m,\u001b[0m \u001b[1;34m'and the shape of b1 is'\u001b[0m\u001b[1;33m,\u001b[0m \u001b[0mb1\u001b[0m\u001b[1;33m.\u001b[0m\u001b[0mshape\u001b[0m\u001b[1;33m,\u001b[0m \u001b[1;34m'\\n'\u001b[0m\u001b[1;33m)\u001b[0m\u001b[1;33m\u001b[0m\u001b[1;33m\u001b[0m\u001b[0m\n\u001b[1;32m---> 18\u001b[1;33m \u001b[0mc1\u001b[0m \u001b[1;33m=\u001b[0m \u001b[0ma\u001b[0m \u001b[1;33m+\u001b[0m \u001b[0mb1\u001b[0m\u001b[1;33m\u001b[0m\u001b[1;33m\u001b[0m\u001b[0m\n\u001b[0m\u001b[0;32m     19\u001b[0m \u001b[0mprint\u001b[0m\u001b[1;33m(\u001b[0m \u001b[0mc1\u001b[0m \u001b[1;33m)\u001b[0m\u001b[1;33m\u001b[0m\u001b[1;33m\u001b[0m\u001b[0m\n\u001b[0;32m     20\u001b[0m \u001b[0mprint\u001b[0m\u001b[1;33m(\u001b[0m \u001b[0mc1\u001b[0m\u001b[1;33m.\u001b[0m\u001b[0mshape\u001b[0m \u001b[1;33m)\u001b[0m\u001b[1;33m\u001b[0m\u001b[1;33m\u001b[0m\u001b[0m\n",
      "\u001b[1;31mValueError\u001b[0m: operands could not be broadcast together with shapes (1,2,3) (3,3) "
     ]
    }
   ],
   "source": [
    "# 练习：\n",
    "\n",
    "a = np.array( [[[1,2,3], [4,5,6]]] )\n",
    "b1 = np.array( [[1,1,1], [2,2,2], [3,3,3]] )\n",
    "b2 = np.arange(3).reshape((1,3))\n",
    "b3 = np.arange(6).reshape((2,3))\n",
    "b4 = np.arange(12).reshape((2,2,3))\n",
    "b5 = np.arange(6).reshape((2,1,3))\n",
    "a\n",
    "b1\n",
    "b2\n",
    "b3\n",
    "b4\n",
    "b5"
   ]
  },
  {
   "cell_type": "code",
   "execution_count": 26,
   "metadata": {
    "ExecuteTime": {
     "end_time": "2020-05-26T02:02:16.144693Z",
     "start_time": "2020-05-26T02:02:16.124723Z"
    }
   },
   "outputs": [
    {
     "name": "stdout",
     "output_type": "stream",
     "text": [
      "The dimension of a is 3 and the shape of a is (1, 2, 3)\n",
      "The dimension of b1 is 2 and the shape of b1 is (3, 3) \n",
      "\n"
     ]
    },
    {
     "ename": "ValueError",
     "evalue": "operands could not be broadcast together with shapes (1,2,3) (3,3) ",
     "output_type": "error",
     "traceback": [
      "\u001b[1;31m---------------------------------------------------------------------------\u001b[0m",
      "\u001b[1;31mValueError\u001b[0m                                Traceback (most recent call last)",
      "\u001b[1;32m<ipython-input-26-984d153754c3>\u001b[0m in \u001b[0;36m<module>\u001b[1;34m\u001b[0m\n\u001b[0;32m      1\u001b[0m \u001b[0mprint\u001b[0m\u001b[1;33m(\u001b[0m \u001b[1;34m'The dimension of a is'\u001b[0m\u001b[1;33m,\u001b[0m \u001b[0ma\u001b[0m\u001b[1;33m.\u001b[0m\u001b[0mndim\u001b[0m\u001b[1;33m,\u001b[0m \u001b[1;34m'and the shape of a is'\u001b[0m\u001b[1;33m,\u001b[0m \u001b[0ma\u001b[0m\u001b[1;33m.\u001b[0m\u001b[0mshape\u001b[0m \u001b[1;33m)\u001b[0m\u001b[1;33m\u001b[0m\u001b[1;33m\u001b[0m\u001b[0m\n\u001b[0;32m      2\u001b[0m \u001b[0mprint\u001b[0m\u001b[1;33m(\u001b[0m \u001b[1;34m'The dimension of b1 is'\u001b[0m\u001b[1;33m,\u001b[0m \u001b[0mb1\u001b[0m\u001b[1;33m.\u001b[0m\u001b[0mndim\u001b[0m\u001b[1;33m,\u001b[0m \u001b[1;34m'and the shape of b1 is'\u001b[0m\u001b[1;33m,\u001b[0m \u001b[0mb1\u001b[0m\u001b[1;33m.\u001b[0m\u001b[0mshape\u001b[0m\u001b[1;33m,\u001b[0m \u001b[1;34m'\\n'\u001b[0m\u001b[1;33m)\u001b[0m\u001b[1;33m\u001b[0m\u001b[1;33m\u001b[0m\u001b[0m\n\u001b[1;32m----> 3\u001b[1;33m \u001b[0mc1\u001b[0m \u001b[1;33m=\u001b[0m \u001b[0ma\u001b[0m \u001b[1;33m+\u001b[0m \u001b[0mb1\u001b[0m\u001b[1;33m\u001b[0m\u001b[1;33m\u001b[0m\u001b[0m\n\u001b[0m\u001b[0;32m      4\u001b[0m \u001b[0ma\u001b[0m\u001b[1;33m\u001b[0m\u001b[1;33m\u001b[0m\u001b[0m\n\u001b[0;32m      5\u001b[0m \u001b[0mb1\u001b[0m\u001b[1;33m\u001b[0m\u001b[1;33m\u001b[0m\u001b[0m\n",
      "\u001b[1;31mValueError\u001b[0m: operands could not be broadcast together with shapes (1,2,3) (3,3) "
     ]
    }
   ],
   "source": [
    "print( 'The dimension of a is', a.ndim, 'and the shape of a is', a.shape )\n",
    "print( 'The dimension of b1 is', b1.ndim, 'and the shape of b1 is', b1.shape, '\\n')\n",
    "c1 = a + b1\n",
    "a\n",
    "b1\n",
    "c1\n",
    "print( c1.shape )\n",
    "# 形状从后往前看：元组最后一个都是 3，兼容；倒数第二个是 3 和 2，即不相等，也没有一个是 1，不兼容！"
   ]
  },
  {
   "cell_type": "code",
   "execution_count": 27,
   "metadata": {
    "ExecuteTime": {
     "end_time": "2020-05-26T02:02:28.919591Z",
     "start_time": "2020-05-26T02:02:28.902767Z"
    }
   },
   "outputs": [
    {
     "name": "stdout",
     "output_type": "stream",
     "text": [
      "The dimension of a is 3 and the shape of a is (1, 2, 3)\n",
      "The dimension of b2 is 2 and the shape of b2 is (1, 3) \n",
      "\n"
     ]
    },
    {
     "data": {
      "text/plain": [
       "array([[[1, 2, 3],\n",
       "        [4, 5, 6]]])"
      ]
     },
     "execution_count": 27,
     "metadata": {},
     "output_type": "execute_result"
    },
    {
     "data": {
      "text/plain": [
       "array([[0, 1, 2]])"
      ]
     },
     "execution_count": 27,
     "metadata": {},
     "output_type": "execute_result"
    },
    {
     "data": {
      "text/plain": [
       "array([[[1, 3, 5],\n",
       "        [4, 6, 8]]])"
      ]
     },
     "execution_count": 27,
     "metadata": {},
     "output_type": "execute_result"
    },
    {
     "name": "stdout",
     "output_type": "stream",
     "text": [
      "[[[1 3 5]\n",
      "  [4 6 8]]]\n",
      "(1, 2, 3)\n"
     ]
    }
   ],
   "source": [
    "print( 'The dimension of a is', a.ndim, 'and the shape of a is', a.shape )\n",
    "print( 'The dimension of b2 is', b2.ndim, 'and the shape of b2 is', b2.shape, '\\n' )\n",
    "c2 = a + b2\n",
    "a\n",
    "b2\n",
    "c2\n",
    "print( c2.shape )"
   ]
  },
  {
   "cell_type": "code",
   "execution_count": 28,
   "metadata": {
    "ExecuteTime": {
     "end_time": "2020-05-26T02:03:50.595609Z",
     "start_time": "2020-05-26T02:03:50.575284Z"
    }
   },
   "outputs": [
    {
     "name": "stdout",
     "output_type": "stream",
     "text": [
      "The dimension of a is 3 and the shape of a is (1, 2, 3)\n",
      "The dimension of b3 is 2 and the shape of b3 is (2, 3) \n",
      "\n"
     ]
    },
    {
     "data": {
      "text/plain": [
       "array([[[1, 2, 3],\n",
       "        [4, 5, 6]]])"
      ]
     },
     "execution_count": 28,
     "metadata": {},
     "output_type": "execute_result"
    },
    {
     "data": {
      "text/plain": [
       "array([[0, 1, 2],\n",
       "       [3, 4, 5]])"
      ]
     },
     "execution_count": 28,
     "metadata": {},
     "output_type": "execute_result"
    },
    {
     "data": {
      "text/plain": [
       "array([[[ 1,  3,  5],\n",
       "        [ 7,  9, 11]]])"
      ]
     },
     "execution_count": 28,
     "metadata": {},
     "output_type": "execute_result"
    },
    {
     "name": "stdout",
     "output_type": "stream",
     "text": [
      "(1, 2, 3)\n"
     ]
    }
   ],
   "source": [
    "print( 'The dimension of a is', a.ndim, 'and the shape of a is', a.shape )\n",
    "print( 'The dimension of b3 is', b3.ndim, 'and the shape of b3 is', b3.shape, '\\n' )\n",
    "c3 = a + b3\n",
    "a\n",
    "b3\n",
    "c3\n",
    "print( c3.shape )"
   ]
  },
  {
   "cell_type": "code",
   "execution_count": 29,
   "metadata": {
    "ExecuteTime": {
     "end_time": "2020-05-26T02:04:17.746251Z",
     "start_time": "2020-05-26T02:04:17.730581Z"
    }
   },
   "outputs": [
    {
     "name": "stdout",
     "output_type": "stream",
     "text": [
      "The dimension of a is 3 and the shape of a is (1, 2, 3)\n",
      "The dimension of b4 is 3 and the shape of b4 is (2, 2, 3) \n",
      "\n"
     ]
    },
    {
     "data": {
      "text/plain": [
       "array([[[1, 2, 3],\n",
       "        [4, 5, 6]]])"
      ]
     },
     "execution_count": 29,
     "metadata": {},
     "output_type": "execute_result"
    },
    {
     "data": {
      "text/plain": [
       "array([[[ 0,  1,  2],\n",
       "        [ 3,  4,  5]],\n",
       "\n",
       "       [[ 6,  7,  8],\n",
       "        [ 9, 10, 11]]])"
      ]
     },
     "execution_count": 29,
     "metadata": {},
     "output_type": "execute_result"
    },
    {
     "data": {
      "text/plain": [
       "array([[[ 1,  3,  5],\n",
       "        [ 7,  9, 11]],\n",
       "\n",
       "       [[ 7,  9, 11],\n",
       "        [13, 15, 17]]])"
      ]
     },
     "execution_count": 29,
     "metadata": {},
     "output_type": "execute_result"
    },
    {
     "name": "stdout",
     "output_type": "stream",
     "text": [
      "(2, 2, 3)\n"
     ]
    }
   ],
   "source": [
    "print( 'The dimension of a is', a.ndim, 'and the shape of a is', a.shape )\n",
    "print( 'The dimension of b4 is', b4.ndim, 'and the shape of b4 is', b4.shape, '\\n' )\n",
    "c4 = a + b4\n",
    "a\n",
    "b4\n",
    "c4\n",
    "print( c4.shape )"
   ]
  },
  {
   "cell_type": "code",
   "execution_count": 30,
   "metadata": {
    "ExecuteTime": {
     "end_time": "2020-05-26T02:04:28.824173Z",
     "start_time": "2020-05-26T02:04:28.803847Z"
    }
   },
   "outputs": [
    {
     "name": "stdout",
     "output_type": "stream",
     "text": [
      "The dimension of a is 3 and the shape of a is (1, 2, 3)\n",
      "The dimension of b5 is 3 and the shape of b5 is (2, 1, 3)\n"
     ]
    },
    {
     "data": {
      "text/plain": [
       "array([[[1, 2, 3],\n",
       "        [4, 5, 6]]])"
      ]
     },
     "execution_count": 30,
     "metadata": {},
     "output_type": "execute_result"
    },
    {
     "data": {
      "text/plain": [
       "array([[[0, 1, 2]],\n",
       "\n",
       "       [[3, 4, 5]]])"
      ]
     },
     "execution_count": 30,
     "metadata": {},
     "output_type": "execute_result"
    },
    {
     "data": {
      "text/plain": [
       "array([[[ 1,  3,  5],\n",
       "        [ 4,  6,  8]],\n",
       "\n",
       "       [[ 4,  6,  8],\n",
       "        [ 7,  9, 11]]])"
      ]
     },
     "execution_count": 30,
     "metadata": {},
     "output_type": "execute_result"
    },
    {
     "name": "stdout",
     "output_type": "stream",
     "text": [
      "(2, 2, 3)\n"
     ]
    }
   ],
   "source": [
    "print( 'The dimension of a is', a.ndim, 'and the shape of a is', a.shape )\n",
    "print( 'The dimension of b5 is', b5.ndim, 'and the shape of b5 is', b5.shape )\n",
    "c5 = a + b5\n",
    "a\n",
    "b5\n",
    "c5\n",
    "print( c5.shape )"
   ]
  }
 ],
 "metadata": {
  "kernelspec": {
   "display_name": "Python 3",
   "language": "python",
   "name": "python3"
  },
  "language_info": {
   "codemirror_mode": {
    "name": "ipython",
    "version": 3
   },
   "file_extension": ".py",
   "mimetype": "text/x-python",
   "name": "python",
   "nbconvert_exporter": "python",
   "pygments_lexer": "ipython3",
   "version": "3.7.6"
  },
  "toc": {
   "base_numbering": 1,
   "nav_menu": {},
   "number_sections": true,
   "sideBar": true,
   "skip_h1_title": false,
   "title_cell": "Table of Contents",
   "title_sidebar": "Contents",
   "toc_cell": false,
   "toc_position": {
    "height": "calc(100% - 180px)",
    "left": "10px",
    "top": "150px",
    "width": "251px"
   },
   "toc_section_display": true,
   "toc_window_display": true
  }
 },
 "nbformat": 4,
 "nbformat_minor": 2
}
